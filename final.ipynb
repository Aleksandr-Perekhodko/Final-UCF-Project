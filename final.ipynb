{
 "cells": [
  {
   "cell_type": "markdown",
   "id": "de371161",
   "metadata": {},
   "source": [
    "## Importing Libraries and Dependencies"
   ]
  },
  {
   "cell_type": "code",
   "execution_count": 1,
   "id": "c954107d",
   "metadata": {},
   "outputs": [],
   "source": [
    "\n",
    "import pandas as pd\n",
    "import seaborn as sns\n",
    "from sklearn.model_selection import train_test_split\n",
    "from sklearn.preprocessing import StandardScaler,OneHotEncoder,RobustScaler\n",
    "from pathlib import Path\n",
    "import matplotlib.pyplot as plt\n",
    "import numpy as np\n",
    "from sklearn.ensemble import RandomForestRegressor\n",
    "from sklearn.metrics import mean_squared_error\n",
    "import category_encoders as ce   #you many need to: pip install category_encoders\n",
    "import os\n",
    "import tensorflow as tf\n",
    "from tensorflow.keras.callbacks import ModelCheckpoint\n",
    "from sklearn.model_selection import RandomizedSearchCV\n",
    "from sklearn.metrics import r2_score\n",
    "from scipy import stats"
   ]
  },
  {
   "cell_type": "raw",
   "id": "570c920f",
   "metadata": {},
   "source": []
  },
  {
   "cell_type": "code",
   "execution_count": 2,
   "id": "bc1ba472",
   "metadata": {},
   "outputs": [],
   "source": [
    "feature_encoding = 1  #  0 for skiping categories in evaluation *** 1 for oneHotEncoder ***  2 for TargetEncoder *** 4 for Binary Encoder\n"
   ]
  },
  {
   "cell_type": "markdown",
   "id": "fd24cc2e",
   "metadata": {},
   "source": [
    "## Reading the file into a dataframe"
   ]
  },
  {
   "cell_type": "code",
   "execution_count": 3,
   "id": "5a10face",
   "metadata": {},
   "outputs": [
    {
     "name": "stdout",
     "output_type": "stream",
     "text": [
      " Data frame size is  (1460, 81)\n"
     ]
    },
    {
     "data": {
      "text/html": [
       "<div>\n",
       "<style scoped>\n",
       "    .dataframe tbody tr th:only-of-type {\n",
       "        vertical-align: middle;\n",
       "    }\n",
       "\n",
       "    .dataframe tbody tr th {\n",
       "        vertical-align: top;\n",
       "    }\n",
       "\n",
       "    .dataframe thead th {\n",
       "        text-align: right;\n",
       "    }\n",
       "</style>\n",
       "<table border=\"1\" class=\"dataframe\">\n",
       "  <thead>\n",
       "    <tr style=\"text-align: right;\">\n",
       "      <th></th>\n",
       "      <th>Id</th>\n",
       "      <th>MSSubClass</th>\n",
       "      <th>MSZoning</th>\n",
       "      <th>LotFrontage</th>\n",
       "      <th>LotArea</th>\n",
       "      <th>Street</th>\n",
       "      <th>Alley</th>\n",
       "      <th>LotShape</th>\n",
       "      <th>LandContour</th>\n",
       "      <th>Utilities</th>\n",
       "      <th>...</th>\n",
       "      <th>PoolArea</th>\n",
       "      <th>PoolQC</th>\n",
       "      <th>Fence</th>\n",
       "      <th>MiscFeature</th>\n",
       "      <th>MiscVal</th>\n",
       "      <th>MoSold</th>\n",
       "      <th>YrSold</th>\n",
       "      <th>SaleType</th>\n",
       "      <th>SaleCondition</th>\n",
       "      <th>SalePrice</th>\n",
       "    </tr>\n",
       "  </thead>\n",
       "  <tbody>\n",
       "    <tr>\n",
       "      <th>0</th>\n",
       "      <td>1</td>\n",
       "      <td>60</td>\n",
       "      <td>RL</td>\n",
       "      <td>65.0</td>\n",
       "      <td>8450</td>\n",
       "      <td>Pave</td>\n",
       "      <td>NaN</td>\n",
       "      <td>Reg</td>\n",
       "      <td>Lvl</td>\n",
       "      <td>AllPub</td>\n",
       "      <td>...</td>\n",
       "      <td>0</td>\n",
       "      <td>NaN</td>\n",
       "      <td>NaN</td>\n",
       "      <td>NaN</td>\n",
       "      <td>0</td>\n",
       "      <td>2</td>\n",
       "      <td>2008</td>\n",
       "      <td>WD</td>\n",
       "      <td>Normal</td>\n",
       "      <td>208500</td>\n",
       "    </tr>\n",
       "    <tr>\n",
       "      <th>1</th>\n",
       "      <td>2</td>\n",
       "      <td>20</td>\n",
       "      <td>RL</td>\n",
       "      <td>80.0</td>\n",
       "      <td>9600</td>\n",
       "      <td>Pave</td>\n",
       "      <td>NaN</td>\n",
       "      <td>Reg</td>\n",
       "      <td>Lvl</td>\n",
       "      <td>AllPub</td>\n",
       "      <td>...</td>\n",
       "      <td>0</td>\n",
       "      <td>NaN</td>\n",
       "      <td>NaN</td>\n",
       "      <td>NaN</td>\n",
       "      <td>0</td>\n",
       "      <td>5</td>\n",
       "      <td>2007</td>\n",
       "      <td>WD</td>\n",
       "      <td>Normal</td>\n",
       "      <td>181500</td>\n",
       "    </tr>\n",
       "    <tr>\n",
       "      <th>2</th>\n",
       "      <td>3</td>\n",
       "      <td>60</td>\n",
       "      <td>RL</td>\n",
       "      <td>68.0</td>\n",
       "      <td>11250</td>\n",
       "      <td>Pave</td>\n",
       "      <td>NaN</td>\n",
       "      <td>IR1</td>\n",
       "      <td>Lvl</td>\n",
       "      <td>AllPub</td>\n",
       "      <td>...</td>\n",
       "      <td>0</td>\n",
       "      <td>NaN</td>\n",
       "      <td>NaN</td>\n",
       "      <td>NaN</td>\n",
       "      <td>0</td>\n",
       "      <td>9</td>\n",
       "      <td>2008</td>\n",
       "      <td>WD</td>\n",
       "      <td>Normal</td>\n",
       "      <td>223500</td>\n",
       "    </tr>\n",
       "    <tr>\n",
       "      <th>3</th>\n",
       "      <td>4</td>\n",
       "      <td>70</td>\n",
       "      <td>RL</td>\n",
       "      <td>60.0</td>\n",
       "      <td>9550</td>\n",
       "      <td>Pave</td>\n",
       "      <td>NaN</td>\n",
       "      <td>IR1</td>\n",
       "      <td>Lvl</td>\n",
       "      <td>AllPub</td>\n",
       "      <td>...</td>\n",
       "      <td>0</td>\n",
       "      <td>NaN</td>\n",
       "      <td>NaN</td>\n",
       "      <td>NaN</td>\n",
       "      <td>0</td>\n",
       "      <td>2</td>\n",
       "      <td>2006</td>\n",
       "      <td>WD</td>\n",
       "      <td>Abnorml</td>\n",
       "      <td>140000</td>\n",
       "    </tr>\n",
       "    <tr>\n",
       "      <th>4</th>\n",
       "      <td>5</td>\n",
       "      <td>60</td>\n",
       "      <td>RL</td>\n",
       "      <td>84.0</td>\n",
       "      <td>14260</td>\n",
       "      <td>Pave</td>\n",
       "      <td>NaN</td>\n",
       "      <td>IR1</td>\n",
       "      <td>Lvl</td>\n",
       "      <td>AllPub</td>\n",
       "      <td>...</td>\n",
       "      <td>0</td>\n",
       "      <td>NaN</td>\n",
       "      <td>NaN</td>\n",
       "      <td>NaN</td>\n",
       "      <td>0</td>\n",
       "      <td>12</td>\n",
       "      <td>2008</td>\n",
       "      <td>WD</td>\n",
       "      <td>Normal</td>\n",
       "      <td>250000</td>\n",
       "    </tr>\n",
       "  </tbody>\n",
       "</table>\n",
       "<p>5 rows × 81 columns</p>\n",
       "</div>"
      ],
      "text/plain": [
       "   Id  MSSubClass MSZoning  LotFrontage  LotArea Street Alley LotShape  \\\n",
       "0   1          60       RL         65.0     8450   Pave   NaN      Reg   \n",
       "1   2          20       RL         80.0     9600   Pave   NaN      Reg   \n",
       "2   3          60       RL         68.0    11250   Pave   NaN      IR1   \n",
       "3   4          70       RL         60.0     9550   Pave   NaN      IR1   \n",
       "4   5          60       RL         84.0    14260   Pave   NaN      IR1   \n",
       "\n",
       "  LandContour Utilities  ... PoolArea PoolQC Fence MiscFeature MiscVal MoSold  \\\n",
       "0         Lvl    AllPub  ...        0    NaN   NaN         NaN       0      2   \n",
       "1         Lvl    AllPub  ...        0    NaN   NaN         NaN       0      5   \n",
       "2         Lvl    AllPub  ...        0    NaN   NaN         NaN       0      9   \n",
       "3         Lvl    AllPub  ...        0    NaN   NaN         NaN       0      2   \n",
       "4         Lvl    AllPub  ...        0    NaN   NaN         NaN       0     12   \n",
       "\n",
       "  YrSold  SaleType  SaleCondition  SalePrice  \n",
       "0   2008        WD         Normal     208500  \n",
       "1   2007        WD         Normal     181500  \n",
       "2   2008        WD         Normal     223500  \n",
       "3   2006        WD        Abnorml     140000  \n",
       "4   2008        WD         Normal     250000  \n",
       "\n",
       "[5 rows x 81 columns]"
      ]
     },
     "execution_count": 3,
     "metadata": {},
     "output_type": "execute_result"
    }
   ],
   "source": [
    "file_path = Path('./Resources/train.csv')\n",
    "train = pd.read_csv(file_path)\n",
    "print (f' Data frame size is  {train.shape}')\n",
    "train.head(5)"
   ]
  },
  {
   "cell_type": "code",
   "execution_count": 4,
   "id": "0667ec23",
   "metadata": {},
   "outputs": [
    {
     "name": "stdout",
     "output_type": "stream",
     "text": [
      " Data frame size is  (1459, 80)\n"
     ]
    },
    {
     "data": {
      "text/html": [
       "<div>\n",
       "<style scoped>\n",
       "    .dataframe tbody tr th:only-of-type {\n",
       "        vertical-align: middle;\n",
       "    }\n",
       "\n",
       "    .dataframe tbody tr th {\n",
       "        vertical-align: top;\n",
       "    }\n",
       "\n",
       "    .dataframe thead th {\n",
       "        text-align: right;\n",
       "    }\n",
       "</style>\n",
       "<table border=\"1\" class=\"dataframe\">\n",
       "  <thead>\n",
       "    <tr style=\"text-align: right;\">\n",
       "      <th></th>\n",
       "      <th>Id</th>\n",
       "      <th>MSSubClass</th>\n",
       "      <th>MSZoning</th>\n",
       "      <th>LotFrontage</th>\n",
       "      <th>LotArea</th>\n",
       "      <th>Street</th>\n",
       "      <th>Alley</th>\n",
       "      <th>LotShape</th>\n",
       "      <th>LandContour</th>\n",
       "      <th>Utilities</th>\n",
       "      <th>...</th>\n",
       "      <th>ScreenPorch</th>\n",
       "      <th>PoolArea</th>\n",
       "      <th>PoolQC</th>\n",
       "      <th>Fence</th>\n",
       "      <th>MiscFeature</th>\n",
       "      <th>MiscVal</th>\n",
       "      <th>MoSold</th>\n",
       "      <th>YrSold</th>\n",
       "      <th>SaleType</th>\n",
       "      <th>SaleCondition</th>\n",
       "    </tr>\n",
       "  </thead>\n",
       "  <tbody>\n",
       "    <tr>\n",
       "      <th>0</th>\n",
       "      <td>1461</td>\n",
       "      <td>20</td>\n",
       "      <td>RH</td>\n",
       "      <td>80.0</td>\n",
       "      <td>11622</td>\n",
       "      <td>Pave</td>\n",
       "      <td>NaN</td>\n",
       "      <td>Reg</td>\n",
       "      <td>Lvl</td>\n",
       "      <td>AllPub</td>\n",
       "      <td>...</td>\n",
       "      <td>120</td>\n",
       "      <td>0</td>\n",
       "      <td>NaN</td>\n",
       "      <td>MnPrv</td>\n",
       "      <td>NaN</td>\n",
       "      <td>0</td>\n",
       "      <td>6</td>\n",
       "      <td>2010</td>\n",
       "      <td>WD</td>\n",
       "      <td>Normal</td>\n",
       "    </tr>\n",
       "    <tr>\n",
       "      <th>1</th>\n",
       "      <td>1462</td>\n",
       "      <td>20</td>\n",
       "      <td>RL</td>\n",
       "      <td>81.0</td>\n",
       "      <td>14267</td>\n",
       "      <td>Pave</td>\n",
       "      <td>NaN</td>\n",
       "      <td>IR1</td>\n",
       "      <td>Lvl</td>\n",
       "      <td>AllPub</td>\n",
       "      <td>...</td>\n",
       "      <td>0</td>\n",
       "      <td>0</td>\n",
       "      <td>NaN</td>\n",
       "      <td>NaN</td>\n",
       "      <td>Gar2</td>\n",
       "      <td>12500</td>\n",
       "      <td>6</td>\n",
       "      <td>2010</td>\n",
       "      <td>WD</td>\n",
       "      <td>Normal</td>\n",
       "    </tr>\n",
       "    <tr>\n",
       "      <th>2</th>\n",
       "      <td>1463</td>\n",
       "      <td>60</td>\n",
       "      <td>RL</td>\n",
       "      <td>74.0</td>\n",
       "      <td>13830</td>\n",
       "      <td>Pave</td>\n",
       "      <td>NaN</td>\n",
       "      <td>IR1</td>\n",
       "      <td>Lvl</td>\n",
       "      <td>AllPub</td>\n",
       "      <td>...</td>\n",
       "      <td>0</td>\n",
       "      <td>0</td>\n",
       "      <td>NaN</td>\n",
       "      <td>MnPrv</td>\n",
       "      <td>NaN</td>\n",
       "      <td>0</td>\n",
       "      <td>3</td>\n",
       "      <td>2010</td>\n",
       "      <td>WD</td>\n",
       "      <td>Normal</td>\n",
       "    </tr>\n",
       "    <tr>\n",
       "      <th>3</th>\n",
       "      <td>1464</td>\n",
       "      <td>60</td>\n",
       "      <td>RL</td>\n",
       "      <td>78.0</td>\n",
       "      <td>9978</td>\n",
       "      <td>Pave</td>\n",
       "      <td>NaN</td>\n",
       "      <td>IR1</td>\n",
       "      <td>Lvl</td>\n",
       "      <td>AllPub</td>\n",
       "      <td>...</td>\n",
       "      <td>0</td>\n",
       "      <td>0</td>\n",
       "      <td>NaN</td>\n",
       "      <td>NaN</td>\n",
       "      <td>NaN</td>\n",
       "      <td>0</td>\n",
       "      <td>6</td>\n",
       "      <td>2010</td>\n",
       "      <td>WD</td>\n",
       "      <td>Normal</td>\n",
       "    </tr>\n",
       "    <tr>\n",
       "      <th>4</th>\n",
       "      <td>1465</td>\n",
       "      <td>120</td>\n",
       "      <td>RL</td>\n",
       "      <td>43.0</td>\n",
       "      <td>5005</td>\n",
       "      <td>Pave</td>\n",
       "      <td>NaN</td>\n",
       "      <td>IR1</td>\n",
       "      <td>HLS</td>\n",
       "      <td>AllPub</td>\n",
       "      <td>...</td>\n",
       "      <td>144</td>\n",
       "      <td>0</td>\n",
       "      <td>NaN</td>\n",
       "      <td>NaN</td>\n",
       "      <td>NaN</td>\n",
       "      <td>0</td>\n",
       "      <td>1</td>\n",
       "      <td>2010</td>\n",
       "      <td>WD</td>\n",
       "      <td>Normal</td>\n",
       "    </tr>\n",
       "  </tbody>\n",
       "</table>\n",
       "<p>5 rows × 80 columns</p>\n",
       "</div>"
      ],
      "text/plain": [
       "     Id  MSSubClass MSZoning  LotFrontage  LotArea Street Alley LotShape  \\\n",
       "0  1461          20       RH         80.0    11622   Pave   NaN      Reg   \n",
       "1  1462          20       RL         81.0    14267   Pave   NaN      IR1   \n",
       "2  1463          60       RL         74.0    13830   Pave   NaN      IR1   \n",
       "3  1464          60       RL         78.0     9978   Pave   NaN      IR1   \n",
       "4  1465         120       RL         43.0     5005   Pave   NaN      IR1   \n",
       "\n",
       "  LandContour Utilities  ... ScreenPorch PoolArea PoolQC  Fence MiscFeature  \\\n",
       "0         Lvl    AllPub  ...         120        0    NaN  MnPrv         NaN   \n",
       "1         Lvl    AllPub  ...           0        0    NaN    NaN        Gar2   \n",
       "2         Lvl    AllPub  ...           0        0    NaN  MnPrv         NaN   \n",
       "3         Lvl    AllPub  ...           0        0    NaN    NaN         NaN   \n",
       "4         HLS    AllPub  ...         144        0    NaN    NaN         NaN   \n",
       "\n",
       "  MiscVal MoSold  YrSold  SaleType  SaleCondition  \n",
       "0       0      6    2010        WD         Normal  \n",
       "1   12500      6    2010        WD         Normal  \n",
       "2       0      3    2010        WD         Normal  \n",
       "3       0      6    2010        WD         Normal  \n",
       "4       0      1    2010        WD         Normal  \n",
       "\n",
       "[5 rows x 80 columns]"
      ]
     },
     "execution_count": 4,
     "metadata": {},
     "output_type": "execute_result"
    }
   ],
   "source": [
    "file_path = Path('./Resources/test.csv')\n",
    "test = pd.read_csv(file_path)\n",
    "print (f' Data frame size is  {test.shape}')\n",
    "test.head(5)"
   ]
  },
  {
   "cell_type": "code",
   "execution_count": 5,
   "id": "d0125402",
   "metadata": {},
   "outputs": [
    {
     "data": {
      "text/plain": [
       "Index(['SalePrice'], dtype='object')"
      ]
     },
     "execution_count": 5,
     "metadata": {},
     "output_type": "execute_result"
    }
   ],
   "source": [
    "train_cols = train.columns\n",
    "test_cols = test.columns\n",
    "\n",
    "common_cols = train_cols.intersection(test_cols)\n",
    "train_not_test = train_cols.difference(test_cols)\n",
    "train_not_test"
   ]
  },
  {
   "cell_type": "code",
   "execution_count": 6,
   "id": "6355563f",
   "metadata": {},
   "outputs": [],
   "source": [
    "df = train.copy()"
   ]
  },
  {
   "cell_type": "markdown",
   "id": "8a4dd3d9",
   "metadata": {},
   "source": [
    "## Data Cleaning\n",
    "* step1 : chekcing NAs in columns\n",
    "* step2 : updating NAs or missing values\n",
    "* step3 : checking for outliers\n",
    "* step4 : bucketing\n"
   ]
  },
  {
   "cell_type": "markdown",
   "id": "f5d7164a",
   "metadata": {},
   "source": [
    "## Step1: Checking NAs in columns\n",
    "* 1-1: finding count of NAs in each column\n",
    "* 1-2: if number of NA is more than 10% then that column is removed.\n",
    "* 1-3: Checking Rows for NA"
   ]
  },
  {
   "cell_type": "code",
   "execution_count": 7,
   "id": "fcb2ba12",
   "metadata": {},
   "outputs": [
    {
     "name": "stdout",
     "output_type": "stream",
     "text": [
      "Part 1-1: Here are the count of NAs in columns\n"
     ]
    },
    {
     "data": {
      "text/html": [
       "<div>\n",
       "<style scoped>\n",
       "    .dataframe tbody tr th:only-of-type {\n",
       "        vertical-align: middle;\n",
       "    }\n",
       "\n",
       "    .dataframe tbody tr th {\n",
       "        vertical-align: top;\n",
       "    }\n",
       "\n",
       "    .dataframe thead th {\n",
       "        text-align: right;\n",
       "    }\n",
       "</style>\n",
       "<table border=\"1\" class=\"dataframe\">\n",
       "  <thead>\n",
       "    <tr style=\"text-align: right;\">\n",
       "      <th></th>\n",
       "      <th>0</th>\n",
       "    </tr>\n",
       "  </thead>\n",
       "  <tbody>\n",
       "    <tr>\n",
       "      <th>LotFrontage</th>\n",
       "      <td>259</td>\n",
       "    </tr>\n",
       "    <tr>\n",
       "      <th>Alley</th>\n",
       "      <td>1369</td>\n",
       "    </tr>\n",
       "    <tr>\n",
       "      <th>MasVnrType</th>\n",
       "      <td>8</td>\n",
       "    </tr>\n",
       "    <tr>\n",
       "      <th>MasVnrArea</th>\n",
       "      <td>8</td>\n",
       "    </tr>\n",
       "    <tr>\n",
       "      <th>BsmtQual</th>\n",
       "      <td>37</td>\n",
       "    </tr>\n",
       "    <tr>\n",
       "      <th>BsmtCond</th>\n",
       "      <td>37</td>\n",
       "    </tr>\n",
       "    <tr>\n",
       "      <th>BsmtExposure</th>\n",
       "      <td>38</td>\n",
       "    </tr>\n",
       "    <tr>\n",
       "      <th>BsmtFinType1</th>\n",
       "      <td>37</td>\n",
       "    </tr>\n",
       "    <tr>\n",
       "      <th>BsmtFinType2</th>\n",
       "      <td>38</td>\n",
       "    </tr>\n",
       "    <tr>\n",
       "      <th>Electrical</th>\n",
       "      <td>1</td>\n",
       "    </tr>\n",
       "    <tr>\n",
       "      <th>FireplaceQu</th>\n",
       "      <td>690</td>\n",
       "    </tr>\n",
       "    <tr>\n",
       "      <th>GarageType</th>\n",
       "      <td>81</td>\n",
       "    </tr>\n",
       "    <tr>\n",
       "      <th>GarageYrBlt</th>\n",
       "      <td>81</td>\n",
       "    </tr>\n",
       "    <tr>\n",
       "      <th>GarageFinish</th>\n",
       "      <td>81</td>\n",
       "    </tr>\n",
       "    <tr>\n",
       "      <th>GarageQual</th>\n",
       "      <td>81</td>\n",
       "    </tr>\n",
       "    <tr>\n",
       "      <th>GarageCond</th>\n",
       "      <td>81</td>\n",
       "    </tr>\n",
       "    <tr>\n",
       "      <th>PoolQC</th>\n",
       "      <td>1453</td>\n",
       "    </tr>\n",
       "    <tr>\n",
       "      <th>Fence</th>\n",
       "      <td>1179</td>\n",
       "    </tr>\n",
       "    <tr>\n",
       "      <th>MiscFeature</th>\n",
       "      <td>1406</td>\n",
       "    </tr>\n",
       "  </tbody>\n",
       "</table>\n",
       "</div>"
      ],
      "text/plain": [
       "                 0\n",
       "LotFrontage    259\n",
       "Alley         1369\n",
       "MasVnrType       8\n",
       "MasVnrArea       8\n",
       "BsmtQual        37\n",
       "BsmtCond        37\n",
       "BsmtExposure    38\n",
       "BsmtFinType1    37\n",
       "BsmtFinType2    38\n",
       "Electrical       1\n",
       "FireplaceQu    690\n",
       "GarageType      81\n",
       "GarageYrBlt     81\n",
       "GarageFinish    81\n",
       "GarageQual      81\n",
       "GarageCond      81\n",
       "PoolQC        1453\n",
       "Fence         1179\n",
       "MiscFeature   1406"
      ]
     },
     "execution_count": 7,
     "metadata": {},
     "output_type": "execute_result"
    }
   ],
   "source": [
    "df_NA_sum = pd.DataFrame(df.isna().sum())\n",
    "Columns_NA_COUNT = df_NA_sum.loc[df_NA_sum[0]>0]\n",
    "print('Part 1-1: Here are the count of NAs in columns')\n",
    "Columns_NA_COUNT"
   ]
  },
  {
   "cell_type": "code",
   "execution_count": 8,
   "id": "fa3db32d",
   "metadata": {},
   "outputs": [
    {
     "name": "stdout",
     "output_type": "stream",
     "text": [
      "here is the new dataframe size: (1460, 75)\n",
      "Here is the list of dropped columns: ['Alley', 'Fence', 'FireplaceQu', 'LotFrontage', 'MiscFeature', 'PoolQC']\n"
     ]
    }
   ],
   "source": [
    "perc = 10 # if more than this perc, the columns is dropped.\n",
    "min_count =  int(((100-perc)/100)*df.shape[0])\n",
    "df_NAcolumnsdropped = df.dropna( axis=1, thresh=min_count)\n",
    "print(f'here is the new dataframe size: {df_NAcolumnsdropped.shape}')\n",
    "\n",
    "dropped_columns = df.columns.difference(df_NAcolumnsdropped.columns).tolist()\n",
    "print(f'Here is the list of dropped columns: {dropped_columns}')"
   ]
  },
  {
   "cell_type": "markdown",
   "id": "076f04b2",
   "metadata": {},
   "source": [
    "#### checking for NAs in rows"
   ]
  },
  {
   "cell_type": "code",
   "execution_count": 9,
   "id": "c5bb7942",
   "metadata": {},
   "outputs": [
    {
     "name": "stdout",
     "output_type": "stream",
     "text": [
      "Here is the number of rows that have NA values: 122 and will be dropped\n",
      "8.356164383561644 percent of data is dropped\n"
     ]
    },
    {
     "data": {
      "text/plain": [
       "(1338, 75)"
      ]
     },
     "execution_count": 9,
     "metadata": {},
     "output_type": "execute_result"
    }
   ],
   "source": [
    "\n",
    "print(f'Here is the number of rows that have NA values: {sum(df_NAcolumnsdropped.isnull().sum(axis=1)>0)} and will be dropped')\n",
    "print(f'{sum(df_NAcolumnsdropped.isnull().sum(axis=1)>0)/len(df_NAcolumnsdropped)*100} percent of data is dropped')\n",
    "df_NArowsdropped = df_NAcolumnsdropped.dropna(axis=0)\n",
    "df_NArowsdropped.shape\n"
   ]
  },
  {
   "cell_type": "code",
   "execution_count": 10,
   "id": "12b6a387",
   "metadata": {},
   "outputs": [
    {
     "name": "stdout",
     "output_type": "stream",
     "text": [
      "Verifying if the datatypes are correct\n",
      "Expection is to have 35 numerical columns and we have 35\n"
     ]
    }
   ],
   "source": [
    "print(f'Verifying if the datatypes are correct')\n",
    "number_of_numerical_columns = len(df_NArowsdropped.select_dtypes('int64').columns)\n",
    "print(f'Expection is to have 35 numerical columns and we have {number_of_numerical_columns}')"
   ]
  },
  {
   "cell_type": "code",
   "execution_count": 11,
   "id": "5e473162",
   "metadata": {},
   "outputs": [
    {
     "name": "stderr",
     "output_type": "stream",
     "text": [
      "C:\\Users\\14078\\anaconda3\\envs\\mlenv\\lib\\site-packages\\ipykernel_launcher.py:3: RuntimeWarning: More than 20 figures have been opened. Figures created through the pyplot interface (`matplotlib.pyplot.figure`) are retained until explicitly closed and may consume too much memory. (To control this warning, see the rcParam `figure.max_open_warning`).\n",
      "  This is separate from the ipykernel package so we can avoid doing imports until\n"
     ]
    },
    {
     "data": {
      "image/png": "[encoded data removed]",
      "text/plain": [
       "<Figure size 432x288 with 1 Axes>"
      ]
     },
     "metadata": {
      "needs_background": "light"
     },
     "output_type": "display_data"
    },
    {
     "data": {
      "image/png": "[encoded data removed]",
      "text/plain": [
       "<Figure size 432x288 with 1 Axes>"
      ]
     },
     "metadata": {
      "needs_background": "light"
     },
     "output_type": "display_data"
    },
    {
     "data": {
      "image/png": "[encoded data removed]",
      "text/plain": [
       "<Figure size 432x288 with 1 Axes>"
      ]
     },
     "metadata": {
      "needs_background": "light"
     },
     "output_type": "display_data"
    },
    {
     "data": {
      "image/png": "[encoded data removed]",
      "text/plain": [
       "<Figure size 432x288 with 1 Axes>"
      ]
     },
     "metadata": {
      "needs_background": "light"
     },
     "output_type": "display_data"
    },
    {
     "data": {
      "image/png": "[encoded data removed]",
      "text/plain": [
       "<Figure size 432x288 with 1 Axes>"
      ]
     },
     "metadata": {
      "needs_background": "light"
     },
     "output_type": "display_data"
    },
    {
     "data": {
      "image/png": "[encoded data removed]",
      "text/plain": [
       "<Figure size 432x288 with 1 Axes>"
      ]
     },
     "metadata": {
      "needs_background": "light"
     },
     "output_type": "display_data"
    },
    {
     "data": {
      "image/png": "[encoded data removed]",
      "text/plain": [
       "<Figure size 432x288 with 1 Axes>"
      ]
     },
     "metadata": {
      "needs_background": "light"
     },
     "output_type": "display_data"
    },
    {
     "data": {
      "image/png": "[encoded data removed]",
      "text/plain": [
       "<Figure size 432x288 with 1 Axes>"
      ]
     },
     "metadata": {
      "needs_background": "light"
     },
     "output_type": "display_data"
    },
    {
     "data": {
      "image/png": "[encoded data removed]",
      "text/plain": [
       "<Figure size 432x288 with 1 Axes>"
      ]
     },
     "metadata": {
      "needs_background": "light"
     },
     "output_type": "display_data"
    },
    {
     "data": {
      "image/png": "[encoded data removed]",
      "text/plain": [
       "<Figure size 432x288 with 1 Axes>"
      ]
     },
     "metadata": {
      "needs_background": "light"
     },
     "output_type": "display_data"
    },
    {
     "data": {
      "image/png": "[encoded data removed]",
      "text/plain": [
       "<Figure size 432x288 with 1 Axes>"
      ]
     },
     "metadata": {
      "needs_background": "light"
     },
     "output_type": "display_data"
    },
    {
     "data": {
      "image/png": "[encoded data removed]",
      "text/plain": [
       "<Figure size 432x288 with 1 Axes>"
      ]
     },
     "metadata": {
      "needs_background": "light"
     },
     "output_type": "display_data"
    },
    {
     "data": {
      "image/png": "[encoded data removed]",
      "text/plain": [
       "<Figure size 432x288 with 1 Axes>"
      ]
     },
     "metadata": {
      "needs_background": "light"
     },
     "output_type": "display_data"
    },
    {
     "data": {
      "image/png": "[encoded data removed]",
      "text/plain": [
       "<Figure size 432x288 with 1 Axes>"
      ]
     },
     "metadata": {
      "needs_background": "light"
     },
     "output_type": "display_data"
    },
    {
     "data": {
      "image/png": "[encoded data removed]",
      "text/plain": [
       "<Figure size 432x288 with 1 Axes>"
      ]
     },
     "metadata": {
      "needs_background": "light"
     },
     "output_type": "display_data"
    },
    {
     "data": {
      "image/png": "[encoded data removed]",
      "text/plain": [
       "<Figure size 432x288 with 1 Axes>"
      ]
     },
     "metadata": {
      "needs_background": "light"
     },
     "output_type": "display_data"
    },
    {
     "data": {
      "image/png": "[encoded data removed]",
      "text/plain": [
       "<Figure size 432x288 with 1 Axes>"
      ]
     },
     "metadata": {
      "needs_background": "light"
     },
     "output_type": "display_data"
    },
    {
     "data": {
      "image/png": "[encoded data removed]",
      "text/plain": [
       "<Figure size 432x288 with 1 Axes>"
      ]
     },
     "metadata": {
      "needs_background": "light"
     },
     "output_type": "display_data"
    },
    {
     "data": {
      "image/png": "[encoded data removed]",
      "text/plain": [
       "<Figure size 432x288 with 1 Axes>"
      ]
     },
     "metadata": {
      "needs_background": "light"
     },
     "output_type": "display_data"
    },
    {
     "data": {
      "image/png": "[encoded data removed]",
      "text/plain": [
       "<Figure size 432x288 with 1 Axes>"
      ]
     },
     "metadata": {
      "needs_background": "light"
     },
     "output_type": "display_data"
    },
    {
     "data": {
      "image/png": "[encoded data removed]",
      "text/plain": [
       "<Figure size 432x288 with 1 Axes>"
      ]
     },
     "metadata": {
      "needs_background": "light"
     },
     "output_type": "display_data"
    },
    {
     "data": {
      "image/png": "[encoded data removed]",
      "text/plain": [
       "<Figure size 432x288 with 1 Axes>"
      ]
     },
     "metadata": {
      "needs_background": "light"
     },
     "output_type": "display_data"
    },
    {
     "data": {
      "image/png": "[encoded data removed]",
      "text/plain": [
       "<Figure size 432x288 with 1 Axes>"
      ]
     },
     "metadata": {
      "needs_background": "light"
     },
     "output_type": "display_data"
    },
    {
     "data": {
      "image/png": "[encoded data removed]",
      "text/plain": [
       "<Figure size 432x288 with 1 Axes>"
      ]
     },
     "metadata": {
      "needs_background": "light"
     },
     "output_type": "display_data"
    },
    {
     "data": {
      "image/png": "[encoded data removed]",
      "text/plain": [
       "<Figure size 432x288 with 1 Axes>"
      ]
     },
     "metadata": {
      "needs_background": "light"
     },
     "output_type": "display_data"
    },
    {
     "data": {
      "image/png": "[encoded data removed]",
      "text/plain": [
       "<Figure size 432x288 with 1 Axes>"
      ]
     },
     "metadata": {
      "needs_background": "light"
     },
     "output_type": "display_data"
    },
    {
     "data": {
      "image/png": "[encoded data removed]",
      "text/plain": [
       "<Figure size 432x288 with 1 Axes>"
      ]
     },
     "metadata": {
      "needs_background": "light"
     },
     "output_type": "display_data"
    },
    {
     "data": {
      "image/png": "[encoded data removed]",
      "text/plain": [
       "<Figure size 432x288 with 1 Axes>"
      ]
     },
     "metadata": {
      "needs_background": "light"
     },
     "output_type": "display_data"
    },
    {
     "data": {
      "image/png": "[encoded data removed]",
      "text/plain": [
       "<Figure size 432x288 with 1 Axes>"
      ]
     },
     "metadata": {
      "needs_background": "light"
     },
     "output_type": "display_data"
    },
    {
     "data": {
      "image/png": "[encoded data removed]",
      "text/plain": [
       "<Figure size 432x288 with 1 Axes>"
      ]
     },
     "metadata": {
      "needs_background": "light"
     },
     "output_type": "display_data"
    },
    {
     "data": {
      "image/png": "[encoded data removed]",
      "text/plain": [
       "<Figure size 432x288 with 1 Axes>"
      ]
     },
     "metadata": {
      "needs_background": "light"
     },
     "output_type": "display_data"
    },
    {
     "data": {
      "image/png": "[encoded data removed]",
      "text/plain": [
       "<Figure size 432x288 with 1 Axes>"
      ]
     },
     "metadata": {
      "needs_background": "light"
     },
     "output_type": "display_data"
    },
    {
     "data": {
      "image/png": "[encoded data removed]",
      "text/plain": [
       "<Figure size 432x288 with 1 Axes>"
      ]
     },
     "metadata": {
      "needs_background": "light"
     },
     "output_type": "display_data"
    },
    {
     "data": {
      "image/png": "[encoded data removed]",
      "text/plain": [
       "<Figure size 432x288 with 1 Axes>"
      ]
     },
     "metadata": {
      "needs_background": "light"
     },
     "output_type": "display_data"
    },
    {
     "data": {
      "image/png": "[encoded data removed]",
      "text/plain": [
       "<Figure size 432x288 with 1 Axes>"
      ]
     },
     "metadata": {
      "needs_background": "light"
     },
     "output_type": "display_data"
    },
    {
     "data": {
      "image/png": "[encoded data removed]",
      "text/plain": [
       "<Figure size 432x288 with 1 Axes>"
      ]
     },
     "metadata": {
      "needs_background": "light"
     },
     "output_type": "display_data"
    },
    {
     "data": {
      "image/png": "[encoded data removed]",
      "text/plain": [
       "<Figure size 432x288 with 1 Axes>"
      ]
     },
     "metadata": {
      "needs_background": "light"
     },
     "output_type": "display_data"
    },
    {
     "data": {
      "image/png": "[encoded data removed]",
      "text/plain": [
       "<Figure size 432x288 with 1 Axes>"
      ]
     },
     "metadata": {
      "needs_background": "light"
     },
     "output_type": "display_data"
    },
    {
     "data": {
      "image/png": "[encoded data removed]",
      "text/plain": [
       "<Figure size 432x288 with 1 Axes>"
      ]
     },
     "metadata": {
      "needs_background": "light"
     },
     "output_type": "display_data"
    },
    {
     "data": {
      "image/png": "[encoded data removed]",
      "text/plain": [
       "<Figure size 432x288 with 1 Axes>"
      ]
     },
     "metadata": {
      "needs_background": "light"
     },
     "output_type": "display_data"
    },
    {
     "data": {
      "image/png": "[encoded data removed]",
      "text/plain": [
       "<Figure size 432x288 with 1 Axes>"
      ]
     },
     "metadata": {
      "needs_background": "light"
     },
     "output_type": "display_data"
    },
    {
     "data": {
      "image/png": "[encoded data removed]",
      "text/plain": [
       "<Figure size 432x288 with 1 Axes>"
      ]
     },
     "metadata": {
      "needs_background": "light"
     },
     "output_type": "display_data"
    },
    {
     "data": {
      "image/png": "[encoded data removed]",
      "text/plain": [
       "<Figure size 432x288 with 1 Axes>"
      ]
     },
     "metadata": {
      "needs_background": "light"
     },
     "output_type": "display_data"
    },
    {
     "data": {
      "image/png": "[encoded data removed]",
      "text/plain": [
       "<Figure size 432x288 with 1 Axes>"
      ]
     },
     "metadata": {
      "needs_background": "light"
     },
     "output_type": "display_data"
    },
    {
     "data": {
      "image/png": "[encoded data removed]",
      "text/plain": [
       "<Figure size 432x288 with 1 Axes>"
      ]
     },
     "metadata": {
      "needs_background": "light"
     },
     "output_type": "display_data"
    },
    {
     "data": {
      "image/png": "[encoded data removed]",
      "text/plain": [
       "<Figure size 432x288 with 1 Axes>"
      ]
     },
     "metadata": {
      "needs_background": "light"
     },
     "output_type": "display_data"
    },
    {
     "data": {
      "image/png": "[encoded data removed]",
      "text/plain": [
       "<Figure size 432x288 with 1 Axes>"
      ]
     },
     "metadata": {
      "needs_background": "light"
     },
     "output_type": "display_data"
    },
    {
     "data": {
      "image/png": "[encoded data removed]",
      "text/plain": [
       "<Figure size 432x288 with 1 Axes>"
      ]
     },
     "metadata": {
      "needs_background": "light"
     },
     "output_type": "display_data"
    },
    {
     "data": {
      "image/png": "[encoded data removed]",
      "text/plain": [
       "<Figure size 432x288 with 1 Axes>"
      ]
     },
     "metadata": {
      "needs_background": "light"
     },
     "output_type": "display_data"
    },
    {
     "data": {
      "image/png": "[encoded data removed]",
      "text/plain": [
       "<Figure size 432x288 with 1 Axes>"
      ]
     },
     "metadata": {
      "needs_background": "light"
     },
     "output_type": "display_data"
    },
    {
     "data": {
      "image/png": "[encoded data removed]",
      "text/plain": [
       "<Figure size 432x288 with 1 Axes>"
      ]
     },
     "metadata": {
      "needs_background": "light"
     },
     "output_type": "display_data"
    },
    {
     "data": {
      "image/png": "[encoded data removed]",
      "text/plain": [
       "<Figure size 432x288 with 1 Axes>"
      ]
     },
     "metadata": {
      "needs_background": "light"
     },
     "output_type": "display_data"
    },
    {
     "data": {
      "image/png": "[encoded data removed]",
      "text/plain": [
       "<Figure size 432x288 with 1 Axes>"
      ]
     },
     "metadata": {
      "needs_background": "light"
     },
     "output_type": "display_data"
    },
    {
     "data": {
      "image/png": "[encoded data removed]",
      "text/plain": [
       "<Figure size 432x288 with 1 Axes>"
      ]
     },
     "metadata": {
      "needs_background": "light"
     },
     "output_type": "display_data"
    },
    {
     "data": {
      "image/png": "[encoded data removed]",
      "text/plain": [
       "<Figure size 432x288 with 1 Axes>"
      ]
     },
     "metadata": {
      "needs_background": "light"
     },
     "output_type": "display_data"
    },
    {
     "data": {
      "image/png": "[encoded data removed]",
      "text/plain": [
       "<Figure size 432x288 with 1 Axes>"
      ]
     },
     "metadata": {
      "needs_background": "light"
     },
     "output_type": "display_data"
    },
    {
     "data": {
      "image/png": "[encoded data removed]",
      "text/plain": [
       "<Figure size 432x288 with 1 Axes>"
      ]
     },
     "metadata": {
      "needs_background": "light"
     },
     "output_type": "display_data"
    },
    {
     "data": {
      "image/png": "[encoded data removed]",
      "text/plain": [
       "<Figure size 432x288 with 1 Axes>"
      ]
     },
     "metadata": {
      "needs_background": "light"
     },
     "output_type": "display_data"
    },
    {
     "data": {
      "image/png": "[encoded data removed]",
      "text/plain": [
       "<Figure size 432x288 with 1 Axes>"
      ]
     },
     "metadata": {
      "needs_background": "light"
     },
     "output_type": "display_data"
    },
    {
     "data": {
      "image/png": "[encoded data removed]",
      "text/plain": [
       "<Figure size 432x288 with 1 Axes>"
      ]
     },
     "metadata": {
      "needs_background": "light"
     },
     "output_type": "display_data"
    },
    {
     "data": {
      "image/png": "[encoded data removed]",
      "text/plain": [
       "<Figure size 432x288 with 1 Axes>"
      ]
     },
     "metadata": {
      "needs_background": "light"
     },
     "output_type": "display_data"
    },
    {
     "data": {
      "image/png": "[encoded data removed]",
      "text/plain": [
       "<Figure size 432x288 with 1 Axes>"
      ]
     },
     "metadata": {
      "needs_background": "light"
     },
     "output_type": "display_data"
    },
    {
     "data": {
      "image/png": "[encoded data removed]",
      "text/plain": [
       "<Figure size 432x288 with 1 Axes>"
      ]
     },
     "metadata": {
      "needs_background": "light"
     },
     "output_type": "display_data"
    },
    {
     "data": {
      "image/png": "[encoded data removed]",
      "text/plain": [
       "<Figure size 432x288 with 1 Axes>"
      ]
     },
     "metadata": {
      "needs_background": "light"
     },
     "output_type": "display_data"
    },
    {
     "data": {
      "image/png": "[encoded data removed]",
      "text/plain": [
       "<Figure size 432x288 with 1 Axes>"
      ]
     },
     "metadata": {
      "needs_background": "light"
     },
     "output_type": "display_data"
    },
    {
     "data": {
      "image/png": "[encoded data removed]",
      "text/plain": [
       "<Figure size 432x288 with 1 Axes>"
      ]
     },
     "metadata": {
      "needs_background": "light"
     },
     "output_type": "display_data"
    },
    {
     "data": {
      "image/png": "[encoded data removed]",
      "text/plain": [
       "<Figure size 432x288 with 1 Axes>"
      ]
     },
     "metadata": {
      "needs_background": "light"
     },
     "output_type": "display_data"
    },
    {
     "data": {
      "image/png": "[encoded data removed]",
      "text/plain": [
       "<Figure size 432x288 with 1 Axes>"
      ]
     },
     "metadata": {
      "needs_background": "light"
     },
     "output_type": "display_data"
    },
    {
     "data": {
      "image/png": "[encoded data removed]",
      "text/plain": [
       "<Figure size 432x288 with 1 Axes>"
      ]
     },
     "metadata": {
      "needs_background": "light"
     },
     "output_type": "display_data"
    },
    {
     "data": {
      "image/png": "[encoded data removed]",
      "text/plain": [
       "<Figure size 432x288 with 1 Axes>"
      ]
     },
     "metadata": {
      "needs_background": "light"
     },
     "output_type": "display_data"
    }
   ],
   "source": [
    "list_numerical_columns = df_NArowsdropped.select_dtypes('int64').columns.tolist()\n",
    "for box in list_numerical_columns:\n",
    "    plt.figure()\n",
    "    df_NArowsdropped.boxplot(column=box,rot=45)\n",
    "    df_NArowsdropped.hist(column=box,bins =15 )\n",
    "    "
   ]
  },
  {
   "cell_type": "code",
   "execution_count": 12,
   "id": "2680349a",
   "metadata": {},
   "outputs": [
    {
     "data": {
      "text/html": [
       "<div>\n",
       "<style scoped>\n",
       "    .dataframe tbody tr th:only-of-type {\n",
       "        vertical-align: middle;\n",
       "    }\n",
       "\n",
       "    .dataframe tbody tr th {\n",
       "        vertical-align: top;\n",
       "    }\n",
       "\n",
       "    .dataframe thead th {\n",
       "        text-align: right;\n",
       "    }\n",
       "</style>\n",
       "<table border=\"1\" class=\"dataframe\">\n",
       "  <thead>\n",
       "    <tr style=\"text-align: right;\">\n",
       "      <th></th>\n",
       "      <th>MSSubClass</th>\n",
       "      <th>MSZoning</th>\n",
       "      <th>LotArea</th>\n",
       "      <th>Street</th>\n",
       "      <th>LotShape</th>\n",
       "      <th>LandContour</th>\n",
       "      <th>Utilities</th>\n",
       "      <th>LotConfig</th>\n",
       "      <th>LandSlope</th>\n",
       "      <th>Neighborhood</th>\n",
       "      <th>...</th>\n",
       "      <th>EnclosedPorch</th>\n",
       "      <th>3SsnPorch</th>\n",
       "      <th>ScreenPorch</th>\n",
       "      <th>PoolArea</th>\n",
       "      <th>MiscVal</th>\n",
       "      <th>MoSold</th>\n",
       "      <th>YrSold</th>\n",
       "      <th>SaleType</th>\n",
       "      <th>SaleCondition</th>\n",
       "      <th>SalePrice</th>\n",
       "    </tr>\n",
       "  </thead>\n",
       "  <tbody>\n",
       "    <tr>\n",
       "      <th>0</th>\n",
       "      <td>60</td>\n",
       "      <td>RL</td>\n",
       "      <td>8450</td>\n",
       "      <td>Pave</td>\n",
       "      <td>Reg</td>\n",
       "      <td>Lvl</td>\n",
       "      <td>AllPub</td>\n",
       "      <td>Inside</td>\n",
       "      <td>Gtl</td>\n",
       "      <td>CollgCr</td>\n",
       "      <td>...</td>\n",
       "      <td>0</td>\n",
       "      <td>0</td>\n",
       "      <td>0</td>\n",
       "      <td>0</td>\n",
       "      <td>0</td>\n",
       "      <td>2</td>\n",
       "      <td>2008</td>\n",
       "      <td>WD</td>\n",
       "      <td>Normal</td>\n",
       "      <td>208500</td>\n",
       "    </tr>\n",
       "    <tr>\n",
       "      <th>1</th>\n",
       "      <td>20</td>\n",
       "      <td>RL</td>\n",
       "      <td>9600</td>\n",
       "      <td>Pave</td>\n",
       "      <td>Reg</td>\n",
       "      <td>Lvl</td>\n",
       "      <td>AllPub</td>\n",
       "      <td>FR2</td>\n",
       "      <td>Gtl</td>\n",
       "      <td>Veenker</td>\n",
       "      <td>...</td>\n",
       "      <td>0</td>\n",
       "      <td>0</td>\n",
       "      <td>0</td>\n",
       "      <td>0</td>\n",
       "      <td>0</td>\n",
       "      <td>5</td>\n",
       "      <td>2007</td>\n",
       "      <td>WD</td>\n",
       "      <td>Normal</td>\n",
       "      <td>181500</td>\n",
       "    </tr>\n",
       "    <tr>\n",
       "      <th>2</th>\n",
       "      <td>60</td>\n",
       "      <td>RL</td>\n",
       "      <td>11250</td>\n",
       "      <td>Pave</td>\n",
       "      <td>IR1</td>\n",
       "      <td>Lvl</td>\n",
       "      <td>AllPub</td>\n",
       "      <td>Inside</td>\n",
       "      <td>Gtl</td>\n",
       "      <td>CollgCr</td>\n",
       "      <td>...</td>\n",
       "      <td>0</td>\n",
       "      <td>0</td>\n",
       "      <td>0</td>\n",
       "      <td>0</td>\n",
       "      <td>0</td>\n",
       "      <td>9</td>\n",
       "      <td>2008</td>\n",
       "      <td>WD</td>\n",
       "      <td>Normal</td>\n",
       "      <td>223500</td>\n",
       "    </tr>\n",
       "    <tr>\n",
       "      <th>3</th>\n",
       "      <td>70</td>\n",
       "      <td>RL</td>\n",
       "      <td>9550</td>\n",
       "      <td>Pave</td>\n",
       "      <td>IR1</td>\n",
       "      <td>Lvl</td>\n",
       "      <td>AllPub</td>\n",
       "      <td>Corner</td>\n",
       "      <td>Gtl</td>\n",
       "      <td>Crawfor</td>\n",
       "      <td>...</td>\n",
       "      <td>272</td>\n",
       "      <td>0</td>\n",
       "      <td>0</td>\n",
       "      <td>0</td>\n",
       "      <td>0</td>\n",
       "      <td>2</td>\n",
       "      <td>2006</td>\n",
       "      <td>WD</td>\n",
       "      <td>Abnorml</td>\n",
       "      <td>140000</td>\n",
       "    </tr>\n",
       "    <tr>\n",
       "      <th>4</th>\n",
       "      <td>60</td>\n",
       "      <td>RL</td>\n",
       "      <td>14260</td>\n",
       "      <td>Pave</td>\n",
       "      <td>IR1</td>\n",
       "      <td>Lvl</td>\n",
       "      <td>AllPub</td>\n",
       "      <td>FR2</td>\n",
       "      <td>Gtl</td>\n",
       "      <td>NoRidge</td>\n",
       "      <td>...</td>\n",
       "      <td>0</td>\n",
       "      <td>0</td>\n",
       "      <td>0</td>\n",
       "      <td>0</td>\n",
       "      <td>0</td>\n",
       "      <td>12</td>\n",
       "      <td>2008</td>\n",
       "      <td>WD</td>\n",
       "      <td>Normal</td>\n",
       "      <td>250000</td>\n",
       "    </tr>\n",
       "  </tbody>\n",
       "</table>\n",
       "<p>5 rows × 74 columns</p>\n",
       "</div>"
      ],
      "text/plain": [
       "   MSSubClass MSZoning  LotArea Street LotShape LandContour Utilities  \\\n",
       "0          60       RL     8450   Pave      Reg         Lvl    AllPub   \n",
       "1          20       RL     9600   Pave      Reg         Lvl    AllPub   \n",
       "2          60       RL    11250   Pave      IR1         Lvl    AllPub   \n",
       "3          70       RL     9550   Pave      IR1         Lvl    AllPub   \n",
       "4          60       RL    14260   Pave      IR1         Lvl    AllPub   \n",
       "\n",
       "  LotConfig LandSlope Neighborhood  ... EnclosedPorch 3SsnPorch ScreenPorch  \\\n",
       "0    Inside       Gtl      CollgCr  ...             0         0           0   \n",
       "1       FR2       Gtl      Veenker  ...             0         0           0   \n",
       "2    Inside       Gtl      CollgCr  ...             0         0           0   \n",
       "3    Corner       Gtl      Crawfor  ...           272         0           0   \n",
       "4       FR2       Gtl      NoRidge  ...             0         0           0   \n",
       "\n",
       "  PoolArea  MiscVal  MoSold  YrSold  SaleType SaleCondition SalePrice  \n",
       "0        0        0       2    2008        WD        Normal    208500  \n",
       "1        0        0       5    2007        WD        Normal    181500  \n",
       "2        0        0       9    2008        WD        Normal    223500  \n",
       "3        0        0       2    2006        WD       Abnorml    140000  \n",
       "4        0        0      12    2008        WD        Normal    250000  \n",
       "\n",
       "[5 rows x 74 columns]"
      ]
     },
     "execution_count": 12,
     "metadata": {},
     "output_type": "execute_result"
    }
   ],
   "source": [
    "#dropping ID columns\n",
    "df_readyforencode = df_NArowsdropped.drop(columns=\"Id\")\n",
    "df_readyforencode.head(5)"
   ]
  },
  {
   "cell_type": "markdown",
   "id": "9b5eccd1",
   "metadata": {},
   "source": [
    "## ready to encode"
   ]
  },
  {
   "cell_type": "code",
   "execution_count": 13,
   "id": "1ee02793",
   "metadata": {},
   "outputs": [
    {
     "name": "stdout",
     "output_type": "stream",
     "text": [
      "number of categorial columns:38\n"
     ]
    },
    {
     "data": {
      "text/plain": [
       "MSZoning          5\n",
       "Street            2\n",
       "LotShape          4\n",
       "LandContour       4\n",
       "Utilities         2\n",
       "LotConfig         5\n",
       "LandSlope         3\n",
       "Neighborhood     25\n",
       "Condition1        9\n",
       "Condition2        8\n",
       "BldgType          5\n",
       "HouseStyle        8\n",
       "RoofStyle         6\n",
       "RoofMatl          8\n",
       "Exterior1st      14\n",
       "Exterior2nd      16\n",
       "MasVnrType        4\n",
       "ExterQual         4\n",
       "ExterCond         4\n",
       "Foundation        5\n",
       "BsmtQual          4\n",
       "BsmtCond          4\n",
       "BsmtExposure      4\n",
       "BsmtFinType1      6\n",
       "BsmtFinType2      6\n",
       "Heating           4\n",
       "HeatingQC         5\n",
       "CentralAir        2\n",
       "Electrical        5\n",
       "KitchenQual       4\n",
       "Functional        7\n",
       "GarageType        6\n",
       "GarageFinish      3\n",
       "GarageQual        5\n",
       "GarageCond        5\n",
       "PavedDrive        3\n",
       "SaleType          9\n",
       "SaleCondition     6\n",
       "dtype: int64"
      ]
     },
     "execution_count": 13,
     "metadata": {},
     "output_type": "execute_result"
    }
   ],
   "source": [
    "# Generate our categorical variable list\n",
    "df_readyforencode_cat = df_readyforencode.dtypes[df_readyforencode.dtypes == \"object\"].index.tolist()\n",
    "\n",
    "print (f'number of categorial columns:{len(df_readyforencode_cat)}')\n",
    "# Check the number of unique values in each column\n",
    "df_readyforencode[df_readyforencode_cat].nunique()"
   ]
  },
  {
   "cell_type": "code",
   "execution_count": 14,
   "id": "ec448259",
   "metadata": {},
   "outputs": [
    {
     "name": "stdout",
     "output_type": "stream",
     "text": [
      "list of features that have more than 10 categories: ['Neighborhood', 'Exterior1st', 'Exterior2nd']\n"
     ]
    }
   ],
   "source": [
    "list_of_unique_va_cat_dummy = df_readyforencode[df_readyforencode_cat].nunique() > 10\n",
    "list_of_unique_va_cat=list_of_unique_va_cat_dummy[list_of_unique_va_cat_dummy==True].index.tolist()\n",
    "print(f'list of features that have more than 10 categories: {list_of_unique_va_cat}')"
   ]
  },
  {
   "cell_type": "code",
   "execution_count": 15,
   "id": "3a6bcf1f",
   "metadata": {},
   "outputs": [
    {
     "name": "stderr",
     "output_type": "stream",
     "text": [
      "C:\\Users\\14078\\anaconda3\\envs\\mlenv\\lib\\site-packages\\seaborn\\distributions.py:2619: FutureWarning: `distplot` is a deprecated function and will be removed in a future version. Please adapt your code to use either `displot` (a figure-level function with similar flexibility) or `histplot` (an axes-level function for histograms).\n",
      "  warnings.warn(msg, FutureWarning)\n",
      "C:\\Users\\14078\\anaconda3\\envs\\mlenv\\lib\\site-packages\\seaborn\\distributions.py:2619: FutureWarning: `distplot` is a deprecated function and will be removed in a future version. Please adapt your code to use either `displot` (a figure-level function with similar flexibility) or `histplot` (an axes-level function for histograms).\n",
      "  warnings.warn(msg, FutureWarning)\n",
      "C:\\Users\\14078\\anaconda3\\envs\\mlenv\\lib\\site-packages\\seaborn\\distributions.py:2619: FutureWarning: `distplot` is a deprecated function and will be removed in a future version. Please adapt your code to use either `displot` (a figure-level function with similar flexibility) or `histplot` (an axes-level function for histograms).\n",
      "  warnings.warn(msg, FutureWarning)\n"
     ]
    },
    {
     "data": {
      "image/png": "[encoded data removed]",
      "text/plain": [
       "<Figure size 432x288 with 1 Axes>"
      ]
     },
     "metadata": {
      "needs_background": "light"
     },
     "output_type": "display_data"
    },
    {
     "data": {
      "image/png": "[encoded data removed]",
      "text/plain": [
       "<Figure size 432x288 with 1 Axes>"
      ]
     },
     "metadata": {
      "needs_background": "light"
     },
     "output_type": "display_data"
    },
    {
     "data": {
      "image/png": "[encoded data removed]",
      "text/plain": [
       "<Figure size 432x288 with 1 Axes>"
      ]
     },
     "metadata": {
      "needs_background": "light"
     },
     "output_type": "display_data"
    }
   ],
   "source": [
    "# Visualizing the data using density plot\n",
    "for col in list_of_unique_va_cat:\n",
    "#     print( df_readyforencode[col].value_counts())\n",
    "    plt.figure()\n",
    "    sns.distplot(a=df_readyforencode[col].value_counts(),bins=15)"
   ]
  },
  {
   "cell_type": "code",
   "execution_count": 16,
   "id": "30e83616",
   "metadata": {},
   "outputs": [
    {
     "data": {
      "image/png": "[encoded data removed]",
      "text/plain": [
       "<Figure size 432x288 with 1 Axes>"
      ]
     },
     "metadata": {
      "needs_background": "light"
     },
     "output_type": "display_data"
    },
    {
     "data": {
      "image/png": "[encoded data removed]",
      "text/plain": [
       "<Figure size 432x288 with 1 Axes>"
      ]
     },
     "metadata": {
      "needs_background": "light"
     },
     "output_type": "display_data"
    },
    {
     "data": {
      "image/png": "[encoded data removed]",
      "text/plain": [
       "<Figure size 432x288 with 1 Axes>"
      ]
     },
     "metadata": {
      "needs_background": "light"
     },
     "output_type": "display_data"
    }
   ],
   "source": [
    "# Visualizing the data in boxplot format\n",
    "for col in list_of_unique_va_cat:\n",
    "#     print( df_readyforencode[col].value_counts())\n",
    "    plt.figure()\n",
    "#     df_readyforencode[col].value_counts().plot.density()\n",
    "#     df_readyforencode[col].value_counts().hist()\n",
    "    plt.title(col)\n",
    "    ax = sns.boxplot(x=df_readyforencode[col].value_counts())\n",
    "    \n",
    "    \n",
    "\n"
   ]
  },
  {
   "cell_type": "code",
   "execution_count": 17,
   "id": "e0c26af5",
   "metadata": {},
   "outputs": [
    {
     "name": "stdout",
     "output_type": "stream",
     "text": [
      "['Neighborhood', 'Exterior1st', 'Exterior2nd']\n"
     ]
    },
    {
     "data": {
      "text/html": [
       "<div>\n",
       "<style scoped>\n",
       "    .dataframe tbody tr th:only-of-type {\n",
       "        vertical-align: middle;\n",
       "    }\n",
       "\n",
       "    .dataframe tbody tr th {\n",
       "        vertical-align: top;\n",
       "    }\n",
       "\n",
       "    .dataframe thead th {\n",
       "        text-align: right;\n",
       "    }\n",
       "</style>\n",
       "<table border=\"1\" class=\"dataframe\">\n",
       "  <thead>\n",
       "    <tr style=\"text-align: right;\">\n",
       "      <th></th>\n",
       "      <th>MSSubClass</th>\n",
       "      <th>MSZoning</th>\n",
       "      <th>LotArea</th>\n",
       "      <th>Street</th>\n",
       "      <th>LotShape</th>\n",
       "      <th>LandContour</th>\n",
       "      <th>Utilities</th>\n",
       "      <th>LotConfig</th>\n",
       "      <th>LandSlope</th>\n",
       "      <th>Neighborhood</th>\n",
       "      <th>...</th>\n",
       "      <th>EnclosedPorch</th>\n",
       "      <th>3SsnPorch</th>\n",
       "      <th>ScreenPorch</th>\n",
       "      <th>PoolArea</th>\n",
       "      <th>MiscVal</th>\n",
       "      <th>MoSold</th>\n",
       "      <th>YrSold</th>\n",
       "      <th>SaleType</th>\n",
       "      <th>SaleCondition</th>\n",
       "      <th>SalePrice</th>\n",
       "    </tr>\n",
       "  </thead>\n",
       "  <tbody>\n",
       "    <tr>\n",
       "      <th>0</th>\n",
       "      <td>60</td>\n",
       "      <td>RL</td>\n",
       "      <td>8450</td>\n",
       "      <td>Pave</td>\n",
       "      <td>Reg</td>\n",
       "      <td>Lvl</td>\n",
       "      <td>AllPub</td>\n",
       "      <td>Inside</td>\n",
       "      <td>Gtl</td>\n",
       "      <td>CollgCr</td>\n",
       "      <td>...</td>\n",
       "      <td>0</td>\n",
       "      <td>0</td>\n",
       "      <td>0</td>\n",
       "      <td>0</td>\n",
       "      <td>0</td>\n",
       "      <td>2</td>\n",
       "      <td>2008</td>\n",
       "      <td>WD</td>\n",
       "      <td>Normal</td>\n",
       "      <td>208500</td>\n",
       "    </tr>\n",
       "    <tr>\n",
       "      <th>1</th>\n",
       "      <td>20</td>\n",
       "      <td>RL</td>\n",
       "      <td>9600</td>\n",
       "      <td>Pave</td>\n",
       "      <td>Reg</td>\n",
       "      <td>Lvl</td>\n",
       "      <td>AllPub</td>\n",
       "      <td>FR2</td>\n",
       "      <td>Gtl</td>\n",
       "      <td>Other</td>\n",
       "      <td>...</td>\n",
       "      <td>0</td>\n",
       "      <td>0</td>\n",
       "      <td>0</td>\n",
       "      <td>0</td>\n",
       "      <td>0</td>\n",
       "      <td>5</td>\n",
       "      <td>2007</td>\n",
       "      <td>WD</td>\n",
       "      <td>Normal</td>\n",
       "      <td>181500</td>\n",
       "    </tr>\n",
       "    <tr>\n",
       "      <th>2</th>\n",
       "      <td>60</td>\n",
       "      <td>RL</td>\n",
       "      <td>11250</td>\n",
       "      <td>Pave</td>\n",
       "      <td>IR1</td>\n",
       "      <td>Lvl</td>\n",
       "      <td>AllPub</td>\n",
       "      <td>Inside</td>\n",
       "      <td>Gtl</td>\n",
       "      <td>CollgCr</td>\n",
       "      <td>...</td>\n",
       "      <td>0</td>\n",
       "      <td>0</td>\n",
       "      <td>0</td>\n",
       "      <td>0</td>\n",
       "      <td>0</td>\n",
       "      <td>9</td>\n",
       "      <td>2008</td>\n",
       "      <td>WD</td>\n",
       "      <td>Normal</td>\n",
       "      <td>223500</td>\n",
       "    </tr>\n",
       "    <tr>\n",
       "      <th>3</th>\n",
       "      <td>70</td>\n",
       "      <td>RL</td>\n",
       "      <td>9550</td>\n",
       "      <td>Pave</td>\n",
       "      <td>IR1</td>\n",
       "      <td>Lvl</td>\n",
       "      <td>AllPub</td>\n",
       "      <td>Corner</td>\n",
       "      <td>Gtl</td>\n",
       "      <td>Crawfor</td>\n",
       "      <td>...</td>\n",
       "      <td>272</td>\n",
       "      <td>0</td>\n",
       "      <td>0</td>\n",
       "      <td>0</td>\n",
       "      <td>0</td>\n",
       "      <td>2</td>\n",
       "      <td>2006</td>\n",
       "      <td>WD</td>\n",
       "      <td>Abnorml</td>\n",
       "      <td>140000</td>\n",
       "    </tr>\n",
       "    <tr>\n",
       "      <th>4</th>\n",
       "      <td>60</td>\n",
       "      <td>RL</td>\n",
       "      <td>14260</td>\n",
       "      <td>Pave</td>\n",
       "      <td>IR1</td>\n",
       "      <td>Lvl</td>\n",
       "      <td>AllPub</td>\n",
       "      <td>FR2</td>\n",
       "      <td>Gtl</td>\n",
       "      <td>NoRidge</td>\n",
       "      <td>...</td>\n",
       "      <td>0</td>\n",
       "      <td>0</td>\n",
       "      <td>0</td>\n",
       "      <td>0</td>\n",
       "      <td>0</td>\n",
       "      <td>12</td>\n",
       "      <td>2008</td>\n",
       "      <td>WD</td>\n",
       "      <td>Normal</td>\n",
       "      <td>250000</td>\n",
       "    </tr>\n",
       "    <tr>\n",
       "      <th>...</th>\n",
       "      <td>...</td>\n",
       "      <td>...</td>\n",
       "      <td>...</td>\n",
       "      <td>...</td>\n",
       "      <td>...</td>\n",
       "      <td>...</td>\n",
       "      <td>...</td>\n",
       "      <td>...</td>\n",
       "      <td>...</td>\n",
       "      <td>...</td>\n",
       "      <td>...</td>\n",
       "      <td>...</td>\n",
       "      <td>...</td>\n",
       "      <td>...</td>\n",
       "      <td>...</td>\n",
       "      <td>...</td>\n",
       "      <td>...</td>\n",
       "      <td>...</td>\n",
       "      <td>...</td>\n",
       "      <td>...</td>\n",
       "      <td>...</td>\n",
       "    </tr>\n",
       "    <tr>\n",
       "      <th>1455</th>\n",
       "      <td>60</td>\n",
       "      <td>RL</td>\n",
       "      <td>7917</td>\n",
       "      <td>Pave</td>\n",
       "      <td>Reg</td>\n",
       "      <td>Lvl</td>\n",
       "      <td>AllPub</td>\n",
       "      <td>Inside</td>\n",
       "      <td>Gtl</td>\n",
       "      <td>Gilbert</td>\n",
       "      <td>...</td>\n",
       "      <td>0</td>\n",
       "      <td>0</td>\n",
       "      <td>0</td>\n",
       "      <td>0</td>\n",
       "      <td>0</td>\n",
       "      <td>8</td>\n",
       "      <td>2007</td>\n",
       "      <td>WD</td>\n",
       "      <td>Normal</td>\n",
       "      <td>175000</td>\n",
       "    </tr>\n",
       "    <tr>\n",
       "      <th>1456</th>\n",
       "      <td>20</td>\n",
       "      <td>RL</td>\n",
       "      <td>13175</td>\n",
       "      <td>Pave</td>\n",
       "      <td>Reg</td>\n",
       "      <td>Lvl</td>\n",
       "      <td>AllPub</td>\n",
       "      <td>Inside</td>\n",
       "      <td>Gtl</td>\n",
       "      <td>NWAmes</td>\n",
       "      <td>...</td>\n",
       "      <td>0</td>\n",
       "      <td>0</td>\n",
       "      <td>0</td>\n",
       "      <td>0</td>\n",
       "      <td>0</td>\n",
       "      <td>2</td>\n",
       "      <td>2010</td>\n",
       "      <td>WD</td>\n",
       "      <td>Normal</td>\n",
       "      <td>210000</td>\n",
       "    </tr>\n",
       "    <tr>\n",
       "      <th>1457</th>\n",
       "      <td>70</td>\n",
       "      <td>RL</td>\n",
       "      <td>9042</td>\n",
       "      <td>Pave</td>\n",
       "      <td>Reg</td>\n",
       "      <td>Lvl</td>\n",
       "      <td>AllPub</td>\n",
       "      <td>Inside</td>\n",
       "      <td>Gtl</td>\n",
       "      <td>Crawfor</td>\n",
       "      <td>...</td>\n",
       "      <td>0</td>\n",
       "      <td>0</td>\n",
       "      <td>0</td>\n",
       "      <td>0</td>\n",
       "      <td>2500</td>\n",
       "      <td>5</td>\n",
       "      <td>2010</td>\n",
       "      <td>WD</td>\n",
       "      <td>Normal</td>\n",
       "      <td>266500</td>\n",
       "    </tr>\n",
       "    <tr>\n",
       "      <th>1458</th>\n",
       "      <td>20</td>\n",
       "      <td>RL</td>\n",
       "      <td>9717</td>\n",
       "      <td>Pave</td>\n",
       "      <td>Reg</td>\n",
       "      <td>Lvl</td>\n",
       "      <td>AllPub</td>\n",
       "      <td>Inside</td>\n",
       "      <td>Gtl</td>\n",
       "      <td>NAmes</td>\n",
       "      <td>...</td>\n",
       "      <td>112</td>\n",
       "      <td>0</td>\n",
       "      <td>0</td>\n",
       "      <td>0</td>\n",
       "      <td>0</td>\n",
       "      <td>4</td>\n",
       "      <td>2010</td>\n",
       "      <td>WD</td>\n",
       "      <td>Normal</td>\n",
       "      <td>142125</td>\n",
       "    </tr>\n",
       "    <tr>\n",
       "      <th>1459</th>\n",
       "      <td>20</td>\n",
       "      <td>RL</td>\n",
       "      <td>9937</td>\n",
       "      <td>Pave</td>\n",
       "      <td>Reg</td>\n",
       "      <td>Lvl</td>\n",
       "      <td>AllPub</td>\n",
       "      <td>Inside</td>\n",
       "      <td>Gtl</td>\n",
       "      <td>Edwards</td>\n",
       "      <td>...</td>\n",
       "      <td>0</td>\n",
       "      <td>0</td>\n",
       "      <td>0</td>\n",
       "      <td>0</td>\n",
       "      <td>0</td>\n",
       "      <td>6</td>\n",
       "      <td>2008</td>\n",
       "      <td>WD</td>\n",
       "      <td>Normal</td>\n",
       "      <td>147500</td>\n",
       "    </tr>\n",
       "  </tbody>\n",
       "</table>\n",
       "<p>1338 rows × 74 columns</p>\n",
       "</div>"
      ],
      "text/plain": [
       "      MSSubClass MSZoning  LotArea Street LotShape LandContour Utilities  \\\n",
       "0             60       RL     8450   Pave      Reg         Lvl    AllPub   \n",
       "1             20       RL     9600   Pave      Reg         Lvl    AllPub   \n",
       "2             60       RL    11250   Pave      IR1         Lvl    AllPub   \n",
       "3             70       RL     9550   Pave      IR1         Lvl    AllPub   \n",
       "4             60       RL    14260   Pave      IR1         Lvl    AllPub   \n",
       "...          ...      ...      ...    ...      ...         ...       ...   \n",
       "1455          60       RL     7917   Pave      Reg         Lvl    AllPub   \n",
       "1456          20       RL    13175   Pave      Reg         Lvl    AllPub   \n",
       "1457          70       RL     9042   Pave      Reg         Lvl    AllPub   \n",
       "1458          20       RL     9717   Pave      Reg         Lvl    AllPub   \n",
       "1459          20       RL     9937   Pave      Reg         Lvl    AllPub   \n",
       "\n",
       "     LotConfig LandSlope Neighborhood  ... EnclosedPorch 3SsnPorch  \\\n",
       "0       Inside       Gtl      CollgCr  ...             0         0   \n",
       "1          FR2       Gtl        Other  ...             0         0   \n",
       "2       Inside       Gtl      CollgCr  ...             0         0   \n",
       "3       Corner       Gtl      Crawfor  ...           272         0   \n",
       "4          FR2       Gtl      NoRidge  ...             0         0   \n",
       "...        ...       ...          ...  ...           ...       ...   \n",
       "1455    Inside       Gtl      Gilbert  ...             0         0   \n",
       "1456    Inside       Gtl       NWAmes  ...             0         0   \n",
       "1457    Inside       Gtl      Crawfor  ...             0         0   \n",
       "1458    Inside       Gtl        NAmes  ...           112         0   \n",
       "1459    Inside       Gtl      Edwards  ...             0         0   \n",
       "\n",
       "     ScreenPorch PoolArea  MiscVal  MoSold  YrSold  SaleType SaleCondition  \\\n",
       "0              0        0        0       2    2008        WD        Normal   \n",
       "1              0        0        0       5    2007        WD        Normal   \n",
       "2              0        0        0       9    2008        WD        Normal   \n",
       "3              0        0        0       2    2006        WD       Abnorml   \n",
       "4              0        0        0      12    2008        WD        Normal   \n",
       "...          ...      ...      ...     ...     ...       ...           ...   \n",
       "1455           0        0        0       8    2007        WD        Normal   \n",
       "1456           0        0        0       2    2010        WD        Normal   \n",
       "1457           0        0     2500       5    2010        WD        Normal   \n",
       "1458           0        0        0       4    2010        WD        Normal   \n",
       "1459           0        0        0       6    2008        WD        Normal   \n",
       "\n",
       "     SalePrice  \n",
       "0       208500  \n",
       "1       181500  \n",
       "2       223500  \n",
       "3       140000  \n",
       "4       250000  \n",
       "...        ...  \n",
       "1455    175000  \n",
       "1456    210000  \n",
       "1457    266500  \n",
       "1458    142125  \n",
       "1459    147500  \n",
       "\n",
       "[1338 rows x 74 columns]"
      ]
     },
     "execution_count": 17,
     "metadata": {},
     "output_type": "execute_result"
    }
   ],
   "source": [
    "# %%%%%%% need to bin here for 3 columns\n",
    "\n",
    "def replace_col_data_for_binning(df,col,limit):\n",
    "    col_val_count = df[col].value_counts()\n",
    "    replace_col_data = list(col_val_count[col_val_count<limit].index)\n",
    "    for data in replace_col_data:\n",
    "        df[col]= df[col].replace(data,\"Other\")\n",
    "    return df\n",
    "\n",
    "df_readyforencode1 = df_readyforencode.copy()    \n",
    "\n",
    "print(list_of_unique_va_cat)\n",
    "\n",
    "replace_col_data_for_binning(df_readyforencode1,list_of_unique_va_cat[0],20)\n",
    "replace_col_data_for_binning(df_readyforencode1,list_of_unique_va_cat[1],40)\n",
    "replace_col_data_for_binning(df_readyforencode1,list_of_unique_va_cat[2],40)\n",
    "\n",
    "\n"
   ]
  },
  {
   "cell_type": "code",
   "execution_count": 18,
   "id": "3a90d3ca",
   "metadata": {},
   "outputs": [
    {
     "data": {
      "text/plain": [
       "VinylSd    475\n",
       "MetalSd    197\n",
       "HdBoard    197\n",
       "Wd Sdng    176\n",
       "Plywood    127\n",
       "Other      115\n",
       "CmentBd     51\n",
       "Name: Exterior2nd, dtype: int64"
      ]
     },
     "execution_count": 18,
     "metadata": {},
     "output_type": "execute_result"
    }
   ],
   "source": [
    "df_readyforencode1[list_of_unique_va_cat[2]].value_counts()"
   ]
  },
  {
   "cell_type": "code",
   "execution_count": 19,
   "id": "183af541",
   "metadata": {},
   "outputs": [
    {
     "data": {
      "text/plain": [
       "VinylSd    475\n",
       "MetalSd    197\n",
       "HdBoard    197\n",
       "Wd Sdng    176\n",
       "Plywood    127\n",
       "CmentBd     51\n",
       "Wd Shng     32\n",
       "Stucco      23\n",
       "BrkFace     22\n",
       "AsbShng     16\n",
       "ImStucc     10\n",
       "Brk Cmn      6\n",
       "AsphShn      2\n",
       "Stone        2\n",
       "Other        1\n",
       "CBlock       1\n",
       "Name: Exterior2nd, dtype: int64"
      ]
     },
     "execution_count": 19,
     "metadata": {},
     "output_type": "execute_result"
    }
   ],
   "source": [
    "df_readyforencode[list_of_unique_va_cat[2]].value_counts()"
   ]
  },
  {
   "cell_type": "markdown",
   "id": "fcddc615",
   "metadata": {},
   "source": [
    "## here is option 1 for encoding : using oneHotencoder"
   ]
  },
  {
   "cell_type": "code",
   "execution_count": 20,
   "id": "93a4244d",
   "metadata": {
    "scrolled": true
   },
   "outputs": [
    {
     "name": "stdout",
     "output_type": "stream",
     "text": [
      "      MSZoning_C (all)  MSZoning_FV  MSZoning_RH  MSZoning_RL  MSZoning_RM  \\\n",
      "0                  0.0          0.0          0.0          1.0          0.0   \n",
      "1                  0.0          0.0          0.0          1.0          0.0   \n",
      "2                  0.0          0.0          0.0          1.0          0.0   \n",
      "3                  0.0          0.0          0.0          1.0          0.0   \n",
      "4                  0.0          0.0          0.0          1.0          0.0   \n",
      "...                ...          ...          ...          ...          ...   \n",
      "1333               0.0          0.0          0.0          1.0          0.0   \n",
      "1334               0.0          0.0          0.0          1.0          0.0   \n",
      "1335               0.0          0.0          0.0          1.0          0.0   \n",
      "1336               0.0          0.0          0.0          1.0          0.0   \n",
      "1337               0.0          0.0          0.0          1.0          0.0   \n",
      "\n",
      "      Street_Grvl  Street_Pave  LotShape_IR1  LotShape_IR2  LotShape_IR3  ...  \\\n",
      "0             0.0          1.0           0.0           0.0           0.0  ...   \n",
      "1             0.0          1.0           0.0           0.0           0.0  ...   \n",
      "2             0.0          1.0           1.0           0.0           0.0  ...   \n",
      "3             0.0          1.0           1.0           0.0           0.0  ...   \n",
      "4             0.0          1.0           1.0           0.0           0.0  ...   \n",
      "...           ...          ...           ...           ...           ...  ...   \n",
      "1333          0.0          1.0           0.0           0.0           0.0  ...   \n",
      "1334          0.0          1.0           0.0           0.0           0.0  ...   \n",
      "1335          0.0          1.0           0.0           0.0           0.0  ...   \n",
      "1336          0.0          1.0           0.0           0.0           0.0  ...   \n",
      "1337          0.0          1.0           0.0           0.0           0.0  ...   \n",
      "\n",
      "      SaleType_ConLw  SaleType_New  SaleType_Oth  SaleType_WD  \\\n",
      "0                0.0           0.0           0.0          1.0   \n",
      "1                0.0           0.0           0.0          1.0   \n",
      "2                0.0           0.0           0.0          1.0   \n",
      "3                0.0           0.0           0.0          1.0   \n",
      "4                0.0           0.0           0.0          1.0   \n",
      "...              ...           ...           ...          ...   \n",
      "1333             0.0           0.0           0.0          1.0   \n",
      "1334             0.0           0.0           0.0          1.0   \n",
      "1335             0.0           0.0           0.0          1.0   \n",
      "1336             0.0           0.0           0.0          1.0   \n",
      "1337             0.0           0.0           0.0          1.0   \n",
      "\n",
      "      SaleCondition_Abnorml  SaleCondition_AdjLand  SaleCondition_Alloca  \\\n",
      "0                       0.0                    0.0                   0.0   \n",
      "1                       0.0                    0.0                   0.0   \n",
      "2                       0.0                    0.0                   0.0   \n",
      "3                       1.0                    0.0                   0.0   \n",
      "4                       0.0                    0.0                   0.0   \n",
      "...                     ...                    ...                   ...   \n",
      "1333                    0.0                    0.0                   0.0   \n",
      "1334                    0.0                    0.0                   0.0   \n",
      "1335                    0.0                    0.0                   0.0   \n",
      "1336                    0.0                    0.0                   0.0   \n",
      "1337                    0.0                    0.0                   0.0   \n",
      "\n",
      "      SaleCondition_Family  SaleCondition_Normal  SaleCondition_Partial  \n",
      "0                      0.0                   1.0                    0.0  \n",
      "1                      0.0                   1.0                    0.0  \n",
      "2                      0.0                   1.0                    0.0  \n",
      "3                      0.0                   0.0                    0.0  \n",
      "4                      0.0                   1.0                    0.0  \n",
      "...                    ...                   ...                    ...  \n",
      "1333                   0.0                   1.0                    0.0  \n",
      "1334                   0.0                   1.0                    0.0  \n",
      "1335                   0.0                   1.0                    0.0  \n",
      "1336                   0.0                   1.0                    0.0  \n",
      "1337                   0.0                   1.0                    0.0  \n",
      "\n",
      "[1338 rows x 209 columns]\n"
     ]
    }
   ],
   "source": [
    "if feature_encoding == 1 :\n",
    "    \n",
    "    # Create a OneHotEncoder instance\n",
    "    enc = OneHotEncoder(sparse=False)\n",
    "\n",
    "\n",
    "\n",
    "    # Fit and transform the OneHotEncoder using the categorical variable list\n",
    "    encode_df = pd.DataFrame(enc.fit_transform(df_readyforencode1[df_readyforencode_cat]))\n",
    "\n",
    "    # Add the encoded variable names to the DataFrame\n",
    "    encode_df.columns = enc.get_feature_names(df_readyforencode_cat)\n",
    "    print(encode_df)\n"
   ]
  },
  {
   "cell_type": "markdown",
   "id": "52481e7a",
   "metadata": {},
   "source": [
    "### it looks like there are way too many columns above using onehotencoder\n"
   ]
  },
  {
   "cell_type": "code",
   "execution_count": 21,
   "id": "ef2753a5",
   "metadata": {},
   "outputs": [
    {
     "name": "stdout",
     "output_type": "stream",
     "text": [
      "number of columns after OneHOTEncoding is :209\n"
     ]
    }
   ],
   "source": [
    "if feature_encoding ==1 :\n",
    "    print(f'number of columns after OneHOTEncoding is :{len(encode_df.columns)}')"
   ]
  },
  {
   "cell_type": "markdown",
   "id": "e635392c",
   "metadata": {},
   "source": [
    "## In the below section we merge the encoded columns and drop the copies"
   ]
  },
  {
   "cell_type": "code",
   "execution_count": 22,
   "id": "dd1db585",
   "metadata": {},
   "outputs": [
    {
     "name": "stdout",
     "output_type": "stream",
     "text": [
      "   MSSubClass  LotArea  OverallQual  OverallCond  YearBuilt  YearRemodAdd  \\\n",
      "0          60     8450            7            5       2003          2003   \n",
      "1          20     9600            6            8       1976          1976   \n",
      "2          60    11250            7            5       2001          2002   \n",
      "3          70     9550            7            5       1915          1970   \n",
      "4          60    14260            8            5       2000          2000   \n",
      "\n",
      "   MasVnrArea  BsmtFinSF1  BsmtFinSF2  BsmtUnfSF  ...  SaleType_ConLw  \\\n",
      "0       196.0         706           0        150  ...             0.0   \n",
      "1         0.0         978           0        284  ...             0.0   \n",
      "2       162.0         486           0        434  ...             0.0   \n",
      "3         0.0         216           0        540  ...             0.0   \n",
      "4       350.0         655           0        490  ...             0.0   \n",
      "\n",
      "   SaleType_New  SaleType_Oth  SaleType_WD  SaleCondition_Abnorml  \\\n",
      "0           0.0           0.0          1.0                    0.0   \n",
      "1           0.0           0.0          1.0                    0.0   \n",
      "2           0.0           0.0          1.0                    0.0   \n",
      "3           0.0           0.0          1.0                    1.0   \n",
      "4           0.0           0.0          1.0                    0.0   \n",
      "\n",
      "   SaleCondition_AdjLand  SaleCondition_Alloca  SaleCondition_Family  \\\n",
      "0                    0.0                   0.0                   0.0   \n",
      "1                    0.0                   0.0                   0.0   \n",
      "2                    0.0                   0.0                   0.0   \n",
      "3                    0.0                   0.0                   0.0   \n",
      "4                    0.0                   0.0                   0.0   \n",
      "\n",
      "   SaleCondition_Normal  SaleCondition_Partial  \n",
      "0                   1.0                    0.0  \n",
      "1                   1.0                    0.0  \n",
      "2                   1.0                    0.0  \n",
      "3                   0.0                    0.0  \n",
      "4                   1.0                    0.0  \n",
      "\n",
      "[5 rows x 245 columns]\n"
     ]
    },
    {
     "name": "stderr",
     "output_type": "stream",
     "text": [
      "C:\\Users\\14078\\anaconda3\\envs\\mlenv\\lib\\site-packages\\ipykernel_launcher.py:3: FutureWarning: In a future version of pandas all arguments of DataFrame.drop except for the argument 'labels' will be keyword-only\n",
      "  This is separate from the ipykernel package so we can avoid doing imports until\n"
     ]
    }
   ],
   "source": [
    "if feature_encoding == 1 :\n",
    "    df_readyforencode1 = df_readyforencode1.merge(encode_df,left_index=True, right_index=True)\n",
    "    df_ready_final = df_readyforencode1.drop(df_readyforencode_cat,1)\n",
    "    print(df_ready_final.head())"
   ]
  },
  {
   "cell_type": "markdown",
   "id": "3b39282d",
   "metadata": {},
   "source": [
    "## Option 0: skipping categories (feature_encoding =0)"
   ]
  },
  {
   "cell_type": "code",
   "execution_count": 23,
   "id": "f922209d",
   "metadata": {},
   "outputs": [],
   "source": [
    "\n",
    "if feature_encoding ==0 :\n",
    "    df_readyforencode0 = df_readyforencode.copy()\n",
    "    df_readyforencode0=df_readyforencode0.drop(df_readyforencode_cat,axis=1)\n",
    "#     df_readyforencode2.shape\n",
    "    # df_readyforencode.shape\n",
    "    # df_readyforencode_cat\n",
    "    df_ready_final = df_readyforencode0\n",
    "    print(f'skipping all the catergories has this many columns: {len(df_ready_final.columns)}')"
   ]
  },
  {
   "cell_type": "markdown",
   "id": "9a82e614",
   "metadata": {},
   "source": [
    "## Option 2: Mean Encoding (feature_encoding =2)"
   ]
  },
  {
   "cell_type": "code",
   "execution_count": 24,
   "id": "c6419ee0",
   "metadata": {},
   "outputs": [],
   "source": [
    "if feature_encoding == 2:\n",
    "    df_readyforencode2 = df_readyforencode.copy()\n",
    "    for col in df_readyforencode_cat:\n",
    "        df_readyforencode2[col] = df_readyforencode2[col].map(df.groupby(col)['SalePrice'].mean())\n",
    "\n",
    "    df_ready_final = df_readyforencode2\n",
    "    print(f'Mean Encodign has this many columns: {len(df_ready_final.columns)}')"
   ]
  },
  {
   "cell_type": "markdown",
   "id": "7be79b6a",
   "metadata": {},
   "source": [
    "## Option 3: Median Encoding (feature_encoding =3)\n"
   ]
  },
  {
   "cell_type": "code",
   "execution_count": 25,
   "id": "24faf83f",
   "metadata": {},
   "outputs": [],
   "source": [
    "if feature_encoding == 3:\n",
    "    df_readyforencode3 = df_readyforencode.copy()\n",
    "    for col in df_readyforencode_cat:\n",
    "        df_readyforencode3[col] = df_readyforencode3[col].map(df.groupby(col)['SalePrice'].median())\n",
    "\n",
    "    df_ready_final = df_readyforencode3\n",
    "    print(f'Mean Encodign has this many columns: {len(df_ready_final.columns)}')"
   ]
  },
  {
   "cell_type": "markdown",
   "id": "9113e69f",
   "metadata": {},
   "source": [
    "## Option 4: Binary Encoding (feature_encoding =4)\n"
   ]
  },
  {
   "cell_type": "code",
   "execution_count": 26,
   "id": "91ae4703",
   "metadata": {},
   "outputs": [],
   "source": [
    "\n",
    "if feature_encoding == 4:\n",
    "    \n",
    "    df_readyforencode4 = df_readyforencode.copy()  \n",
    "    ce_bin = ce.BinaryEncoder()\n",
    "    # ce_bin.fit_transform(X, y)\n",
    "    # encode_df = pd.DataFrame(ce_bin.fit_transform(df_readyforencode4[df_readyforencode_cat]))\n",
    "\n",
    "    df_ready_final = pd.DataFrame(ce_bin.fit_transform(df_readyforencode4))\n",
    "\n",
    "    print(f'Bianary Encodign has this many columns: {len(df_ready_final.columns)}')\n",
    "    print(df_ready_final)"
   ]
  },
  {
   "cell_type": "code",
   "execution_count": null,
   "id": "318a95ec",
   "metadata": {},
   "outputs": [],
   "source": []
  },
  {
   "cell_type": "markdown",
   "id": "57b5a7ed",
   "metadata": {},
   "source": [
    "## splitting input and output"
   ]
  },
  {
   "cell_type": "code",
   "execution_count": 27,
   "id": "ec84773f",
   "metadata": {},
   "outputs": [
    {
     "data": {
      "text/plain": [
       "(1223, 244)"
      ]
     },
     "execution_count": 27,
     "metadata": {},
     "output_type": "execute_result"
    }
   ],
   "source": [
    "y = df_ready_final['SalePrice']\n",
    "X = df_ready_final.drop(columns=['SalePrice'])\n",
    "X.shape"
   ]
  },
  {
   "cell_type": "markdown",
   "id": "a472166b",
   "metadata": {},
   "source": [
    "## Splitting Traing and Test data"
   ]
  },
  {
   "cell_type": "code",
   "execution_count": 28,
   "id": "0744fb34",
   "metadata": {},
   "outputs": [],
   "source": [
    "X_train, X_test, y_train, y_test = train_test_split(X, y, random_state=42)\n",
    "# , stratify=y"
   ]
  },
  {
   "cell_type": "markdown",
   "id": "4269b3ef",
   "metadata": {},
   "source": [
    "## Scaling the input data"
   ]
  },
  {
   "cell_type": "code",
   "execution_count": 29,
   "id": "9e0f9248",
   "metadata": {},
   "outputs": [],
   "source": [
    "# Create a Robust instance\n",
    "scaler = RobustScaler()\n",
    "\n",
    "# Fit the StandardScaler\n",
    "X_scaler = scaler.fit(X_train)\n",
    "\n",
    "# Scale the data\n",
    "X_train_scaled = X_scaler.transform(X_train)\n",
    "X_test_scaled = X_scaler.transform(X_test)"
   ]
  },
  {
   "cell_type": "markdown",
   "id": "7acf6c54",
   "metadata": {},
   "source": [
    "## Setting up Deep Neural Network"
   ]
  },
  {
   "cell_type": "code",
   "execution_count": 30,
   "id": "04430929",
   "metadata": {},
   "outputs": [],
   "source": [
    "\n",
    "\n",
    "# Define the checkpoint path and filenames\n",
    "os.makedirs(\"checkpoints/\",exist_ok=True)\n",
    "checkpoint_path = \"checkpoints/weights.{epoch:02d}.hdf5\"\n",
    "# Create a callback that saves the model's weights every epoch\n",
    "cp_callback = ModelCheckpoint(\n",
    "    filepath=checkpoint_path,\n",
    "    verbose=1,\n",
    "    save_weights_only=True,\n",
    "    save_freq=5*804,\n",
    "     )"
   ]
  },
  {
   "cell_type": "code",
   "execution_count": 31,
   "id": "6b8846ca",
   "metadata": {},
   "outputs": [
    {
     "data": {
      "text/plain": [
       "244"
      ]
     },
     "execution_count": 31,
     "metadata": {},
     "output_type": "execute_result"
    }
   ],
   "source": [
    "number_input_features = len(X_train_scaled[0])\n",
    "number_input_features"
   ]
  },
  {
   "cell_type": "code",
   "execution_count": 32,
   "id": "520dc3c8",
   "metadata": {},
   "outputs": [
    {
     "name": "stdout",
     "output_type": "stream",
     "text": [
      "X_train_scaled:(917, 244)\n",
      "X_test_scaled:(306, 244)\n",
      "y:(1223,)\n"
     ]
    }
   ],
   "source": [
    "print(f'X_train_scaled:{X_train_scaled.shape}')\n",
    "print(f'X_test_scaled:{X_test_scaled.shape}')\n",
    "print(f'y:{y.shape}')"
   ]
  },
  {
   "cell_type": "code",
   "execution_count": 33,
   "id": "41770d26",
   "metadata": {},
   "outputs": [
    {
     "name": "stdout",
     "output_type": "stream",
     "text": [
      "Model: \"sequential\"\n",
      "_________________________________________________________________\n",
      " Layer (type)                Output Shape              Param #   \n",
      "=================================================================\n",
      " dense (Dense)               (None, 250)               61250     \n",
      "                                                                 \n",
      " dense_1 (Dense)             (None, 120)               30120     \n",
      "                                                                 \n",
      " dense_2 (Dense)             (None, 1)                 121       \n",
      "                                                                 \n",
      "=================================================================\n",
      "Total params: 91,491\n",
      "Trainable params: 91,491\n",
      "Non-trainable params: 0\n",
      "_________________________________________________________________\n"
     ]
    }
   ],
   "source": [
    "# Define the model - deep neural net, i.e., the number of input features and hidden nodes for each layer.\n",
    "\n",
    "number_input_features = len(X_train_scaled[0])\n",
    "hidden_nodes_layer1 = 250\n",
    "hidden_nodes_layer2 = 120\n",
    "hidden_nodes_layer3 = 10\n",
    "hidden_nodes_layer4 = 10\n",
    "\n",
    "nn = tf.keras.models.Sequential()\n",
    "\n",
    "# First hidden layer\n",
    "nn.add(tf.keras.layers.Dense(units=hidden_nodes_layer1, input_dim=number_input_features, activation=\"relu\"))\n",
    "\n",
    "# Second hidden layer\n",
    "nn.add(tf.keras.layers.Dense(units=hidden_nodes_layer2, activation=\"relu\"))\n",
    "\n",
    "# nn.add(tf.keras.layers.Dense(units=hidden_nodes_layer3, activation=\"relu\"))\n",
    "\n",
    "# nn.add(tf.keras.layers.Dense(units=hidden_nodes_layer4, activation=\"relu\"))\n",
    "\n",
    "\n",
    "# Output layer\n",
    "nn.add(tf.keras.layers.Dense(units=1, activation=\"relu\"))\n",
    "\n",
    "# Check the structure of the model\n",
    "nn.summary()"
   ]
  },
  {
   "cell_type": "code",
   "execution_count": 34,
   "id": "4ee9180f",
   "metadata": {},
   "outputs": [],
   "source": [
    "# Compile the model\n",
    "# nn.compile(loss=\"binary_crossentropy\", optimizer=\"adam\", metrics=[\"accuracy\"])\n",
    "nn.compile(loss=\"mean_squared_error\", optimizer=\"adam\") #since we are doing regression"
   ]
  },
  {
   "cell_type": "code",
   "execution_count": 35,
   "id": "1358be3b",
   "metadata": {},
   "outputs": [
    {
     "name": "stdout",
     "output_type": "stream",
     "text": [
      "Epoch 1/600\n",
      "29/29 [==============================] - 1s 3ms/step - loss: 41904693248.0000\n",
      "Epoch 2/600\n",
      "29/29 [==============================] - 0s 3ms/step - loss: 41753010176.0000\n",
      "Epoch 3/600\n",
      "29/29 [==============================] - 0s 3ms/step - loss: 41259085824.0000\n",
      "Epoch 4/600\n",
      "29/29 [==============================] - 0s 3ms/step - loss: 40181915648.0000\n",
      "Epoch 5/600\n",
      "29/29 [==============================] - 0s 3ms/step - loss: 38399324160.0000\n",
      "Epoch 6/600\n",
      "29/29 [==============================] - 0s 3ms/step - loss: 36423815168.0000\n",
      "Epoch 7/600\n",
      "29/29 [==============================] - 0s 3ms/step - loss: 34302117888.0000\n",
      "Epoch 8/600\n",
      "29/29 [==============================] - 0s 4ms/step - loss: 32394741760.0000\n",
      "Epoch 9/600\n",
      "29/29 [==============================] - 0s 3ms/step - loss: 30692251648.0000\n",
      "Epoch 10/600\n",
      "29/29 [==============================] - 0s 3ms/step - loss: 28969938944.0000\n",
      "Epoch 11/600\n",
      "29/29 [==============================] - 0s 3ms/step - loss: 27299315712.0000\n",
      "Epoch 12/600\n",
      "29/29 [==============================] - 0s 3ms/step - loss: 25708048384.0000\n",
      "Epoch 13/600\n",
      "29/29 [==============================] - 0s 3ms/step - loss: 24144863232.0000\n",
      "Epoch 14/600\n",
      "29/29 [==============================] - 0s 3ms/step - loss: 22473338880.0000\n",
      "Epoch 15/600\n",
      "29/29 [==============================] - 0s 3ms/step - loss: 20778534912.0000\n",
      "Epoch 16/600\n",
      "29/29 [==============================] - 0s 3ms/step - loss: 18932467712.0000\n",
      "Epoch 17/600\n",
      "29/29 [==============================] - 0s 3ms/step - loss: 16979314688.0000\n",
      "Epoch 18/600\n",
      "29/29 [==============================] - 0s 3ms/step - loss: 14929497088.0000\n",
      "Epoch 19/600\n",
      "29/29 [==============================] - 0s 3ms/step - loss: 12820530176.0000\n",
      "Epoch 20/600\n",
      "29/29 [==============================] - 0s 3ms/step - loss: 10764056576.0000\n",
      "Epoch 21/600\n",
      "29/29 [==============================] - 0s 3ms/step - loss: 8868209664.0000\n",
      "Epoch 22/600\n",
      "29/29 [==============================] - 0s 3ms/step - loss: 7183190528.0000\n",
      "Epoch 23/600\n",
      "29/29 [==============================] - 0s 3ms/step - loss: 5822017024.0000\n",
      "Epoch 24/600\n",
      "29/29 [==============================] - 0s 3ms/step - loss: 4733033472.0000\n",
      "Epoch 25/600\n",
      "29/29 [==============================] - 0s 3ms/step - loss: 3955503104.0000\n",
      "Epoch 26/600\n",
      "29/29 [==============================] - 0s 3ms/step - loss: 3501356800.0000\n",
      "Epoch 27/600\n",
      "29/29 [==============================] - 0s 3ms/step - loss: 3146560512.0000\n",
      "Epoch 28/600\n",
      "29/29 [==============================] - 0s 3ms/step - loss: 2878884352.0000\n",
      "Epoch 29/600\n",
      "29/29 [==============================] - 0s 3ms/step - loss: 2703844096.0000\n",
      "Epoch 30/600\n",
      "29/29 [==============================] - 0s 3ms/step - loss: 2582797568.0000\n",
      "Epoch 31/600\n",
      "29/29 [==============================] - 0s 3ms/step - loss: 2494428928.0000\n",
      "Epoch 32/600\n",
      "29/29 [==============================] - 0s 3ms/step - loss: 2428094976.0000\n",
      "Epoch 33/600\n",
      "29/29 [==============================] - 0s 3ms/step - loss: 2363554304.0000\n",
      "Epoch 34/600\n",
      "29/29 [==============================] - 0s 3ms/step - loss: 2333139456.0000\n",
      "Epoch 35/600\n",
      "29/29 [==============================] - 0s 3ms/step - loss: 2292592128.0000\n",
      "Epoch 36/600\n",
      "29/29 [==============================] - 0s 3ms/step - loss: 2251476480.0000\n",
      "Epoch 37/600\n",
      "29/29 [==============================] - 0s 3ms/step - loss: 2215146752.0000\n",
      "Epoch 38/600\n",
      "29/29 [==============================] - 0s 3ms/step - loss: 2172658688.0000\n",
      "Epoch 39/600\n",
      "29/29 [==============================] - 0s 4ms/step - loss: 2136912512.0000\n",
      "Epoch 40/600\n",
      "29/29 [==============================] - 0s 3ms/step - loss: 2109794048.0000\n",
      "Epoch 41/600\n",
      "29/29 [==============================] - 0s 3ms/step - loss: 2086861952.0000\n",
      "Epoch 42/600\n",
      "29/29 [==============================] - 0s 3ms/step - loss: 2065845760.0000\n",
      "Epoch 43/600\n",
      "29/29 [==============================] - 0s 3ms/step - loss: 2043701760.0000\n",
      "Epoch 44/600\n",
      "29/29 [==============================] - 0s 3ms/step - loss: 2027992960.0000\n",
      "Epoch 45/600\n",
      "29/29 [==============================] - 0s 3ms/step - loss: 1995922432.0000\n",
      "Epoch 46/600\n",
      "29/29 [==============================] - 0s 3ms/step - loss: 1992539136.0000\n",
      "Epoch 47/600\n",
      "29/29 [==============================] - 0s 3ms/step - loss: 1956007296.0000\n",
      "Epoch 48/600\n",
      "29/29 [==============================] - 0s 3ms/step - loss: 1938602112.0000\n",
      "Epoch 49/600\n",
      "29/29 [==============================] - 0s 3ms/step - loss: 1908895104.0000\n",
      "Epoch 50/600\n",
      "29/29 [==============================] - 0s 3ms/step - loss: 1897468928.0000\n",
      "Epoch 51/600\n",
      "29/29 [==============================] - 0s 3ms/step - loss: 1880390400.0000\n",
      "Epoch 52/600\n",
      "29/29 [==============================] - 0s 3ms/step - loss: 1860481536.0000\n",
      "Epoch 53/600\n",
      "29/29 [==============================] - 0s 3ms/step - loss: 1842793088.0000\n",
      "Epoch 54/600\n",
      "29/29 [==============================] - 0s 3ms/step - loss: 1831734016.0000\n",
      "Epoch 55/600\n",
      "29/29 [==============================] - 0s 3ms/step - loss: 1810727808.0000\n",
      "Epoch 56/600\n",
      "29/29 [==============================] - 0s 3ms/step - loss: 1801040512.0000\n",
      "Epoch 57/600\n",
      "29/29 [==============================] - 0s 3ms/step - loss: 1788372480.0000\n",
      "Epoch 58/600\n",
      "29/29 [==============================] - 0s 3ms/step - loss: 1766389120.0000\n",
      "Epoch 59/600\n",
      "29/29 [==============================] - 0s 3ms/step - loss: 1762233856.0000\n",
      "Epoch 60/600\n",
      "29/29 [==============================] - 0s 3ms/step - loss: 1737996160.0000\n",
      "Epoch 61/600\n",
      "29/29 [==============================] - 0s 3ms/step - loss: 1717813248.0000\n",
      "Epoch 62/600\n",
      "29/29 [==============================] - 0s 3ms/step - loss: 1710606208.0000\n",
      "Epoch 63/600\n",
      "29/29 [==============================] - 0s 3ms/step - loss: 1697144064.0000\n",
      "Epoch 64/600\n",
      "29/29 [==============================] - 0s 3ms/step - loss: 1693901184.0000\n",
      "Epoch 65/600\n",
      "29/29 [==============================] - 0s 3ms/step - loss: 1701690496.0000\n",
      "Epoch 66/600\n",
      "29/29 [==============================] - 0s 4ms/step - loss: 1671541248.0000\n",
      "Epoch 67/600\n",
      "29/29 [==============================] - 0s 4ms/step - loss: 1735519744.0000\n",
      "Epoch 68/600\n",
      "29/29 [==============================] - 0s 4ms/step - loss: 1671350528.0000\n",
      "Epoch 69/600\n",
      "29/29 [==============================] - 0s 3ms/step - loss: 1665066752.0000\n",
      "Epoch 70/600\n",
      "29/29 [==============================] - 0s 3ms/step - loss: 1639778048.0000\n",
      "Epoch 71/600\n",
      "29/29 [==============================] - 0s 3ms/step - loss: 1627431808.0000\n",
      "Epoch 72/600\n",
      "29/29 [==============================] - 0s 3ms/step - loss: 1630435584.0000\n",
      "Epoch 73/600\n",
      "29/29 [==============================] - 0s 3ms/step - loss: 1613538944.0000\n",
      "Epoch 74/600\n",
      "29/29 [==============================] - 0s 3ms/step - loss: 1653556224.0000\n",
      "Epoch 75/600\n",
      "29/29 [==============================] - 0s 3ms/step - loss: 1662620544.0000\n",
      "Epoch 76/600\n",
      "29/29 [==============================] - 0s 3ms/step - loss: 1627571968.0000\n",
      "Epoch 77/600\n",
      "29/29 [==============================] - 0s 3ms/step - loss: 1602364928.0000\n",
      "Epoch 78/600\n",
      "29/29 [==============================] - 0s 3ms/step - loss: 1710462976.0000\n",
      "Epoch 79/600\n",
      "29/29 [==============================] - 0s 3ms/step - loss: 1560598400.0000\n",
      "Epoch 80/600\n",
      "29/29 [==============================] - 0s 3ms/step - loss: 1526855424.0000\n",
      "Epoch 81/600\n",
      "29/29 [==============================] - 0s 3ms/step - loss: 1538625024.0000\n",
      "Epoch 82/600\n",
      "29/29 [==============================] - 0s 3ms/step - loss: 1502152448.0000\n",
      "Epoch 83/600\n",
      "29/29 [==============================] - 0s 3ms/step - loss: 1506715776.0000\n",
      "Epoch 84/600\n",
      "29/29 [==============================] - 0s 4ms/step - loss: 1514463616.0000\n",
      "Epoch 85/600\n",
      "29/29 [==============================] - 0s 3ms/step - loss: 1491161856.0000\n",
      "Epoch 86/600\n",
      "29/29 [==============================] - 0s 3ms/step - loss: 1474355840.0000\n",
      "Epoch 87/600\n",
      "29/29 [==============================] - 0s 3ms/step - loss: 1454312576.0000\n",
      "Epoch 88/600\n",
      "29/29 [==============================] - 0s 3ms/step - loss: 1462170880.0000\n",
      "Epoch 89/600\n",
      "29/29 [==============================] - 0s 3ms/step - loss: 1448779392.0000\n",
      "Epoch 90/600\n",
      "29/29 [==============================] - 0s 3ms/step - loss: 1433598208.0000\n",
      "Epoch 91/600\n"
     ]
    },
    {
     "name": "stdout",
     "output_type": "stream",
     "text": [
      "29/29 [==============================] - 0s 3ms/step - loss: 1443445632.0000\n",
      "Epoch 92/600\n",
      "29/29 [==============================] - 0s 3ms/step - loss: 1424853632.0000\n",
      "Epoch 93/600\n",
      "29/29 [==============================] - 0s 3ms/step - loss: 1417536256.0000\n",
      "Epoch 94/600\n",
      "29/29 [==============================] - 0s 3ms/step - loss: 1403309312.0000\n",
      "Epoch 95/600\n",
      "29/29 [==============================] - 0s 3ms/step - loss: 1424307584.0000\n",
      "Epoch 96/600\n",
      "29/29 [==============================] - 0s 3ms/step - loss: 1422335744.0000\n",
      "Epoch 97/600\n",
      "29/29 [==============================] - 0s 3ms/step - loss: 1432862336.0000\n",
      "Epoch 98/600\n",
      "29/29 [==============================] - 0s 3ms/step - loss: 1415606016.0000\n",
      "Epoch 99/600\n",
      "29/29 [==============================] - 0s 3ms/step - loss: 1381027712.0000\n",
      "Epoch 100/600\n",
      "29/29 [==============================] - 0s 3ms/step - loss: 1360498944.0000\n",
      "Epoch 101/600\n",
      "29/29 [==============================] - 0s 3ms/step - loss: 1371732608.0000\n",
      "Epoch 102/600\n",
      "29/29 [==============================] - 0s 3ms/step - loss: 1354922112.0000\n",
      "Epoch 103/600\n",
      "29/29 [==============================] - 0s 3ms/step - loss: 1341698432.0000\n",
      "Epoch 104/600\n",
      "29/29 [==============================] - 0s 4ms/step - loss: 1349389952.0000\n",
      "Epoch 105/600\n",
      "29/29 [==============================] - 0s 3ms/step - loss: 1330012928.0000\n",
      "Epoch 106/600\n",
      "29/29 [==============================] - 0s 3ms/step - loss: 1320340864.0000\n",
      "Epoch 107/600\n",
      "29/29 [==============================] - 0s 3ms/step - loss: 1325918720.0000\n",
      "Epoch 108/600\n",
      "29/29 [==============================] - 0s 4ms/step - loss: 1315774720.0000\n",
      "Epoch 109/600\n",
      "29/29 [==============================] - 0s 4ms/step - loss: 1311051776.0000\n",
      "Epoch 110/600\n",
      "29/29 [==============================] - 0s 4ms/step - loss: 1293279360.0000\n",
      "Epoch 111/600\n",
      "29/29 [==============================] - 0s 4ms/step - loss: 1294399360.0000\n",
      "Epoch 112/600\n",
      "29/29 [==============================] - 0s 3ms/step - loss: 1280908800.0000\n",
      "Epoch 113/600\n",
      "29/29 [==============================] - 0s 3ms/step - loss: 1274334592.0000\n",
      "Epoch 114/600\n",
      "29/29 [==============================] - 0s 3ms/step - loss: 1278391424.0000\n",
      "Epoch 115/600\n",
      "29/29 [==============================] - 0s 4ms/step - loss: 1275683840.0000\n",
      "Epoch 116/600\n",
      "29/29 [==============================] - 0s 3ms/step - loss: 1272903040.0000\n",
      "Epoch 117/600\n",
      "29/29 [==============================] - 0s 3ms/step - loss: 1260980992.0000\n",
      "Epoch 118/600\n",
      "29/29 [==============================] - 0s 3ms/step - loss: 1251519104.0000\n",
      "Epoch 119/600\n",
      "29/29 [==============================] - 0s 3ms/step - loss: 1240185984.0000\n",
      "Epoch 120/600\n",
      "29/29 [==============================] - 0s 4ms/step - loss: 1237084416.0000\n",
      "Epoch 121/600\n",
      "29/29 [==============================] - 0s 4ms/step - loss: 1243650816.0000\n",
      "Epoch 122/600\n",
      "29/29 [==============================] - 0s 4ms/step - loss: 1226853888.0000\n",
      "Epoch 123/600\n",
      "29/29 [==============================] - 0s 4ms/step - loss: 1241764608.0000\n",
      "Epoch 124/600\n",
      "29/29 [==============================] - 0s 4ms/step - loss: 1230104576.0000\n",
      "Epoch 125/600\n",
      "29/29 [==============================] - 0s 4ms/step - loss: 1215023104.0000\n",
      "Epoch 126/600\n",
      "29/29 [==============================] - 0s 4ms/step - loss: 1207999872.0000\n",
      "Epoch 127/600\n",
      "29/29 [==============================] - 0s 3ms/step - loss: 1235667456.0000\n",
      "Epoch 128/600\n",
      "29/29 [==============================] - 0s 3ms/step - loss: 1289900416.0000\n",
      "Epoch 129/600\n",
      "29/29 [==============================] - 0s 4ms/step - loss: 1230699520.0000\n",
      "Epoch 130/600\n",
      "29/29 [==============================] - 0s 3ms/step - loss: 1234829184.0000\n",
      "Epoch 131/600\n",
      "29/29 [==============================] - 0s 3ms/step - loss: 1242327168.0000\n",
      "Epoch 132/600\n",
      "29/29 [==============================] - 0s 3ms/step - loss: 1255206912.0000\n",
      "Epoch 133/600\n",
      "29/29 [==============================] - 0s 3ms/step - loss: 1233192448.0000\n",
      "Epoch 134/600\n",
      "29/29 [==============================] - 0s 3ms/step - loss: 1201197952.0000\n",
      "Epoch 135/600\n",
      "29/29 [==============================] - 0s 3ms/step - loss: 1168928768.0000\n",
      "Epoch 136/600\n",
      "29/29 [==============================] - 0s 3ms/step - loss: 1197844224.0000\n",
      "Epoch 137/600\n",
      "29/29 [==============================] - 0s 3ms/step - loss: 1164838272.0000\n",
      "Epoch 138/600\n",
      "29/29 [==============================] - 0s 3ms/step - loss: 1155096832.0000\n",
      "Epoch 139/600\n",
      " 1/29 [>.............................] - ETA: 0s - loss: 576664192.0000\n",
      "Epoch 139: saving model to checkpoints\\weights.139.hdf5\n",
      "29/29 [==============================] - 0s 5ms/step - loss: 1141662976.0000\n",
      "Epoch 140/600\n",
      "29/29 [==============================] - 0s 3ms/step - loss: 1183199360.0000\n",
      "Epoch 141/600\n",
      "29/29 [==============================] - 0s 3ms/step - loss: 1164917376.0000\n",
      "Epoch 142/600\n",
      "29/29 [==============================] - 0s 3ms/step - loss: 1176412544.0000\n",
      "Epoch 143/600\n",
      "29/29 [==============================] - 0s 3ms/step - loss: 1135601536.0000\n",
      "Epoch 144/600\n",
      "29/29 [==============================] - 0s 3ms/step - loss: 1155901312.0000\n",
      "Epoch 145/600\n",
      "29/29 [==============================] - 0s 3ms/step - loss: 1130286592.0000\n",
      "Epoch 146/600\n",
      "29/29 [==============================] - 0s 3ms/step - loss: 1129485440.0000\n",
      "Epoch 147/600\n",
      "29/29 [==============================] - 0s 3ms/step - loss: 1112355072.0000\n",
      "Epoch 148/600\n",
      "29/29 [==============================] - 0s 3ms/step - loss: 1139490432.0000\n",
      "Epoch 149/600\n",
      "29/29 [==============================] - 0s 3ms/step - loss: 1142366208.0000\n",
      "Epoch 150/600\n",
      "29/29 [==============================] - 0s 3ms/step - loss: 1193689600.0000\n",
      "Epoch 151/600\n",
      "29/29 [==============================] - 0s 3ms/step - loss: 1154688000.0000\n",
      "Epoch 152/600\n",
      "29/29 [==============================] - 0s 3ms/step - loss: 1120364544.0000\n",
      "Epoch 153/600\n",
      "29/29 [==============================] - 0s 3ms/step - loss: 1229652224.0000\n",
      "Epoch 154/600\n",
      "29/29 [==============================] - 0s 3ms/step - loss: 1213029760.0000\n",
      "Epoch 155/600\n",
      "29/29 [==============================] - 0s 3ms/step - loss: 1141024512.0000\n",
      "Epoch 156/600\n",
      "29/29 [==============================] - 0s 2ms/step - loss: 1117022848.0000\n",
      "Epoch 157/600\n",
      "29/29 [==============================] - 0s 3ms/step - loss: 1098804992.0000\n",
      "Epoch 158/600\n",
      "29/29 [==============================] - 0s 3ms/step - loss: 1147234944.0000\n",
      "Epoch 159/600\n",
      "29/29 [==============================] - 0s 3ms/step - loss: 1115324928.0000\n",
      "Epoch 160/600\n",
      "29/29 [==============================] - 0s 3ms/step - loss: 1078681856.0000\n",
      "Epoch 161/600\n",
      "29/29 [==============================] - 0s 3ms/step - loss: 1118498688.0000\n",
      "Epoch 162/600\n",
      "29/29 [==============================] - 0s 3ms/step - loss: 1078174848.0000\n",
      "Epoch 163/600\n",
      "29/29 [==============================] - 0s 3ms/step - loss: 1090241664.0000\n",
      "Epoch 164/600\n",
      "29/29 [==============================] - 0s 3ms/step - loss: 1052930944.0000\n",
      "Epoch 165/600\n",
      "29/29 [==============================] - 0s 3ms/step - loss: 1062603200.0000\n",
      "Epoch 166/600\n",
      "29/29 [==============================] - 0s 3ms/step - loss: 1062233280.0000\n",
      "Epoch 167/600\n",
      "29/29 [==============================] - 0s 3ms/step - loss: 1070541312.0000\n",
      "Epoch 168/600\n",
      "29/29 [==============================] - 0s 3ms/step - loss: 1044136768.0000\n",
      "Epoch 169/600\n",
      "29/29 [==============================] - 0s 3ms/step - loss: 1069220864.0000\n",
      "Epoch 170/600\n",
      "29/29 [==============================] - 0s 3ms/step - loss: 1052101632.0000\n",
      "Epoch 171/600\n",
      "29/29 [==============================] - 0s 3ms/step - loss: 1079436544.0000\n",
      "Epoch 172/600\n",
      "29/29 [==============================] - 0s 3ms/step - loss: 1045293248.0000\n",
      "Epoch 173/600\n",
      "29/29 [==============================] - 0s 3ms/step - loss: 1028930560.0000\n",
      "Epoch 174/600\n",
      "29/29 [==============================] - 0s 3ms/step - loss: 1033490112.0000\n",
      "Epoch 175/600\n",
      "29/29 [==============================] - 0s 3ms/step - loss: 1035960640.0000\n",
      "Epoch 176/600\n",
      "29/29 [==============================] - 0s 3ms/step - loss: 1029240064.0000\n",
      "Epoch 177/600\n",
      "29/29 [==============================] - 0s 3ms/step - loss: 1032309696.0000\n",
      "Epoch 178/600\n",
      "29/29 [==============================] - 0s 3ms/step - loss: 1010881152.0000\n",
      "Epoch 179/600\n"
     ]
    },
    {
     "name": "stdout",
     "output_type": "stream",
     "text": [
      "29/29 [==============================] - 0s 3ms/step - loss: 1019318784.0000\n",
      "Epoch 180/600\n",
      "29/29 [==============================] - 0s 3ms/step - loss: 1030666816.0000\n",
      "Epoch 181/600\n",
      "29/29 [==============================] - 0s 3ms/step - loss: 1013464832.0000\n",
      "Epoch 182/600\n",
      "29/29 [==============================] - 0s 3ms/step - loss: 1014057472.0000\n",
      "Epoch 183/600\n",
      "29/29 [==============================] - 0s 3ms/step - loss: 1028534336.0000\n",
      "Epoch 184/600\n",
      "29/29 [==============================] - 0s 3ms/step - loss: 1001566912.0000\n",
      "Epoch 185/600\n",
      "29/29 [==============================] - 0s 2ms/step - loss: 992638848.0000\n",
      "Epoch 186/600\n",
      "29/29 [==============================] - 0s 3ms/step - loss: 980938176.0000\n",
      "Epoch 187/600\n",
      "29/29 [==============================] - 0s 3ms/step - loss: 992220160.0000\n",
      "Epoch 188/600\n",
      "29/29 [==============================] - 0s 2ms/step - loss: 1113136256.0000\n",
      "Epoch 189/600\n",
      "29/29 [==============================] - 0s 3ms/step - loss: 1007408640.0000\n",
      "Epoch 190/600\n",
      "29/29 [==============================] - 0s 3ms/step - loss: 1035019072.0000\n",
      "Epoch 191/600\n",
      "29/29 [==============================] - 0s 3ms/step - loss: 1011951360.0000\n",
      "Epoch 192/600\n",
      "29/29 [==============================] - 0s 3ms/step - loss: 976358912.0000\n",
      "Epoch 193/600\n",
      "29/29 [==============================] - 0s 3ms/step - loss: 964737472.0000\n",
      "Epoch 194/600\n",
      "29/29 [==============================] - 0s 2ms/step - loss: 975662080.0000\n",
      "Epoch 195/600\n",
      "29/29 [==============================] - 0s 3ms/step - loss: 956915072.0000\n",
      "Epoch 196/600\n",
      "29/29 [==============================] - 0s 3ms/step - loss: 952798528.0000\n",
      "Epoch 197/600\n",
      "29/29 [==============================] - 0s 3ms/step - loss: 971400576.0000\n",
      "Epoch 198/600\n",
      "29/29 [==============================] - 0s 3ms/step - loss: 965242816.0000\n",
      "Epoch 199/600\n",
      "29/29 [==============================] - 0s 3ms/step - loss: 984463936.0000\n",
      "Epoch 200/600\n",
      "29/29 [==============================] - 0s 3ms/step - loss: 991185984.0000\n",
      "Epoch 201/600\n",
      "29/29 [==============================] - 0s 3ms/step - loss: 957453248.0000\n",
      "Epoch 202/600\n",
      "29/29 [==============================] - 0s 3ms/step - loss: 936201920.0000\n",
      "Epoch 203/600\n",
      "29/29 [==============================] - 0s 3ms/step - loss: 938010240.0000\n",
      "Epoch 204/600\n",
      "29/29 [==============================] - 0s 3ms/step - loss: 972374976.0000\n",
      "Epoch 205/600\n",
      "29/29 [==============================] - 0s 3ms/step - loss: 939923520.0000\n",
      "Epoch 206/600\n",
      "29/29 [==============================] - 0s 3ms/step - loss: 950365696.0000\n",
      "Epoch 207/600\n",
      "29/29 [==============================] - 0s 3ms/step - loss: 959982080.0000\n",
      "Epoch 208/600\n",
      "29/29 [==============================] - 0s 3ms/step - loss: 949690624.0000\n",
      "Epoch 209/600\n",
      "29/29 [==============================] - 0s 3ms/step - loss: 946570560.0000\n",
      "Epoch 210/600\n",
      "29/29 [==============================] - 0s 3ms/step - loss: 952542400.0000\n",
      "Epoch 211/600\n",
      "29/29 [==============================] - 0s 3ms/step - loss: 1249445888.0000\n",
      "Epoch 212/600\n",
      "29/29 [==============================] - 0s 3ms/step - loss: 995369152.0000\n",
      "Epoch 213/600\n",
      "29/29 [==============================] - 0s 3ms/step - loss: 1095579392.0000\n",
      "Epoch 214/600\n",
      "29/29 [==============================] - 0s 3ms/step - loss: 1087578112.0000\n",
      "Epoch 215/600\n",
      "29/29 [==============================] - 0s 3ms/step - loss: 1007171200.0000\n",
      "Epoch 216/600\n",
      "29/29 [==============================] - 0s 2ms/step - loss: 968168576.0000\n",
      "Epoch 217/600\n",
      "29/29 [==============================] - 0s 3ms/step - loss: 952150272.0000\n",
      "Epoch 218/600\n",
      "29/29 [==============================] - 0s 2ms/step - loss: 926892736.0000\n",
      "Epoch 219/600\n",
      "29/29 [==============================] - 0s 2ms/step - loss: 913262400.0000\n",
      "Epoch 220/600\n",
      "29/29 [==============================] - 0s 3ms/step - loss: 903622720.0000\n",
      "Epoch 221/600\n",
      "29/29 [==============================] - 0s 3ms/step - loss: 974911936.0000\n",
      "Epoch 222/600\n",
      "29/29 [==============================] - 0s 3ms/step - loss: 936031744.0000\n",
      "Epoch 223/600\n",
      "29/29 [==============================] - 0s 3ms/step - loss: 919060288.0000\n",
      "Epoch 224/600\n",
      "29/29 [==============================] - 0s 3ms/step - loss: 897428736.0000\n",
      "Epoch 225/600\n",
      "29/29 [==============================] - 0s 3ms/step - loss: 894235648.0000\n",
      "Epoch 226/600\n",
      "29/29 [==============================] - 0s 2ms/step - loss: 884870080.0000\n",
      "Epoch 227/600\n",
      "29/29 [==============================] - 0s 3ms/step - loss: 882309504.0000\n",
      "Epoch 228/600\n",
      "29/29 [==============================] - 0s 3ms/step - loss: 886411200.0000\n",
      "Epoch 229/600\n",
      "29/29 [==============================] - 0s 3ms/step - loss: 880126336.0000\n",
      "Epoch 230/600\n",
      "29/29 [==============================] - 0s 2ms/step - loss: 886120064.0000\n",
      "Epoch 231/600\n",
      "29/29 [==============================] - 0s 3ms/step - loss: 870809664.0000\n",
      "Epoch 232/600\n",
      "29/29 [==============================] - 0s 3ms/step - loss: 884223808.0000\n",
      "Epoch 233/600\n",
      "29/29 [==============================] - 0s 3ms/step - loss: 889978752.0000\n",
      "Epoch 234/600\n",
      "29/29 [==============================] - 0s 3ms/step - loss: 899283584.0000\n",
      "Epoch 235/600\n",
      "29/29 [==============================] - 0s 3ms/step - loss: 909221376.0000\n",
      "Epoch 236/600\n",
      "29/29 [==============================] - 0s 3ms/step - loss: 889998016.0000\n",
      "Epoch 237/600\n",
      "29/29 [==============================] - 0s 3ms/step - loss: 933680768.0000\n",
      "Epoch 238/600\n",
      "29/29 [==============================] - 0s 3ms/step - loss: 900221376.0000\n",
      "Epoch 239/600\n",
      "29/29 [==============================] - 0s 3ms/step - loss: 893142592.0000\n",
      "Epoch 240/600\n",
      "29/29 [==============================] - 0s 3ms/step - loss: 943395456.0000\n",
      "Epoch 241/600\n",
      "29/29 [==============================] - 0s 3ms/step - loss: 873929856.0000\n",
      "Epoch 242/600\n",
      "29/29 [==============================] - 0s 2ms/step - loss: 853005952.0000\n",
      "Epoch 243/600\n",
      "29/29 [==============================] - 0s 3ms/step - loss: 846308608.0000\n",
      "Epoch 244/600\n",
      "29/29 [==============================] - 0s 2ms/step - loss: 853251648.0000\n",
      "Epoch 245/600\n",
      "29/29 [==============================] - 0s 3ms/step - loss: 836379200.0000\n",
      "Epoch 246/600\n",
      "29/29 [==============================] - 0s 2ms/step - loss: 830562880.0000\n",
      "Epoch 247/600\n",
      "29/29 [==============================] - 0s 3ms/step - loss: 838015744.0000\n",
      "Epoch 248/600\n",
      "29/29 [==============================] - 0s 3ms/step - loss: 831944192.0000\n",
      "Epoch 249/600\n",
      "29/29 [==============================] - 0s 3ms/step - loss: 830720896.0000\n",
      "Epoch 250/600\n",
      "29/29 [==============================] - 0s 3ms/step - loss: 830898688.0000\n",
      "Epoch 251/600\n",
      "29/29 [==============================] - 0s 3ms/step - loss: 827035904.0000\n",
      "Epoch 252/600\n",
      "29/29 [==============================] - 0s 3ms/step - loss: 822138752.0000\n",
      "Epoch 253/600\n",
      "29/29 [==============================] - 0s 3ms/step - loss: 821745536.0000\n",
      "Epoch 254/600\n",
      "29/29 [==============================] - 0s 3ms/step - loss: 812599616.0000\n",
      "Epoch 255/600\n",
      "29/29 [==============================] - 0s 3ms/step - loss: 818431360.0000\n",
      "Epoch 256/600\n",
      "29/29 [==============================] - 0s 3ms/step - loss: 804611840.0000\n",
      "Epoch 257/600\n",
      "29/29 [==============================] - 0s 3ms/step - loss: 814638208.0000\n",
      "Epoch 258/600\n",
      "29/29 [==============================] - 0s 3ms/step - loss: 807266560.0000\n",
      "Epoch 259/600\n",
      "29/29 [==============================] - 0s 3ms/step - loss: 829093504.0000\n",
      "Epoch 260/600\n",
      "29/29 [==============================] - 0s 3ms/step - loss: 805482688.0000\n",
      "Epoch 261/600\n",
      "29/29 [==============================] - 0s 3ms/step - loss: 802636416.0000\n",
      "Epoch 262/600\n",
      "29/29 [==============================] - 0s 3ms/step - loss: 795939776.0000\n",
      "Epoch 263/600\n",
      "29/29 [==============================] - 0s 3ms/step - loss: 800129216.0000\n",
      "Epoch 264/600\n",
      "29/29 [==============================] - 0s 2ms/step - loss: 805935168.0000\n",
      "Epoch 265/600\n",
      "29/29 [==============================] - 0s 2ms/step - loss: 793945920.0000\n",
      "Epoch 266/600\n",
      "29/29 [==============================] - 0s 3ms/step - loss: 798288448.0000\n",
      "Epoch 267/600\n",
      "29/29 [==============================] - 0s 3ms/step - loss: 803522240.0000\n",
      "Epoch 268/600\n",
      "29/29 [==============================] - 0s 2ms/step - loss: 816818688.0000\n",
      "Epoch 269/600\n",
      "29/29 [==============================] - 0s 3ms/step - loss: 823177472.0000\n",
      "Epoch 270/600\n"
     ]
    },
    {
     "name": "stdout",
     "output_type": "stream",
     "text": [
      "29/29 [==============================] - 0s 3ms/step - loss: 809352384.0000\n",
      "Epoch 271/600\n",
      "29/29 [==============================] - 0s 3ms/step - loss: 789374976.0000\n",
      "Epoch 272/600\n",
      "29/29 [==============================] - 0s 3ms/step - loss: 809427712.0000\n",
      "Epoch 273/600\n",
      "29/29 [==============================] - 0s 3ms/step - loss: 815860992.0000\n",
      "Epoch 274/600\n",
      "29/29 [==============================] - 0s 3ms/step - loss: 828345536.0000\n",
      "Epoch 275/600\n",
      "29/29 [==============================] - 0s 3ms/step - loss: 811738688.0000\n",
      "Epoch 276/600\n",
      "29/29 [==============================] - 0s 3ms/step - loss: 796932416.0000\n",
      "Epoch 277/600\n",
      "29/29 [==============================] - 0s 3ms/step - loss: 789841344.0000\n",
      "Epoch 278/600\n",
      " 1/29 [>.............................] - ETA: 0s - loss: 2926682368.0000\n",
      "Epoch 278: saving model to checkpoints\\weights.278.hdf5\n",
      "29/29 [==============================] - 0s 4ms/step - loss: 894326848.0000\n",
      "Epoch 279/600\n",
      "29/29 [==============================] - 0s 3ms/step - loss: 806750720.0000\n",
      "Epoch 280/600\n",
      "29/29 [==============================] - 0s 3ms/step - loss: 794450496.0000\n",
      "Epoch 281/600\n",
      "29/29 [==============================] - 0s 2ms/step - loss: 788490496.0000\n",
      "Epoch 282/600\n",
      "29/29 [==============================] - 0s 3ms/step - loss: 865369408.0000\n",
      "Epoch 283/600\n",
      "29/29 [==============================] - 0s 3ms/step - loss: 764943360.0000\n",
      "Epoch 284/600\n",
      "29/29 [==============================] - 0s 3ms/step - loss: 763260992.0000\n",
      "Epoch 285/600\n",
      "29/29 [==============================] - 0s 3ms/step - loss: 793579904.0000\n",
      "Epoch 286/600\n",
      "29/29 [==============================] - 0s 3ms/step - loss: 840954176.0000\n",
      "Epoch 287/600\n",
      "29/29 [==============================] - 0s 3ms/step - loss: 794510784.0000\n",
      "Epoch 288/600\n",
      "29/29 [==============================] - 0s 3ms/step - loss: 836961856.0000\n",
      "Epoch 289/600\n",
      "29/29 [==============================] - 0s 3ms/step - loss: 806199360.0000\n",
      "Epoch 290/600\n",
      "29/29 [==============================] - 0s 3ms/step - loss: 819871872.0000\n",
      "Epoch 291/600\n",
      "29/29 [==============================] - 0s 3ms/step - loss: 870224000.0000\n",
      "Epoch 292/600\n",
      "29/29 [==============================] - 0s 3ms/step - loss: 810280512.0000\n",
      "Epoch 293/600\n",
      "29/29 [==============================] - 0s 3ms/step - loss: 749940352.0000\n",
      "Epoch 294/600\n",
      "29/29 [==============================] - 0s 3ms/step - loss: 751006784.0000\n",
      "Epoch 295/600\n",
      "29/29 [==============================] - 0s 3ms/step - loss: 736512704.0000\n",
      "Epoch 296/600\n",
      "29/29 [==============================] - 0s 3ms/step - loss: 740588416.0000\n",
      "Epoch 297/600\n",
      "29/29 [==============================] - 0s 3ms/step - loss: 759053888.0000\n",
      "Epoch 298/600\n",
      "29/29 [==============================] - 0s 3ms/step - loss: 763209728.0000\n",
      "Epoch 299/600\n",
      "29/29 [==============================] - 0s 3ms/step - loss: 736640000.0000\n",
      "Epoch 300/600\n",
      "29/29 [==============================] - 0s 3ms/step - loss: 737211136.0000\n",
      "Epoch 301/600\n",
      "29/29 [==============================] - 0s 3ms/step - loss: 745820672.0000\n",
      "Epoch 302/600\n",
      "29/29 [==============================] - 0s 3ms/step - loss: 792081216.0000\n",
      "Epoch 303/600\n",
      "29/29 [==============================] - 0s 3ms/step - loss: 741399936.0000\n",
      "Epoch 304/600\n",
      "29/29 [==============================] - 0s 3ms/step - loss: 728397568.0000\n",
      "Epoch 305/600\n",
      "29/29 [==============================] - 0s 3ms/step - loss: 757931648.0000\n",
      "Epoch 306/600\n",
      "29/29 [==============================] - 0s 3ms/step - loss: 717404864.0000\n",
      "Epoch 307/600\n",
      "29/29 [==============================] - 0s 4ms/step - loss: 725011776.0000\n",
      "Epoch 308/600\n",
      "29/29 [==============================] - 0s 3ms/step - loss: 730303168.0000\n",
      "Epoch 309/600\n",
      "29/29 [==============================] - 0s 4ms/step - loss: 725829440.0000\n",
      "Epoch 310/600\n",
      "29/29 [==============================] - 0s 4ms/step - loss: 726468928.0000\n",
      "Epoch 311/600\n",
      "29/29 [==============================] - 0s 3ms/step - loss: 809037696.0000\n",
      "Epoch 312/600\n",
      "29/29 [==============================] - 0s 3ms/step - loss: 723165376.0000\n",
      "Epoch 313/600\n",
      "29/29 [==============================] - 0s 3ms/step - loss: 764893952.0000\n",
      "Epoch 314/600\n",
      "29/29 [==============================] - 0s 3ms/step - loss: 749588352.0000\n",
      "Epoch 315/600\n",
      "29/29 [==============================] - 0s 3ms/step - loss: 724967424.0000\n",
      "Epoch 316/600\n",
      "29/29 [==============================] - 0s 3ms/step - loss: 718173056.0000\n",
      "Epoch 317/600\n",
      "29/29 [==============================] - 0s 3ms/step - loss: 702135680.0000\n",
      "Epoch 318/600\n",
      "29/29 [==============================] - 0s 3ms/step - loss: 709567488.0000\n",
      "Epoch 319/600\n",
      "29/29 [==============================] - 0s 3ms/step - loss: 743007808.0000\n",
      "Epoch 320/600\n",
      "29/29 [==============================] - 0s 3ms/step - loss: 710880832.0000\n",
      "Epoch 321/600\n",
      "29/29 [==============================] - 0s 3ms/step - loss: 693609024.0000\n",
      "Epoch 322/600\n",
      "29/29 [==============================] - 0s 3ms/step - loss: 699796928.0000\n",
      "Epoch 323/600\n",
      "29/29 [==============================] - 0s 3ms/step - loss: 700002048.0000\n",
      "Epoch 324/600\n",
      "29/29 [==============================] - 0s 3ms/step - loss: 709525248.0000\n",
      "Epoch 325/600\n",
      "29/29 [==============================] - 0s 3ms/step - loss: 716070912.0000\n",
      "Epoch 326/600\n",
      "29/29 [==============================] - 0s 3ms/step - loss: 753897792.0000\n",
      "Epoch 327/600\n",
      "29/29 [==============================] - 0s 3ms/step - loss: 719494400.0000\n",
      "Epoch 328/600\n",
      "29/29 [==============================] - 0s 3ms/step - loss: 752101760.0000\n",
      "Epoch 329/600\n",
      "29/29 [==============================] - 0s 3ms/step - loss: 701153024.0000\n",
      "Epoch 330/600\n",
      "29/29 [==============================] - 0s 3ms/step - loss: 815837632.0000\n",
      "Epoch 331/600\n",
      "29/29 [==============================] - 0s 3ms/step - loss: 698594432.0000\n",
      "Epoch 332/600\n",
      "29/29 [==============================] - 0s 3ms/step - loss: 693685312.0000\n",
      "Epoch 333/600\n",
      "29/29 [==============================] - 0s 3ms/step - loss: 695850752.0000\n",
      "Epoch 334/600\n",
      "29/29 [==============================] - 0s 3ms/step - loss: 704870720.0000\n",
      "Epoch 335/600\n",
      "29/29 [==============================] - 0s 3ms/step - loss: 680572608.0000\n",
      "Epoch 336/600\n",
      "29/29 [==============================] - 0s 3ms/step - loss: 667058432.0000\n",
      "Epoch 337/600\n",
      "29/29 [==============================] - 0s 3ms/step - loss: 667015808.0000\n",
      "Epoch 338/600\n",
      "29/29 [==============================] - 0s 3ms/step - loss: 661451264.0000\n",
      "Epoch 339/600\n",
      "29/29 [==============================] - 0s 3ms/step - loss: 652110528.0000\n",
      "Epoch 340/600\n",
      "29/29 [==============================] - 0s 3ms/step - loss: 657168192.0000\n",
      "Epoch 341/600\n",
      "29/29 [==============================] - 0s 3ms/step - loss: 678275072.0000\n",
      "Epoch 342/600\n",
      "29/29 [==============================] - 0s 3ms/step - loss: 997788800.0000\n",
      "Epoch 343/600\n",
      "29/29 [==============================] - 0s 3ms/step - loss: 704291456.0000\n",
      "Epoch 344/600\n",
      "29/29 [==============================] - 0s 3ms/step - loss: 799979200.0000\n",
      "Epoch 345/600\n",
      "29/29 [==============================] - 0s 3ms/step - loss: 741901888.0000\n",
      "Epoch 346/600\n",
      "29/29 [==============================] - 0s 3ms/step - loss: 705190400.0000\n",
      "Epoch 347/600\n",
      "29/29 [==============================] - 0s 4ms/step - loss: 678161792.0000\n",
      "Epoch 348/600\n",
      "29/29 [==============================] - 0s 3ms/step - loss: 689585344.0000\n",
      "Epoch 349/600\n",
      "29/29 [==============================] - 0s 3ms/step - loss: 705157056.0000\n",
      "Epoch 350/600\n",
      "29/29 [==============================] - 0s 5ms/step - loss: 704678784.0000\n",
      "Epoch 351/600\n",
      "29/29 [==============================] - 0s 3ms/step - loss: 662402560.0000\n",
      "Epoch 352/600\n",
      "29/29 [==============================] - 0s 4ms/step - loss: 671269760.0000\n",
      "Epoch 353/600\n",
      "29/29 [==============================] - 0s 3ms/step - loss: 651123200.0000\n",
      "Epoch 354/600\n",
      "29/29 [==============================] - 0s 3ms/step - loss: 641019776.0000\n",
      "Epoch 355/600\n",
      "29/29 [==============================] - 0s 3ms/step - loss: 637870912.0000\n",
      "Epoch 356/600\n",
      "29/29 [==============================] - 0s 3ms/step - loss: 664265344.0000\n",
      "Epoch 357/600\n",
      "29/29 [==============================] - 0s 3ms/step - loss: 656734080.0000\n",
      "Epoch 358/600\n",
      "29/29 [==============================] - 0s 3ms/step - loss: 680244672.0000\n",
      "Epoch 359/600\n"
     ]
    },
    {
     "name": "stdout",
     "output_type": "stream",
     "text": [
      "29/29 [==============================] - 0s 3ms/step - loss: 655356160.0000\n",
      "Epoch 360/600\n",
      "29/29 [==============================] - 0s 3ms/step - loss: 649422720.0000\n",
      "Epoch 361/600\n",
      "29/29 [==============================] - 0s 3ms/step - loss: 652851904.0000\n",
      "Epoch 362/600\n",
      "29/29 [==============================] - 0s 3ms/step - loss: 641433024.0000\n",
      "Epoch 363/600\n",
      "29/29 [==============================] - 0s 3ms/step - loss: 631179840.0000\n",
      "Epoch 364/600\n",
      "29/29 [==============================] - 0s 3ms/step - loss: 628185280.0000\n",
      "Epoch 365/600\n",
      "29/29 [==============================] - 0s 3ms/step - loss: 628067520.0000\n",
      "Epoch 366/600\n",
      "29/29 [==============================] - 0s 3ms/step - loss: 625089216.0000\n",
      "Epoch 367/600\n",
      "29/29 [==============================] - 0s 3ms/step - loss: 624161024.0000\n",
      "Epoch 368/600\n",
      "29/29 [==============================] - 0s 3ms/step - loss: 618759296.0000\n",
      "Epoch 369/600\n",
      "29/29 [==============================] - 0s 3ms/step - loss: 611942912.0000\n",
      "Epoch 370/600\n",
      "29/29 [==============================] - 0s 3ms/step - loss: 620004672.0000\n",
      "Epoch 371/600\n",
      "29/29 [==============================] - 0s 3ms/step - loss: 654734464.0000\n",
      "Epoch 372/600\n",
      "29/29 [==============================] - 0s 3ms/step - loss: 602341824.0000\n",
      "Epoch 373/600\n",
      "29/29 [==============================] - 0s 3ms/step - loss: 606950784.0000\n",
      "Epoch 374/600\n",
      "29/29 [==============================] - 0s 3ms/step - loss: 603088640.0000\n",
      "Epoch 375/600\n",
      "29/29 [==============================] - 0s 3ms/step - loss: 595065408.0000\n",
      "Epoch 376/600\n",
      "29/29 [==============================] - 0s 3ms/step - loss: 595342080.0000\n",
      "Epoch 377/600\n",
      "29/29 [==============================] - 0s 3ms/step - loss: 601486848.0000\n",
      "Epoch 378/600\n",
      "29/29 [==============================] - 0s 3ms/step - loss: 609524480.0000\n",
      "Epoch 379/600\n",
      "29/29 [==============================] - 0s 3ms/step - loss: 597384512.0000\n",
      "Epoch 380/600\n",
      "29/29 [==============================] - 0s 3ms/step - loss: 613241600.0000\n",
      "Epoch 381/600\n",
      "29/29 [==============================] - 0s 3ms/step - loss: 610642048.0000\n",
      "Epoch 382/600\n",
      "29/29 [==============================] - 0s 3ms/step - loss: 610784512.0000\n",
      "Epoch 383/600\n",
      "29/29 [==============================] - 0s 3ms/step - loss: 606473344.0000\n",
      "Epoch 384/600\n",
      "29/29 [==============================] - 0s 3ms/step - loss: 609042176.0000\n",
      "Epoch 385/600\n",
      "29/29 [==============================] - 0s 3ms/step - loss: 585796032.0000\n",
      "Epoch 386/600\n",
      "29/29 [==============================] - 0s 4ms/step - loss: 578729920.0000\n",
      "Epoch 387/600\n",
      "29/29 [==============================] - 0s 3ms/step - loss: 583259392.0000\n",
      "Epoch 388/600\n",
      "29/29 [==============================] - 0s 3ms/step - loss: 592551872.0000\n",
      "Epoch 389/600\n",
      "29/29 [==============================] - 0s 3ms/step - loss: 620664448.0000\n",
      "Epoch 390/600\n",
      "29/29 [==============================] - 0s 3ms/step - loss: 589726656.0000\n",
      "Epoch 391/600\n",
      "29/29 [==============================] - 0s 3ms/step - loss: 590464256.0000\n",
      "Epoch 392/600\n",
      "29/29 [==============================] - 0s 3ms/step - loss: 600042816.0000\n",
      "Epoch 393/600\n",
      "29/29 [==============================] - 0s 4ms/step - loss: 599090112.0000\n",
      "Epoch 394/600\n",
      "29/29 [==============================] - 0s 3ms/step - loss: 584644032.0000\n",
      "Epoch 395/600\n",
      "29/29 [==============================] - 0s 3ms/step - loss: 570600448.0000\n",
      "Epoch 396/600\n",
      "29/29 [==============================] - 0s 4ms/step - loss: 574493824.0000\n",
      "Epoch 397/600\n",
      "29/29 [==============================] - 0s 3ms/step - loss: 587918976.0000\n",
      "Epoch 398/600\n",
      "29/29 [==============================] - 0s 3ms/step - loss: 673507840.0000\n",
      "Epoch 399/600\n",
      "29/29 [==============================] - 0s 3ms/step - loss: 573568256.0000\n",
      "Epoch 400/600\n",
      "29/29 [==============================] - 0s 3ms/step - loss: 630020864.0000\n",
      "Epoch 401/600\n",
      "29/29 [==============================] - 0s 3ms/step - loss: 622527936.0000\n",
      "Epoch 402/600\n",
      "29/29 [==============================] - 0s 3ms/step - loss: 599173504.0000\n",
      "Epoch 403/600\n",
      "29/29 [==============================] - 0s 3ms/step - loss: 588254912.0000\n",
      "Epoch 404/600\n",
      "29/29 [==============================] - 0s 3ms/step - loss: 656635648.0000\n",
      "Epoch 405/600\n",
      "29/29 [==============================] - 0s 3ms/step - loss: 718333760.0000\n",
      "Epoch 406/600\n",
      "29/29 [==============================] - 0s 3ms/step - loss: 611662784.0000\n",
      "Epoch 407/600\n",
      "29/29 [==============================] - 0s 3ms/step - loss: 649551360.0000\n",
      "Epoch 408/600\n",
      "29/29 [==============================] - 0s 3ms/step - loss: 606066880.0000\n",
      "Epoch 409/600\n",
      "29/29 [==============================] - 0s 3ms/step - loss: 577048960.0000\n",
      "Epoch 410/600\n",
      "29/29 [==============================] - 0s 3ms/step - loss: 592343424.0000\n",
      "Epoch 411/600\n",
      "29/29 [==============================] - 0s 3ms/step - loss: 581774080.0000\n",
      "Epoch 412/600\n",
      "29/29 [==============================] - 0s 3ms/step - loss: 560317440.0000\n",
      "Epoch 413/600\n",
      "29/29 [==============================] - 0s 4ms/step - loss: 578993600.0000\n",
      "Epoch 414/600\n",
      "29/29 [==============================] - 0s 4ms/step - loss: 614064192.0000\n",
      "Epoch 415/600\n",
      "29/29 [==============================] - 0s 3ms/step - loss: 567217280.0000\n",
      "Epoch 416/600\n",
      "19/29 [==================>...........] - ETA: 0s - loss: 500292608.0000\n",
      "Epoch 416: saving model to checkpoints\\weights.416.hdf5\n",
      "29/29 [==============================] - 0s 4ms/step - loss: 570132544.0000\n",
      "Epoch 417/600\n",
      "29/29 [==============================] - 0s 3ms/step - loss: 568017216.0000\n",
      "Epoch 418/600\n",
      "29/29 [==============================] - 0s 3ms/step - loss: 596334016.0000\n",
      "Epoch 419/600\n",
      "29/29 [==============================] - 0s 3ms/step - loss: 569544576.0000\n",
      "Epoch 420/600\n",
      "29/29 [==============================] - 0s 3ms/step - loss: 627279936.0000\n",
      "Epoch 421/600\n",
      "29/29 [==============================] - 0s 4ms/step - loss: 628105088.0000\n",
      "Epoch 422/600\n",
      "29/29 [==============================] - 0s 3ms/step - loss: 561451328.0000\n",
      "Epoch 423/600\n",
      "29/29 [==============================] - 0s 3ms/step - loss: 564075392.0000\n",
      "Epoch 424/600\n",
      "29/29 [==============================] - 0s 3ms/step - loss: 562340992.0000\n",
      "Epoch 425/600\n",
      "29/29 [==============================] - 0s 3ms/step - loss: 570509312.0000\n",
      "Epoch 426/600\n",
      "29/29 [==============================] - 0s 3ms/step - loss: 574946624.0000\n",
      "Epoch 427/600\n",
      "29/29 [==============================] - 0s 3ms/step - loss: 548532800.0000\n",
      "Epoch 428/600\n",
      "29/29 [==============================] - 0s 3ms/step - loss: 539466112.0000\n",
      "Epoch 429/600\n",
      "29/29 [==============================] - 0s 3ms/step - loss: 556472064.0000\n",
      "Epoch 430/600\n",
      "29/29 [==============================] - 0s 3ms/step - loss: 556691776.0000\n",
      "Epoch 431/600\n",
      "29/29 [==============================] - 0s 3ms/step - loss: 566904704.0000\n",
      "Epoch 432/600\n",
      "29/29 [==============================] - 0s 3ms/step - loss: 583045760.0000\n",
      "Epoch 433/600\n",
      "29/29 [==============================] - 0s 3ms/step - loss: 522882720.0000\n",
      "Epoch 434/600\n",
      "29/29 [==============================] - 0s 3ms/step - loss: 547400320.0000\n",
      "Epoch 435/600\n",
      "29/29 [==============================] - 0s 3ms/step - loss: 564151232.0000\n",
      "Epoch 436/600\n",
      "29/29 [==============================] - 0s 3ms/step - loss: 571002624.0000\n",
      "Epoch 437/600\n",
      "29/29 [==============================] - 0s 3ms/step - loss: 570569792.0000\n",
      "Epoch 438/600\n",
      "29/29 [==============================] - 0s 3ms/step - loss: 541173120.0000\n",
      "Epoch 439/600\n",
      "29/29 [==============================] - 0s 4ms/step - loss: 584254400.0000\n",
      "Epoch 440/600\n",
      "29/29 [==============================] - 0s 3ms/step - loss: 587578432.0000\n",
      "Epoch 441/600\n",
      "29/29 [==============================] - 0s 3ms/step - loss: 543347904.0000\n",
      "Epoch 442/600\n",
      "29/29 [==============================] - 0s 3ms/step - loss: 541332928.0000\n",
      "Epoch 443/600\n",
      "29/29 [==============================] - 0s 3ms/step - loss: 519338560.0000\n",
      "Epoch 444/600\n",
      "29/29 [==============================] - 0s 3ms/step - loss: 525469568.0000\n",
      "Epoch 445/600\n",
      "29/29 [==============================] - 0s 3ms/step - loss: 535502176.0000\n",
      "Epoch 446/600\n",
      "29/29 [==============================] - 0s 3ms/step - loss: 561868992.0000\n",
      "Epoch 447/600\n",
      "29/29 [==============================] - 0s 3ms/step - loss: 523689504.0000\n",
      "Epoch 448/600\n"
     ]
    },
    {
     "name": "stdout",
     "output_type": "stream",
     "text": [
      "29/29 [==============================] - 0s 3ms/step - loss: 526591264.0000\n",
      "Epoch 449/600\n",
      "29/29 [==============================] - 0s 3ms/step - loss: 511053760.0000\n",
      "Epoch 450/600\n",
      "29/29 [==============================] - 0s 3ms/step - loss: 520044608.0000\n",
      "Epoch 451/600\n",
      "29/29 [==============================] - 0s 3ms/step - loss: 533659648.0000\n",
      "Epoch 452/600\n",
      "29/29 [==============================] - 0s 3ms/step - loss: 522010144.0000\n",
      "Epoch 453/600\n",
      "29/29 [==============================] - 0s 3ms/step - loss: 508938368.0000\n",
      "Epoch 454/600\n",
      "29/29 [==============================] - 0s 3ms/step - loss: 495367424.0000\n",
      "Epoch 455/600\n",
      "29/29 [==============================] - 0s 3ms/step - loss: 501861472.0000\n",
      "Epoch 456/600\n",
      "29/29 [==============================] - 0s 3ms/step - loss: 525805216.0000\n",
      "Epoch 457/600\n",
      "29/29 [==============================] - 0s 3ms/step - loss: 500526944.0000\n",
      "Epoch 458/600\n",
      "29/29 [==============================] - 0s 3ms/step - loss: 516358240.0000\n",
      "Epoch 459/600\n",
      "29/29 [==============================] - 0s 3ms/step - loss: 528761952.0000\n",
      "Epoch 460/600\n",
      "29/29 [==============================] - 0s 3ms/step - loss: 551464448.0000\n",
      "Epoch 461/600\n",
      "29/29 [==============================] - 0s 4ms/step - loss: 503494080.0000\n",
      "Epoch 462/600\n",
      "29/29 [==============================] - 0s 4ms/step - loss: 572143232.0000\n",
      "Epoch 463/600\n",
      "29/29 [==============================] - 0s 4ms/step - loss: 498196608.0000\n",
      "Epoch 464/600\n",
      "29/29 [==============================] - 0s 3ms/step - loss: 581371328.0000\n",
      "Epoch 465/600\n",
      "29/29 [==============================] - 0s 4ms/step - loss: 518731840.0000\n",
      "Epoch 466/600\n",
      "29/29 [==============================] - 0s 3ms/step - loss: 634606528.0000\n",
      "Epoch 467/600\n",
      "29/29 [==============================] - 0s 4ms/step - loss: 576003328.0000\n",
      "Epoch 468/600\n",
      "29/29 [==============================] - 0s 4ms/step - loss: 546465344.0000\n",
      "Epoch 469/600\n",
      "29/29 [==============================] - 0s 4ms/step - loss: 524518848.0000\n",
      "Epoch 470/600\n",
      "29/29 [==============================] - 0s 3ms/step - loss: 505076416.0000\n",
      "Epoch 471/600\n",
      "29/29 [==============================] - 0s 4ms/step - loss: 495829408.0000\n",
      "Epoch 472/600\n",
      "29/29 [==============================] - 0s 3ms/step - loss: 508062368.0000\n",
      "Epoch 473/600\n",
      "29/29 [==============================] - 0s 3ms/step - loss: 517926624.0000\n",
      "Epoch 474/600\n",
      "29/29 [==============================] - 0s 4ms/step - loss: 526204768.0000\n",
      "Epoch 475/600\n",
      "29/29 [==============================] - 0s 3ms/step - loss: 485907392.0000\n",
      "Epoch 476/600\n",
      "29/29 [==============================] - 0s 4ms/step - loss: 496513472.0000\n",
      "Epoch 477/600\n",
      "29/29 [==============================] - 0s 3ms/step - loss: 488487776.0000\n",
      "Epoch 478/600\n",
      "29/29 [==============================] - 0s 3ms/step - loss: 501855040.0000\n",
      "Epoch 479/600\n",
      "29/29 [==============================] - 0s 4ms/step - loss: 492903168.0000\n",
      "Epoch 480/600\n",
      "29/29 [==============================] - 0s 4ms/step - loss: 534000768.0000\n",
      "Epoch 481/600\n",
      "29/29 [==============================] - 0s 4ms/step - loss: 540530432.0000\n",
      "Epoch 482/600\n",
      "29/29 [==============================] - 0s 4ms/step - loss: 491769952.0000\n",
      "Epoch 483/600\n",
      "29/29 [==============================] - 0s 4ms/step - loss: 483112384.0000\n",
      "Epoch 484/600\n",
      "29/29 [==============================] - 0s 4ms/step - loss: 486348128.0000\n",
      "Epoch 485/600\n",
      "29/29 [==============================] - 0s 4ms/step - loss: 505687936.0000\n",
      "Epoch 486/600\n",
      "29/29 [==============================] - 0s 3ms/step - loss: 481786464.0000\n",
      "Epoch 487/600\n",
      "29/29 [==============================] - 0s 3ms/step - loss: 485910592.0000\n",
      "Epoch 488/600\n",
      "29/29 [==============================] - 0s 3ms/step - loss: 498339424.0000\n",
      "Epoch 489/600\n",
      "29/29 [==============================] - 0s 3ms/step - loss: 502601760.0000\n",
      "Epoch 490/600\n",
      "29/29 [==============================] - 0s 3ms/step - loss: 488718624.0000\n",
      "Epoch 491/600\n",
      "29/29 [==============================] - 0s 3ms/step - loss: 531481888.0000\n",
      "Epoch 492/600\n",
      "29/29 [==============================] - 0s 3ms/step - loss: 488047488.0000\n",
      "Epoch 493/600\n",
      "29/29 [==============================] - 0s 3ms/step - loss: 483359968.0000\n",
      "Epoch 494/600\n",
      "29/29 [==============================] - 0s 3ms/step - loss: 461411968.0000\n",
      "Epoch 495/600\n",
      "29/29 [==============================] - 0s 3ms/step - loss: 528055136.0000\n",
      "Epoch 496/600\n",
      "29/29 [==============================] - 0s 3ms/step - loss: 506055648.0000\n",
      "Epoch 497/600\n",
      "29/29 [==============================] - 0s 3ms/step - loss: 471900576.0000\n",
      "Epoch 498/600\n",
      "29/29 [==============================] - 0s 3ms/step - loss: 465944448.0000\n",
      "Epoch 499/600\n",
      "29/29 [==============================] - 0s 3ms/step - loss: 478375936.0000\n",
      "Epoch 500/600\n",
      "29/29 [==============================] - 0s 3ms/step - loss: 485382592.0000\n",
      "Epoch 501/600\n",
      "29/29 [==============================] - 0s 3ms/step - loss: 465333600.0000\n",
      "Epoch 502/600\n",
      "29/29 [==============================] - 0s 3ms/step - loss: 458162784.0000\n",
      "Epoch 503/600\n",
      "29/29 [==============================] - 0s 3ms/step - loss: 462649600.0000\n",
      "Epoch 504/600\n",
      "29/29 [==============================] - 0s 3ms/step - loss: 477069120.0000\n",
      "Epoch 505/600\n",
      "29/29 [==============================] - 0s 3ms/step - loss: 469464960.0000\n",
      "Epoch 506/600\n",
      "29/29 [==============================] - 0s 3ms/step - loss: 480451552.0000\n",
      "Epoch 507/600\n",
      "29/29 [==============================] - 0s 3ms/step - loss: 452328672.0000\n",
      "Epoch 508/600\n",
      "29/29 [==============================] - 0s 3ms/step - loss: 444242560.0000\n",
      "Epoch 509/600\n",
      "29/29 [==============================] - 0s 3ms/step - loss: 461822912.0000\n",
      "Epoch 510/600\n",
      "29/29 [==============================] - 0s 3ms/step - loss: 471137920.0000\n",
      "Epoch 511/600\n",
      "29/29 [==============================] - 0s 3ms/step - loss: 442709472.0000\n",
      "Epoch 512/600\n",
      "29/29 [==============================] - 0s 3ms/step - loss: 438650016.0000\n",
      "Epoch 513/600\n",
      "29/29 [==============================] - 0s 3ms/step - loss: 444920640.0000\n",
      "Epoch 514/600\n",
      "29/29 [==============================] - 0s 3ms/step - loss: 442564384.0000\n",
      "Epoch 515/600\n",
      "29/29 [==============================] - 0s 3ms/step - loss: 446225152.0000\n",
      "Epoch 516/600\n",
      "29/29 [==============================] - 0s 3ms/step - loss: 639796672.0000\n",
      "Epoch 517/600\n",
      "29/29 [==============================] - 0s 3ms/step - loss: 512022016.0000\n",
      "Epoch 518/600\n",
      "29/29 [==============================] - 0s 3ms/step - loss: 565334336.0000\n",
      "Epoch 519/600\n",
      "29/29 [==============================] - 0s 3ms/step - loss: 513951200.0000\n",
      "Epoch 520/600\n",
      "29/29 [==============================] - 0s 3ms/step - loss: 498778976.0000\n",
      "Epoch 521/600\n",
      "29/29 [==============================] - 0s 3ms/step - loss: 453390336.0000\n",
      "Epoch 522/600\n",
      "29/29 [==============================] - 0s 3ms/step - loss: 452180832.0000\n",
      "Epoch 523/600\n",
      "29/29 [==============================] - 0s 3ms/step - loss: 454750400.0000\n",
      "Epoch 524/600\n",
      "29/29 [==============================] - 0s 3ms/step - loss: 468853632.0000\n",
      "Epoch 525/600\n",
      "29/29 [==============================] - 0s 3ms/step - loss: 433542496.0000\n",
      "Epoch 526/600\n",
      "29/29 [==============================] - 0s 3ms/step - loss: 441012896.0000\n",
      "Epoch 527/600\n",
      "29/29 [==============================] - 0s 3ms/step - loss: 425320416.0000\n",
      "Epoch 528/600\n",
      "29/29 [==============================] - 0s 4ms/step - loss: 424135616.0000\n",
      "Epoch 529/600\n",
      "29/29 [==============================] - 0s 3ms/step - loss: 426772096.0000\n",
      "Epoch 530/600\n",
      "29/29 [==============================] - 0s 3ms/step - loss: 427638112.0000\n",
      "Epoch 531/600\n",
      "29/29 [==============================] - 0s 3ms/step - loss: 450117664.0000\n",
      "Epoch 532/600\n",
      "29/29 [==============================] - 0s 3ms/step - loss: 440788576.0000\n",
      "Epoch 533/600\n",
      "29/29 [==============================] - 0s 3ms/step - loss: 440791584.0000\n",
      "Epoch 534/600\n",
      "29/29 [==============================] - 0s 3ms/step - loss: 442535296.0000\n",
      "Epoch 535/600\n",
      "29/29 [==============================] - 0s 3ms/step - loss: 457828608.0000\n",
      "Epoch 536/600\n",
      "29/29 [==============================] - 0s 3ms/step - loss: 449819488.0000\n",
      "Epoch 537/600\n",
      "29/29 [==============================] - 0s 3ms/step - loss: 414105184.0000\n",
      "Epoch 538/600\n",
      "29/29 [==============================] - 0s 3ms/step - loss: 429107680.0000\n",
      "Epoch 539/600\n"
     ]
    },
    {
     "name": "stdout",
     "output_type": "stream",
     "text": [
      "29/29 [==============================] - 0s 3ms/step - loss: 415536576.0000\n",
      "Epoch 540/600\n",
      "29/29 [==============================] - 0s 3ms/step - loss: 412575776.0000\n",
      "Epoch 541/600\n",
      "29/29 [==============================] - 0s 3ms/step - loss: 432528000.0000\n",
      "Epoch 542/600\n",
      "29/29 [==============================] - 0s 3ms/step - loss: 439274624.0000\n",
      "Epoch 543/600\n",
      "29/29 [==============================] - 0s 4ms/step - loss: 453249856.0000\n",
      "Epoch 544/600\n",
      "29/29 [==============================] - 0s 4ms/step - loss: 447374432.0000\n",
      "Epoch 545/600\n",
      "29/29 [==============================] - 0s 3ms/step - loss: 431420160.0000\n",
      "Epoch 546/600\n",
      "29/29 [==============================] - 0s 3ms/step - loss: 502761088.0000\n",
      "Epoch 547/600\n",
      "29/29 [==============================] - 0s 3ms/step - loss: 494287264.0000\n",
      "Epoch 548/600\n",
      "29/29 [==============================] - 0s 3ms/step - loss: 416464736.0000\n",
      "Epoch 549/600\n",
      "29/29 [==============================] - 0s 3ms/step - loss: 422706048.0000\n",
      "Epoch 550/600\n",
      "29/29 [==============================] - 0s 3ms/step - loss: 441134560.0000\n",
      "Epoch 551/600\n",
      "29/29 [==============================] - 0s 3ms/step - loss: 463837248.0000\n",
      "Epoch 552/600\n",
      "29/29 [==============================] - 0s 3ms/step - loss: 473140288.0000\n",
      "Epoch 553/600\n",
      "29/29 [==============================] - 0s 4ms/step - loss: 423130784.0000\n",
      "Epoch 554/600\n",
      "29/29 [==============================] - 0s 3ms/step - loss: 432870464.0000\n",
      "Epoch 555/600\n",
      " 1/29 [>.............................] - ETA: 0s - loss: 340739328.0000\n",
      "Epoch 555: saving model to checkpoints\\weights.555.hdf5\n",
      "29/29 [==============================] - 0s 4ms/step - loss: 432839296.0000\n",
      "Epoch 556/600\n",
      "29/29 [==============================] - 0s 3ms/step - loss: 441875904.0000\n",
      "Epoch 557/600\n",
      "29/29 [==============================] - 0s 3ms/step - loss: 439332608.0000\n",
      "Epoch 558/600\n",
      "29/29 [==============================] - 0s 3ms/step - loss: 412142176.0000\n",
      "Epoch 559/600\n",
      "29/29 [==============================] - 0s 3ms/step - loss: 401848128.0000\n",
      "Epoch 560/600\n",
      "29/29 [==============================] - 0s 3ms/step - loss: 419067392.0000\n",
      "Epoch 561/600\n",
      "29/29 [==============================] - 0s 3ms/step - loss: 395150144.0000\n",
      "Epoch 562/600\n",
      "29/29 [==============================] - 0s 3ms/step - loss: 413345536.0000\n",
      "Epoch 563/600\n",
      "29/29 [==============================] - 0s 3ms/step - loss: 387837152.0000\n",
      "Epoch 564/600\n",
      "29/29 [==============================] - 0s 3ms/step - loss: 396915040.0000\n",
      "Epoch 565/600\n",
      "29/29 [==============================] - 0s 3ms/step - loss: 400587808.0000\n",
      "Epoch 566/600\n",
      "29/29 [==============================] - 0s 4ms/step - loss: 390551968.0000\n",
      "Epoch 567/600\n",
      "29/29 [==============================] - 0s 3ms/step - loss: 385590432.0000\n",
      "Epoch 568/600\n",
      "29/29 [==============================] - 0s 3ms/step - loss: 431069248.0000\n",
      "Epoch 569/600\n",
      "29/29 [==============================] - 0s 3ms/step - loss: 419456096.0000\n",
      "Epoch 570/600\n",
      "29/29 [==============================] - 0s 4ms/step - loss: 436349888.0000\n",
      "Epoch 571/600\n",
      "29/29 [==============================] - 0s 3ms/step - loss: 397798944.0000\n",
      "Epoch 572/600\n",
      "29/29 [==============================] - 0s 3ms/step - loss: 424310176.0000\n",
      "Epoch 573/600\n",
      "29/29 [==============================] - 0s 3ms/step - loss: 396785856.0000\n",
      "Epoch 574/600\n",
      "29/29 [==============================] - 0s 3ms/step - loss: 397398784.0000\n",
      "Epoch 575/600\n",
      "29/29 [==============================] - 0s 3ms/step - loss: 392326560.0000\n",
      "Epoch 576/600\n",
      "29/29 [==============================] - 0s 3ms/step - loss: 393782208.0000\n",
      "Epoch 577/600\n",
      "29/29 [==============================] - 0s 3ms/step - loss: 393308992.0000\n",
      "Epoch 578/600\n",
      "29/29 [==============================] - 0s 3ms/step - loss: 411156512.0000\n",
      "Epoch 579/600\n",
      "29/29 [==============================] - 0s 3ms/step - loss: 436862944.0000\n",
      "Epoch 580/600\n",
      "29/29 [==============================] - 0s 3ms/step - loss: 391088864.0000\n",
      "Epoch 581/600\n",
      "29/29 [==============================] - 0s 3ms/step - loss: 388663008.0000\n",
      "Epoch 582/600\n",
      "29/29 [==============================] - 0s 3ms/step - loss: 387986528.0000\n",
      "Epoch 583/600\n",
      "29/29 [==============================] - 0s 3ms/step - loss: 375380672.0000\n",
      "Epoch 584/600\n",
      "29/29 [==============================] - 0s 4ms/step - loss: 394561888.0000\n",
      "Epoch 585/600\n",
      "29/29 [==============================] - 0s 3ms/step - loss: 413446592.0000\n",
      "Epoch 586/600\n",
      "29/29 [==============================] - 0s 3ms/step - loss: 407255808.0000\n",
      "Epoch 587/600\n",
      "29/29 [==============================] - 0s 3ms/step - loss: 466077440.0000\n",
      "Epoch 588/600\n",
      "29/29 [==============================] - 0s 3ms/step - loss: 465159648.0000\n",
      "Epoch 589/600\n",
      "29/29 [==============================] - 0s 3ms/step - loss: 488396416.0000\n",
      "Epoch 590/600\n",
      "29/29 [==============================] - 0s 3ms/step - loss: 391208672.0000\n",
      "Epoch 591/600\n",
      "29/29 [==============================] - 0s 3ms/step - loss: 389230336.0000\n",
      "Epoch 592/600\n",
      "29/29 [==============================] - 0s 3ms/step - loss: 387510752.0000\n",
      "Epoch 593/600\n",
      "29/29 [==============================] - 0s 3ms/step - loss: 383752768.0000\n",
      "Epoch 594/600\n",
      "29/29 [==============================] - 0s 3ms/step - loss: 389864160.0000\n",
      "Epoch 595/600\n",
      "29/29 [==============================] - 0s 3ms/step - loss: 380641312.0000\n",
      "Epoch 596/600\n",
      "29/29 [==============================] - 0s 3ms/step - loss: 369139136.0000\n",
      "Epoch 597/600\n",
      "29/29 [==============================] - 0s 3ms/step - loss: 371132896.0000\n",
      "Epoch 598/600\n",
      "29/29 [==============================] - 0s 3ms/step - loss: 416224736.0000\n",
      "Epoch 599/600\n",
      "29/29 [==============================] - 0s 2ms/step - loss: 413342880.0000\n",
      "Epoch 600/600\n",
      "29/29 [==============================] - 0s 3ms/step - loss: 396171072.0000\n"
     ]
    }
   ],
   "source": [
    "fit_model = nn.fit(X_train_scaled, y_train, epochs=600,callbacks=[cp_callback])"
   ]
  },
  {
   "cell_type": "code",
   "execution_count": 38,
   "id": "9ca24864",
   "metadata": {},
   "outputs": [
    {
     "name": "stdout",
     "output_type": "stream",
     "text": [
      "10/10 - 0s - loss: 1861735936.0000 - 41ms/epoch - 4ms/step\n",
      "Loss on the Test Dataset: 1861735936.0\n"
     ]
    }
   ],
   "source": [
    "model_loss = nn.evaluate(X_test_scaled,y_test,verbose=2)\n",
    "print(f\"Loss on the Test Dataset: {model_loss}\")\n"
   ]
  },
  {
   "cell_type": "markdown",
   "id": "f5616a15",
   "metadata": {},
   "source": []
  },
  {
   "cell_type": "code",
   "execution_count": null,
   "id": "bbed8b06",
   "metadata": {},
   "outputs": [],
   "source": []
  },
  {
   "cell_type": "code",
   "execution_count": 41,
   "id": "a57d57a0",
   "metadata": {},
   "outputs": [
    {
     "name": "stdout",
     "output_type": "stream",
     "text": [
      "29/29 [==============================] - 0s 2ms/step\n"
     ]
    },
    {
     "data": {
      "image/png": "[encoded data removed]",
      "text/plain": [
       "<Figure size 432x288 with 1 Axes>"
      ]
     },
     "metadata": {
      "needs_background": "light"
     },
     "output_type": "display_data"
    },
    {
     "name": "stdout",
     "output_type": "stream",
     "text": [
      "R2 Score on the test dataset using RandomForestRegressor: 0.9455616327221137\n"
     ]
    }
   ],
   "source": [
    "predictions_mod = nn.predict(X_train_scaled)\n",
    "predictions=predictions_mod.reshape(-1)\n",
    "t = np.arange(0,max(predictions),100)\n",
    "plt.scatter(y_train,predictions)\n",
    "plt.plot(t,t)\n",
    "plt.xlabel('y_train')\n",
    "plt.ylabel('Prediction')\n",
    "plt.show()\n",
    "print(f'R2 Score on the test dataset using RandomForestRegressor: {r2_score(y_train, predictions)}')"
   ]
  },
  {
   "cell_type": "code",
   "execution_count": 42,
   "id": "6ba49787",
   "metadata": {},
   "outputs": [
    {
     "name": "stdout",
     "output_type": "stream",
     "text": [
      "10/10 [==============================] - 0s 2ms/step\n"
     ]
    },
    {
     "data": {
      "image/png": "[encoded data removed]",
      "text/plain": [
       "<Figure size 432x288 with 1 Axes>"
      ]
     },
     "metadata": {
      "needs_background": "light"
     },
     "output_type": "display_data"
    },
    {
     "name": "stdout",
     "output_type": "stream",
     "text": [
      "R2 Score on the test dataset using DNN: 0.6161726292244272\n"
     ]
    }
   ],
   "source": [
    "predictions_mod = nn.predict(X_test_scaled)\n",
    "predictions=predictions_mod.reshape(-1)\n",
    "plt.scatter(y_test,predictions)\n",
    "plt.plot(t,t)\n",
    "plt.xlabel('y_test')\n",
    "plt.ylabel('Prediction')\n",
    "plt.show()\n",
    "print(f'R2 Score on the test dataset using DNN: {r2_score(y_test, predictions)}')"
   ]
  },
  {
   "cell_type": "code",
   "execution_count": 49,
   "id": "5a043ddb",
   "metadata": {},
   "outputs": [
    {
     "data": {
      "text/plain": [
       "(306,)"
      ]
     },
     "execution_count": 49,
     "metadata": {},
     "output_type": "execute_result"
    }
   ],
   "source": [
    "gg=predictions.reshape(-1)\n",
    "predictions.shape"
   ]
  },
  {
   "cell_type": "code",
   "execution_count": 51,
   "id": "687d3cab",
   "metadata": {},
   "outputs": [
    {
     "data": {
      "image/png": "[encoded data removed]",
      "text/plain": [
       "<Figure size 432x288 with 1 Axes>"
      ]
     },
     "metadata": {
      "needs_background": "light"
     },
     "output_type": "display_data"
    }
   ],
   "source": [
    "bins = np.linspace(0, max(y_test), 15)\n",
    "digitized = np.digitize(y_test, bins)\n",
    "\n",
    "DNN_Res = pd.DataFrame(y_test)\n",
    "DNN_Res['pred'] =predictions\n",
    "DNN_Res[\"bins\"] = digitized\n",
    "DNN_Res['error'] = (predictions-y_test)\n",
    "DNN_Res_mean = DNN_Res.groupby(['bins']).mean()\n",
    "DNN_Res_std =DNN_Res.groupby(['bins']).std()\n",
    "\n",
    "plt.errorbar(DNN_Res_mean['SalePrice'][:-1],DNN_Res_mean['pred'][:-1],DNN_Res_std['error'][:-1])\n",
    "plt.xlabel('y_test(SalePrice)')\n",
    "plt.ylabel('Prediction')\n",
    "plt.grid()"
   ]
  },
  {
   "cell_type": "code",
   "execution_count": 52,
   "id": "502c4316",
   "metadata": {},
   "outputs": [
    {
     "data": {
      "text/plain": [
       "Text(0.5, 1.0, 'Error in percentage in house Price Prediction')"
      ]
     },
     "execution_count": 52,
     "metadata": {},
     "output_type": "execute_result"
    },
    {
     "data": {
      "image/png": "[encoded data removed]",
      "text/plain": [
       "<Figure size 432x288 with 1 Axes>"
      ]
     },
     "metadata": {
      "needs_background": "light"
     },
     "output_type": "display_data"
    }
   ],
   "source": [
    "error_perc = (predictions-y_test)/y_test*100\n",
    "plt.boxplot(error_perc)\n",
    "plt.ylim([-50,50])\n",
    "plt.grid()\n",
    "plt.title('Error in percentage in house Price Prediction')"
   ]
  },
  {
   "cell_type": "code",
   "execution_count": 53,
   "id": "1bac1fe9",
   "metadata": {},
   "outputs": [
    {
     "data": {
      "image/png": "[encoded data removed]",
      "text/plain": [
       "<Figure size 432x288 with 1 Axes>"
      ]
     },
     "metadata": {
      "needs_background": "light"
     },
     "output_type": "display_data"
    }
   ],
   "source": [
    "res = stats.probplot(error_perc, plot=plt)\n",
    "plt.grid()\n",
    "plt.ylim([-100,100])\n",
    "plt.show()"
   ]
  },
  {
   "cell_type": "code",
   "execution_count": null,
   "id": "2b34889f",
   "metadata": {},
   "outputs": [],
   "source": []
  },
  {
   "cell_type": "markdown",
   "id": "3af338af",
   "metadata": {},
   "source": [
    "# Adding RandomForestRegressor\n",
    "from scikit learn"
   ]
  },
  {
   "cell_type": "code",
   "execution_count": 54,
   "id": "e3a4debe",
   "metadata": {},
   "outputs": [
    {
     "name": "stdout",
     "output_type": "stream",
     "text": [
      "{'n_estimators': [200, 400, 600, 800, 1000, 1200, 1400, 1600, 1800, 2000], 'max_features': ['auto', 'sqrt'], 'max_depth': [10, 20, 30, 40, 50, 60, 70, 80, 90, 100, 110, None], 'min_samples_split': [2, 5, 10], 'min_samples_leaf': [1, 2, 4], 'bootstrap': [True, False]}\n"
     ]
    }
   ],
   "source": [
    "# Number of trees in random forest\n",
    "n_estimators = [int(x) for x in np.linspace(start = 200, stop = 2000, num = 10)]\n",
    "# Number of features to consider at every split\n",
    "max_features = ['auto', 'sqrt']\n",
    "# Maximum number of levels in tree\n",
    "max_depth = [int(x) for x in np.linspace(10, 110, num = 11)]\n",
    "max_depth.append(None)\n",
    "# Minimum number of samples required to split a node\n",
    "min_samples_split = [2, 5, 10]\n",
    "# Minimum number of samples required at each leaf node\n",
    "min_samples_leaf = [1, 2, 4]\n",
    "# Method of selecting samples for training each tree\n",
    "bootstrap = [True, False]\n",
    "# Create the random grid\n",
    "random_grid = {'n_estimators': n_estimators,\n",
    "               'max_features': max_features,\n",
    "               'max_depth': max_depth,\n",
    "               'min_samples_split': min_samples_split,\n",
    "               'min_samples_leaf': min_samples_leaf,\n",
    "               'bootstrap': bootstrap}\n",
    "print(random_grid)"
   ]
  },
  {
   "cell_type": "code",
   "execution_count": 55,
   "id": "6c7be2d2",
   "metadata": {},
   "outputs": [],
   "source": [
    "using_Randomizedsearch_forRandom = 0\n",
    "if using_Randomizedsearch_forRandom==0:\n",
    "    # regr = RandomForestRegressor(n_estimators=500,max_depth=100, random_state=0)\n",
    "    regr = RandomForestRegressor()\n",
    "\n",
    "    regr.fit(X_train_scaled, y_train)"
   ]
  },
  {
   "cell_type": "code",
   "execution_count": 56,
   "id": "e7d025ed",
   "metadata": {},
   "outputs": [],
   "source": [
    "if using_Randomizedsearch_forRandom==1:\n",
    "    rf = RandomForestRegressor()\n",
    "    rf_random = RandomizedSearchCV(estimator = rf, param_distributions = random_grid, n_iter = 20, cv = 3, verbose=2, random_state=42, n_jobs = -1)\n",
    "    # Fit the random search model\n",
    "    rf_random.fit(X_train_scaled, y_train)"
   ]
  },
  {
   "cell_type": "code",
   "execution_count": 57,
   "id": "0745fc21",
   "metadata": {},
   "outputs": [
    {
     "name": "stdout",
     "output_type": "stream",
     "text": [
      "Loss on the test dataset using RandomForestRegressor: 1096589639.8809369\n",
      "R2 Score on the test dataset using RandomForestRegressor: 0.7739200768730643\n"
     ]
    },
    {
     "data": {
      "image/png": "[encoded data removed]",
      "text/plain": [
       "<Figure size 432x288 with 1 Axes>"
      ]
     },
     "metadata": {
      "needs_background": "light"
     },
     "output_type": "display_data"
    }
   ],
   "source": [
    "\n",
    "predictions = regr.predict(X_test_scaled)\n",
    "print(f'Loss on the test dataset using RandomForestRegressor: {mean_squared_error(y_test, predictions)}')\n",
    "print(f'R2 Score on the test dataset using RandomForestRegressor: {r2_score(y_test, predictions)}')\n",
    "\n",
    "plt.scatter(y_test,predictions)\n",
    "plt.plot(t,t)\n",
    "plt.xlabel('y_test(SalePrice)')\n",
    "plt.ylabel('Prediction')\n",
    "plt.grid()\n",
    "plt.show()#"
   ]
  },
  {
   "cell_type": "code",
   "execution_count": 58,
   "id": "a780a4ad",
   "metadata": {},
   "outputs": [
    {
     "ename": "AttributeError",
     "evalue": "'numpy.ndarray' object has no attribute 'groupby'",
     "output_type": "error",
     "traceback": [
      "\u001b[1;31m---------------------------------------------------------------------------\u001b[0m",
      "\u001b[1;31mAttributeError\u001b[0m                            Traceback (most recent call last)",
      "\u001b[1;32m~\\AppData\\Local\\Temp\\ipykernel_1628\\2427014323.py\u001b[0m in \u001b[0;36m<module>\u001b[1;34m\u001b[0m\n\u001b[0;32m      6\u001b[0m \u001b[0mRF_Res\u001b[0m\u001b[1;33m[\u001b[0m\u001b[1;34m\"bins\"\u001b[0m\u001b[1;33m]\u001b[0m \u001b[1;33m=\u001b[0m \u001b[0mdigitized\u001b[0m\u001b[1;33m\u001b[0m\u001b[1;33m\u001b[0m\u001b[0m\n\u001b[0;32m      7\u001b[0m \u001b[0mRF_Res\u001b[0m\u001b[1;33m[\u001b[0m\u001b[1;34m'error'\u001b[0m\u001b[1;33m]\u001b[0m \u001b[1;33m=\u001b[0m \u001b[1;33m(\u001b[0m\u001b[0mpredictions\u001b[0m\u001b[1;33m-\u001b[0m\u001b[0my_test\u001b[0m\u001b[1;33m)\u001b[0m\u001b[1;33m\u001b[0m\u001b[1;33m\u001b[0m\u001b[0m\n\u001b[1;32m----> 8\u001b[1;33m \u001b[0mRF_Res_mean\u001b[0m \u001b[1;33m=\u001b[0m \u001b[0mgg\u001b[0m\u001b[1;33m.\u001b[0m\u001b[0mgroupby\u001b[0m\u001b[1;33m(\u001b[0m\u001b[1;33m[\u001b[0m\u001b[1;34m'bins'\u001b[0m\u001b[1;33m]\u001b[0m\u001b[1;33m)\u001b[0m\u001b[1;33m.\u001b[0m\u001b[0mmean\u001b[0m\u001b[1;33m(\u001b[0m\u001b[1;33m)\u001b[0m\u001b[1;33m\u001b[0m\u001b[1;33m\u001b[0m\u001b[0m\n\u001b[0m\u001b[0;32m      9\u001b[0m \u001b[0mRF_Res_std\u001b[0m \u001b[1;33m=\u001b[0m\u001b[0mgg\u001b[0m\u001b[1;33m.\u001b[0m\u001b[0mgroupby\u001b[0m\u001b[1;33m(\u001b[0m\u001b[1;33m[\u001b[0m\u001b[1;34m'bins'\u001b[0m\u001b[1;33m]\u001b[0m\u001b[1;33m)\u001b[0m\u001b[1;33m.\u001b[0m\u001b[0mstd\u001b[0m\u001b[1;33m(\u001b[0m\u001b[1;33m)\u001b[0m\u001b[1;33m\u001b[0m\u001b[1;33m\u001b[0m\u001b[0m\n\u001b[0;32m     10\u001b[0m \u001b[1;33m\u001b[0m\u001b[0m\n",
      "\u001b[1;31mAttributeError\u001b[0m: 'numpy.ndarray' object has no attribute 'groupby'"
     ]
    }
   ],
   "source": [
    "bins = np.linspace(0, max(y_test), 15)\n",
    "digitized = np.digitize(y_test, bins)\n",
    "\n",
    "RF_Res = pd.DataFrame(y_test)\n",
    "RF_Res['pred'] =predictions\n",
    "RF_Res[\"bins\"] = digitized\n",
    "RF_Res['error'] = (predictions-y_test)\n",
    "RF_Res_mean = gg.groupby(['bins']).mean()\n",
    "RF_Res_std =gg.groupby(['bins']).std()\n",
    "\n",
    "plt.errorbar(RF_Res_mean['SalePrice'][:-1],RF_Res_mean['pred'][:-1],RF_Res_std['error'][:-1])\n",
    "plt.xlabel('y_test(SalePrice)')\n",
    "plt.ylabel('Prediction')\n",
    "plt.grid()"
   ]
  },
  {
   "cell_type": "code",
   "execution_count": null,
   "id": "fd22b990",
   "metadata": {},
   "outputs": [],
   "source": [
    "error_perc = (predictions-y_test)/y_test*100\n",
    "plt.boxplot(error_perc)\n",
    "plt.ylim([-50,50])\n",
    "plt.grid()\n",
    "plt.title('Error in percentage in house Price Prediction')\n"
   ]
  },
  {
   "cell_type": "code",
   "execution_count": null,
   "id": "303895a9",
   "metadata": {},
   "outputs": [],
   "source": [
    "plt.scatter(y_test,error_perc)\n",
    "# plt.plot(t,t)\n",
    "plt.xlabel('y_test')\n",
    "plt.ylabel('Prediction')\n",
    "plt.ylim([-50,50])\n",
    "plt.grid()\n",
    "plt.show()#"
   ]
  },
  {
   "cell_type": "code",
   "execution_count": 59,
   "id": "b88c939a",
   "metadata": {},
   "outputs": [
    {
     "data": {
      "image/png": "[encoded data removed]",
      "text/plain": [
       "<Figure size 432x288 with 1 Axes>"
      ]
     },
     "metadata": {
      "needs_background": "light"
     },
     "output_type": "display_data"
    }
   ],
   "source": [
    "\n",
    "res = stats.probplot(error_perc, plot=plt)\n",
    "plt.grid()\n",
    "plt.ylim([-100,100])\n",
    "plt.show()\n"
   ]
  },
  {
   "cell_type": "code",
   "execution_count": null,
   "id": "6d5f2904",
   "metadata": {},
   "outputs": [],
   "source": [
    "\n"
   ]
  },
  {
   "cell_type": "markdown",
   "id": "ce0ff0a7",
   "metadata": {},
   "source": [
    "## This part checks for feature importance"
   ]
  },
  {
   "cell_type": "code",
   "execution_count": 60,
   "id": "99d4573d",
   "metadata": {},
   "outputs": [],
   "source": [
    "# regr.feature_importances_"
   ]
  },
  {
   "cell_type": "markdown",
   "id": "e05a15cb",
   "metadata": {},
   "source": [
    "## Next section plots sorted feature importance  ( only TOP 15 important Features)"
   ]
  },
  {
   "cell_type": "code",
   "execution_count": 61,
   "id": "3f0a1ffc",
   "metadata": {},
   "outputs": [
    {
     "data": {
      "text/plain": [
       "<AxesSubplot:>"
      ]
     },
     "execution_count": 61,
     "metadata": {},
     "output_type": "execute_result"
    },
    {
     "data": {
      "image/png": "[encoded data removed]",
      "text/plain": [
       "<Figure size 1080x432 with 1 Axes>"
      ]
     },
     "metadata": {
      "needs_background": "light"
     },
     "output_type": "display_data"
    }
   ],
   "source": [
    "feats = {} # a dict to hold feature_name: feature_importance\n",
    "for feature, importance in zip(X.columns, regr.feature_importances_):\n",
    "    feats[feature] = importance #add the name/value pair \n",
    "\n",
    "importances = pd.DataFrame.from_dict(feats, orient='index').rename(columns={0: 'Gini-importance'})\n",
    "importances.sort_values(by='Gini-importance',ascending = False).head(15).plot(kind='bar', rot=60,figsize=(15,6))"
   ]
  },
  {
   "cell_type": "code",
   "execution_count": null,
   "id": "a814deae",
   "metadata": {},
   "outputs": [],
   "source": []
  },
  {
   "cell_type": "code",
   "execution_count": null,
   "id": "c852505a",
   "metadata": {},
   "outputs": [],
   "source": []
  },
  {
   "cell_type": "code",
   "execution_count": null,
   "id": "fdc8f892",
   "metadata": {},
   "outputs": [],
   "source": []
  },
  {
   "cell_type": "code",
   "execution_count": null,
   "id": "8bbef07a",
   "metadata": {},
   "outputs": [],
   "source": []
  }
 ],
 "metadata": {
  "kernelspec": {
   "display_name": "mlenv",
   "language": "python",
   "name": "mlenv"
  },
  "language_info": {
   "codemirror_mode": {
    "name": "ipython",
    "version": 3
   },
   "file_extension": ".py",
   "mimetype": "text/x-python",
   "name": "python",
   "nbconvert_exporter": "python",
   "pygments_lexer": "ipython3",
   "version": "3.7.13"
  }
 },
 "nbformat": 4,
 "nbformat_minor": 5
}
