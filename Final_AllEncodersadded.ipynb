{
 "cells": [
  {
   "cell_type": "markdown",
   "id": "de371161",
   "metadata": {},
   "source": [
    "## Importing Libraries and Dependencies"
   ]
  },
  {
   "cell_type": "code",
   "execution_count": 545,
   "id": "c954107d",
   "metadata": {},
   "outputs": [],
   "source": [
    "\n",
    "import pandas as pd\n",
    "import seaborn as sns\n",
    "from sklearn.model_selection import train_test_split\n",
    "from sklearn.preprocessing import StandardScaler,OneHotEncoder,RobustScaler\n",
    "from pathlib import Path\n",
    "import matplotlib.pyplot as plt\n",
    "import numpy as np\n",
    "from sklearn.ensemble import RandomForestRegressor\n",
    "from sklearn.metrics import mean_squared_error\n",
    "import category_encoders as ce   #you many need to: pip install category_encoders"
   ]
  },
  {
   "cell_type": "raw",
   "id": "fe392a21",
   "metadata": {},
   "source": []
  },
  {
   "cell_type": "code",
   "execution_count": 546,
   "id": "80ee0f93",
   "metadata": {},
   "outputs": [],
   "source": [
    "feature_encoding = 4  #  0 for skiping categories in evaluation *** 1 for oneHotEncoder ***  2 for TargetEncoder *** 3 for Binary Encoder\n"
   ]
  },
  {
   "cell_type": "markdown",
   "id": "fd24cc2e",
   "metadata": {},
   "source": [
    "## Reading the file into a dataframe"
   ]
  },
  {
   "cell_type": "code",
   "execution_count": 547,
   "id": "bb1fd992",
   "metadata": {},
   "outputs": [
    {
     "name": "stdout",
     "output_type": "stream",
     "text": [
      " Data frame size is  (1460, 81)\n"
     ]
    },
    {
     "data": {
      "text/html": [
       "<div>\n",
       "<style scoped>\n",
       "    .dataframe tbody tr th:only-of-type {\n",
       "        vertical-align: middle;\n",
       "    }\n",
       "\n",
       "    .dataframe tbody tr th {\n",
       "        vertical-align: top;\n",
       "    }\n",
       "\n",
       "    .dataframe thead th {\n",
       "        text-align: right;\n",
       "    }\n",
       "</style>\n",
       "<table border=\"1\" class=\"dataframe\">\n",
       "  <thead>\n",
       "    <tr style=\"text-align: right;\">\n",
       "      <th></th>\n",
       "      <th>Id</th>\n",
       "      <th>MSSubClass</th>\n",
       "      <th>MSZoning</th>\n",
       "      <th>LotFrontage</th>\n",
       "      <th>LotArea</th>\n",
       "      <th>Street</th>\n",
       "      <th>Alley</th>\n",
       "      <th>LotShape</th>\n",
       "      <th>LandContour</th>\n",
       "      <th>Utilities</th>\n",
       "      <th>...</th>\n",
       "      <th>PoolArea</th>\n",
       "      <th>PoolQC</th>\n",
       "      <th>Fence</th>\n",
       "      <th>MiscFeature</th>\n",
       "      <th>MiscVal</th>\n",
       "      <th>MoSold</th>\n",
       "      <th>YrSold</th>\n",
       "      <th>SaleType</th>\n",
       "      <th>SaleCondition</th>\n",
       "      <th>SalePrice</th>\n",
       "    </tr>\n",
       "  </thead>\n",
       "  <tbody>\n",
       "    <tr>\n",
       "      <th>0</th>\n",
       "      <td>1</td>\n",
       "      <td>60</td>\n",
       "      <td>RL</td>\n",
       "      <td>65.0</td>\n",
       "      <td>8450</td>\n",
       "      <td>Pave</td>\n",
       "      <td>NaN</td>\n",
       "      <td>Reg</td>\n",
       "      <td>Lvl</td>\n",
       "      <td>AllPub</td>\n",
       "      <td>...</td>\n",
       "      <td>0</td>\n",
       "      <td>NaN</td>\n",
       "      <td>NaN</td>\n",
       "      <td>NaN</td>\n",
       "      <td>0</td>\n",
       "      <td>2</td>\n",
       "      <td>2008</td>\n",
       "      <td>WD</td>\n",
       "      <td>Normal</td>\n",
       "      <td>208500</td>\n",
       "    </tr>\n",
       "    <tr>\n",
       "      <th>1</th>\n",
       "      <td>2</td>\n",
       "      <td>20</td>\n",
       "      <td>RL</td>\n",
       "      <td>80.0</td>\n",
       "      <td>9600</td>\n",
       "      <td>Pave</td>\n",
       "      <td>NaN</td>\n",
       "      <td>Reg</td>\n",
       "      <td>Lvl</td>\n",
       "      <td>AllPub</td>\n",
       "      <td>...</td>\n",
       "      <td>0</td>\n",
       "      <td>NaN</td>\n",
       "      <td>NaN</td>\n",
       "      <td>NaN</td>\n",
       "      <td>0</td>\n",
       "      <td>5</td>\n",
       "      <td>2007</td>\n",
       "      <td>WD</td>\n",
       "      <td>Normal</td>\n",
       "      <td>181500</td>\n",
       "    </tr>\n",
       "    <tr>\n",
       "      <th>2</th>\n",
       "      <td>3</td>\n",
       "      <td>60</td>\n",
       "      <td>RL</td>\n",
       "      <td>68.0</td>\n",
       "      <td>11250</td>\n",
       "      <td>Pave</td>\n",
       "      <td>NaN</td>\n",
       "      <td>IR1</td>\n",
       "      <td>Lvl</td>\n",
       "      <td>AllPub</td>\n",
       "      <td>...</td>\n",
       "      <td>0</td>\n",
       "      <td>NaN</td>\n",
       "      <td>NaN</td>\n",
       "      <td>NaN</td>\n",
       "      <td>0</td>\n",
       "      <td>9</td>\n",
       "      <td>2008</td>\n",
       "      <td>WD</td>\n",
       "      <td>Normal</td>\n",
       "      <td>223500</td>\n",
       "    </tr>\n",
       "    <tr>\n",
       "      <th>3</th>\n",
       "      <td>4</td>\n",
       "      <td>70</td>\n",
       "      <td>RL</td>\n",
       "      <td>60.0</td>\n",
       "      <td>9550</td>\n",
       "      <td>Pave</td>\n",
       "      <td>NaN</td>\n",
       "      <td>IR1</td>\n",
       "      <td>Lvl</td>\n",
       "      <td>AllPub</td>\n",
       "      <td>...</td>\n",
       "      <td>0</td>\n",
       "      <td>NaN</td>\n",
       "      <td>NaN</td>\n",
       "      <td>NaN</td>\n",
       "      <td>0</td>\n",
       "      <td>2</td>\n",
       "      <td>2006</td>\n",
       "      <td>WD</td>\n",
       "      <td>Abnorml</td>\n",
       "      <td>140000</td>\n",
       "    </tr>\n",
       "    <tr>\n",
       "      <th>4</th>\n",
       "      <td>5</td>\n",
       "      <td>60</td>\n",
       "      <td>RL</td>\n",
       "      <td>84.0</td>\n",
       "      <td>14260</td>\n",
       "      <td>Pave</td>\n",
       "      <td>NaN</td>\n",
       "      <td>IR1</td>\n",
       "      <td>Lvl</td>\n",
       "      <td>AllPub</td>\n",
       "      <td>...</td>\n",
       "      <td>0</td>\n",
       "      <td>NaN</td>\n",
       "      <td>NaN</td>\n",
       "      <td>NaN</td>\n",
       "      <td>0</td>\n",
       "      <td>12</td>\n",
       "      <td>2008</td>\n",
       "      <td>WD</td>\n",
       "      <td>Normal</td>\n",
       "      <td>250000</td>\n",
       "    </tr>\n",
       "  </tbody>\n",
       "</table>\n",
       "<p>5 rows × 81 columns</p>\n",
       "</div>"
      ],
      "text/plain": [
       "   Id  MSSubClass MSZoning  LotFrontage  LotArea Street Alley LotShape  \\\n",
       "0   1          60       RL         65.0     8450   Pave   NaN      Reg   \n",
       "1   2          20       RL         80.0     9600   Pave   NaN      Reg   \n",
       "2   3          60       RL         68.0    11250   Pave   NaN      IR1   \n",
       "3   4          70       RL         60.0     9550   Pave   NaN      IR1   \n",
       "4   5          60       RL         84.0    14260   Pave   NaN      IR1   \n",
       "\n",
       "  LandContour Utilities  ... PoolArea PoolQC Fence MiscFeature MiscVal MoSold  \\\n",
       "0         Lvl    AllPub  ...        0    NaN   NaN         NaN       0      2   \n",
       "1         Lvl    AllPub  ...        0    NaN   NaN         NaN       0      5   \n",
       "2         Lvl    AllPub  ...        0    NaN   NaN         NaN       0      9   \n",
       "3         Lvl    AllPub  ...        0    NaN   NaN         NaN       0      2   \n",
       "4         Lvl    AllPub  ...        0    NaN   NaN         NaN       0     12   \n",
       "\n",
       "  YrSold  SaleType  SaleCondition  SalePrice  \n",
       "0   2008        WD         Normal     208500  \n",
       "1   2007        WD         Normal     181500  \n",
       "2   2008        WD         Normal     223500  \n",
       "3   2006        WD        Abnorml     140000  \n",
       "4   2008        WD         Normal     250000  \n",
       "\n",
       "[5 rows x 81 columns]"
      ]
     },
     "execution_count": 547,
     "metadata": {},
     "output_type": "execute_result"
    }
   ],
   "source": [
    "file_path = Path('./Resources/train.csv')\n",
    "train = pd.read_csv(file_path)\n",
    "print (f' Data frame size is  {train.shape}')\n",
    "train.head(5)"
   ]
  },
  {
   "cell_type": "code",
   "execution_count": 548,
   "id": "3deaf5da",
   "metadata": {},
   "outputs": [
    {
     "name": "stdout",
     "output_type": "stream",
     "text": [
      " Data frame size is  (1459, 80)\n"
     ]
    },
    {
     "data": {
      "text/html": [
       "<div>\n",
       "<style scoped>\n",
       "    .dataframe tbody tr th:only-of-type {\n",
       "        vertical-align: middle;\n",
       "    }\n",
       "\n",
       "    .dataframe tbody tr th {\n",
       "        vertical-align: top;\n",
       "    }\n",
       "\n",
       "    .dataframe thead th {\n",
       "        text-align: right;\n",
       "    }\n",
       "</style>\n",
       "<table border=\"1\" class=\"dataframe\">\n",
       "  <thead>\n",
       "    <tr style=\"text-align: right;\">\n",
       "      <th></th>\n",
       "      <th>Id</th>\n",
       "      <th>MSSubClass</th>\n",
       "      <th>MSZoning</th>\n",
       "      <th>LotFrontage</th>\n",
       "      <th>LotArea</th>\n",
       "      <th>Street</th>\n",
       "      <th>Alley</th>\n",
       "      <th>LotShape</th>\n",
       "      <th>LandContour</th>\n",
       "      <th>Utilities</th>\n",
       "      <th>...</th>\n",
       "      <th>ScreenPorch</th>\n",
       "      <th>PoolArea</th>\n",
       "      <th>PoolQC</th>\n",
       "      <th>Fence</th>\n",
       "      <th>MiscFeature</th>\n",
       "      <th>MiscVal</th>\n",
       "      <th>MoSold</th>\n",
       "      <th>YrSold</th>\n",
       "      <th>SaleType</th>\n",
       "      <th>SaleCondition</th>\n",
       "    </tr>\n",
       "  </thead>\n",
       "  <tbody>\n",
       "    <tr>\n",
       "      <th>0</th>\n",
       "      <td>1461</td>\n",
       "      <td>20</td>\n",
       "      <td>RH</td>\n",
       "      <td>80.0</td>\n",
       "      <td>11622</td>\n",
       "      <td>Pave</td>\n",
       "      <td>NaN</td>\n",
       "      <td>Reg</td>\n",
       "      <td>Lvl</td>\n",
       "      <td>AllPub</td>\n",
       "      <td>...</td>\n",
       "      <td>120</td>\n",
       "      <td>0</td>\n",
       "      <td>NaN</td>\n",
       "      <td>MnPrv</td>\n",
       "      <td>NaN</td>\n",
       "      <td>0</td>\n",
       "      <td>6</td>\n",
       "      <td>2010</td>\n",
       "      <td>WD</td>\n",
       "      <td>Normal</td>\n",
       "    </tr>\n",
       "    <tr>\n",
       "      <th>1</th>\n",
       "      <td>1462</td>\n",
       "      <td>20</td>\n",
       "      <td>RL</td>\n",
       "      <td>81.0</td>\n",
       "      <td>14267</td>\n",
       "      <td>Pave</td>\n",
       "      <td>NaN</td>\n",
       "      <td>IR1</td>\n",
       "      <td>Lvl</td>\n",
       "      <td>AllPub</td>\n",
       "      <td>...</td>\n",
       "      <td>0</td>\n",
       "      <td>0</td>\n",
       "      <td>NaN</td>\n",
       "      <td>NaN</td>\n",
       "      <td>Gar2</td>\n",
       "      <td>12500</td>\n",
       "      <td>6</td>\n",
       "      <td>2010</td>\n",
       "      <td>WD</td>\n",
       "      <td>Normal</td>\n",
       "    </tr>\n",
       "    <tr>\n",
       "      <th>2</th>\n",
       "      <td>1463</td>\n",
       "      <td>60</td>\n",
       "      <td>RL</td>\n",
       "      <td>74.0</td>\n",
       "      <td>13830</td>\n",
       "      <td>Pave</td>\n",
       "      <td>NaN</td>\n",
       "      <td>IR1</td>\n",
       "      <td>Lvl</td>\n",
       "      <td>AllPub</td>\n",
       "      <td>...</td>\n",
       "      <td>0</td>\n",
       "      <td>0</td>\n",
       "      <td>NaN</td>\n",
       "      <td>MnPrv</td>\n",
       "      <td>NaN</td>\n",
       "      <td>0</td>\n",
       "      <td>3</td>\n",
       "      <td>2010</td>\n",
       "      <td>WD</td>\n",
       "      <td>Normal</td>\n",
       "    </tr>\n",
       "    <tr>\n",
       "      <th>3</th>\n",
       "      <td>1464</td>\n",
       "      <td>60</td>\n",
       "      <td>RL</td>\n",
       "      <td>78.0</td>\n",
       "      <td>9978</td>\n",
       "      <td>Pave</td>\n",
       "      <td>NaN</td>\n",
       "      <td>IR1</td>\n",
       "      <td>Lvl</td>\n",
       "      <td>AllPub</td>\n",
       "      <td>...</td>\n",
       "      <td>0</td>\n",
       "      <td>0</td>\n",
       "      <td>NaN</td>\n",
       "      <td>NaN</td>\n",
       "      <td>NaN</td>\n",
       "      <td>0</td>\n",
       "      <td>6</td>\n",
       "      <td>2010</td>\n",
       "      <td>WD</td>\n",
       "      <td>Normal</td>\n",
       "    </tr>\n",
       "    <tr>\n",
       "      <th>4</th>\n",
       "      <td>1465</td>\n",
       "      <td>120</td>\n",
       "      <td>RL</td>\n",
       "      <td>43.0</td>\n",
       "      <td>5005</td>\n",
       "      <td>Pave</td>\n",
       "      <td>NaN</td>\n",
       "      <td>IR1</td>\n",
       "      <td>HLS</td>\n",
       "      <td>AllPub</td>\n",
       "      <td>...</td>\n",
       "      <td>144</td>\n",
       "      <td>0</td>\n",
       "      <td>NaN</td>\n",
       "      <td>NaN</td>\n",
       "      <td>NaN</td>\n",
       "      <td>0</td>\n",
       "      <td>1</td>\n",
       "      <td>2010</td>\n",
       "      <td>WD</td>\n",
       "      <td>Normal</td>\n",
       "    </tr>\n",
       "  </tbody>\n",
       "</table>\n",
       "<p>5 rows × 80 columns</p>\n",
       "</div>"
      ],
      "text/plain": [
       "     Id  MSSubClass MSZoning  LotFrontage  LotArea Street Alley LotShape  \\\n",
       "0  1461          20       RH         80.0    11622   Pave   NaN      Reg   \n",
       "1  1462          20       RL         81.0    14267   Pave   NaN      IR1   \n",
       "2  1463          60       RL         74.0    13830   Pave   NaN      IR1   \n",
       "3  1464          60       RL         78.0     9978   Pave   NaN      IR1   \n",
       "4  1465         120       RL         43.0     5005   Pave   NaN      IR1   \n",
       "\n",
       "  LandContour Utilities  ... ScreenPorch PoolArea PoolQC  Fence MiscFeature  \\\n",
       "0         Lvl    AllPub  ...         120        0    NaN  MnPrv         NaN   \n",
       "1         Lvl    AllPub  ...           0        0    NaN    NaN        Gar2   \n",
       "2         Lvl    AllPub  ...           0        0    NaN  MnPrv         NaN   \n",
       "3         Lvl    AllPub  ...           0        0    NaN    NaN         NaN   \n",
       "4         HLS    AllPub  ...         144        0    NaN    NaN         NaN   \n",
       "\n",
       "  MiscVal MoSold  YrSold  SaleType  SaleCondition  \n",
       "0       0      6    2010        WD         Normal  \n",
       "1   12500      6    2010        WD         Normal  \n",
       "2       0      3    2010        WD         Normal  \n",
       "3       0      6    2010        WD         Normal  \n",
       "4       0      1    2010        WD         Normal  \n",
       "\n",
       "[5 rows x 80 columns]"
      ]
     },
     "execution_count": 548,
     "metadata": {},
     "output_type": "execute_result"
    }
   ],
   "source": [
    "file_path = Path('./Resources/test.csv')\n",
    "test = pd.read_csv(file_path)\n",
    "print (f' Data frame size is  {test.shape}')\n",
    "test.head(5)"
   ]
  },
  {
   "cell_type": "code",
   "execution_count": 549,
   "id": "e8e19ea3",
   "metadata": {},
   "outputs": [
    {
     "data": {
      "text/plain": [
       "Index(['SalePrice'], dtype='object')"
      ]
     },
     "execution_count": 549,
     "metadata": {},
     "output_type": "execute_result"
    }
   ],
   "source": [
    "train_cols = train.columns\n",
    "test_cols = test.columns\n",
    "\n",
    "common_cols = train_cols.intersection(test_cols)\n",
    "train_not_test = train_cols.difference(test_cols)\n",
    "train_not_test"
   ]
  },
  {
   "cell_type": "code",
   "execution_count": 550,
   "id": "add69a42",
   "metadata": {},
   "outputs": [],
   "source": [
    "df = train.copy()"
   ]
  },
  {
   "cell_type": "markdown",
   "id": "8a4dd3d9",
   "metadata": {},
   "source": [
    "## Data Cleaning\n",
    "* step1 : chekcing NAs in columns\n",
    "* step2 : updating NAs or missing values\n",
    "* step3 : checking for outliers\n",
    "* step4 : bucketing\n"
   ]
  },
  {
   "cell_type": "markdown",
   "id": "f5d7164a",
   "metadata": {},
   "source": [
    "## Step1: Checking NAs in columns\n",
    "* 1-1: finding count of NAs in each column\n",
    "* 1-2: if number of NA is more than 10% then that column is removed.\n",
    "* 1-3: Checking Rows for NA"
   ]
  },
  {
   "cell_type": "code",
   "execution_count": 551,
   "id": "fcb2ba12",
   "metadata": {},
   "outputs": [
    {
     "name": "stdout",
     "output_type": "stream",
     "text": [
      "Part 1-1: Here are the count of NAs in columns\n"
     ]
    },
    {
     "data": {
      "text/html": [
       "<div>\n",
       "<style scoped>\n",
       "    .dataframe tbody tr th:only-of-type {\n",
       "        vertical-align: middle;\n",
       "    }\n",
       "\n",
       "    .dataframe tbody tr th {\n",
       "        vertical-align: top;\n",
       "    }\n",
       "\n",
       "    .dataframe thead th {\n",
       "        text-align: right;\n",
       "    }\n",
       "</style>\n",
       "<table border=\"1\" class=\"dataframe\">\n",
       "  <thead>\n",
       "    <tr style=\"text-align: right;\">\n",
       "      <th></th>\n",
       "      <th>0</th>\n",
       "    </tr>\n",
       "  </thead>\n",
       "  <tbody>\n",
       "    <tr>\n",
       "      <th>LotFrontage</th>\n",
       "      <td>259</td>\n",
       "    </tr>\n",
       "    <tr>\n",
       "      <th>Alley</th>\n",
       "      <td>1369</td>\n",
       "    </tr>\n",
       "    <tr>\n",
       "      <th>MasVnrType</th>\n",
       "      <td>8</td>\n",
       "    </tr>\n",
       "    <tr>\n",
       "      <th>MasVnrArea</th>\n",
       "      <td>8</td>\n",
       "    </tr>\n",
       "    <tr>\n",
       "      <th>BsmtQual</th>\n",
       "      <td>37</td>\n",
       "    </tr>\n",
       "    <tr>\n",
       "      <th>BsmtCond</th>\n",
       "      <td>37</td>\n",
       "    </tr>\n",
       "    <tr>\n",
       "      <th>BsmtExposure</th>\n",
       "      <td>38</td>\n",
       "    </tr>\n",
       "    <tr>\n",
       "      <th>BsmtFinType1</th>\n",
       "      <td>37</td>\n",
       "    </tr>\n",
       "    <tr>\n",
       "      <th>BsmtFinType2</th>\n",
       "      <td>38</td>\n",
       "    </tr>\n",
       "    <tr>\n",
       "      <th>Electrical</th>\n",
       "      <td>1</td>\n",
       "    </tr>\n",
       "    <tr>\n",
       "      <th>FireplaceQu</th>\n",
       "      <td>690</td>\n",
       "    </tr>\n",
       "    <tr>\n",
       "      <th>GarageType</th>\n",
       "      <td>81</td>\n",
       "    </tr>\n",
       "    <tr>\n",
       "      <th>GarageYrBlt</th>\n",
       "      <td>81</td>\n",
       "    </tr>\n",
       "    <tr>\n",
       "      <th>GarageFinish</th>\n",
       "      <td>81</td>\n",
       "    </tr>\n",
       "    <tr>\n",
       "      <th>GarageQual</th>\n",
       "      <td>81</td>\n",
       "    </tr>\n",
       "    <tr>\n",
       "      <th>GarageCond</th>\n",
       "      <td>81</td>\n",
       "    </tr>\n",
       "    <tr>\n",
       "      <th>PoolQC</th>\n",
       "      <td>1453</td>\n",
       "    </tr>\n",
       "    <tr>\n",
       "      <th>Fence</th>\n",
       "      <td>1179</td>\n",
       "    </tr>\n",
       "    <tr>\n",
       "      <th>MiscFeature</th>\n",
       "      <td>1406</td>\n",
       "    </tr>\n",
       "  </tbody>\n",
       "</table>\n",
       "</div>"
      ],
      "text/plain": [
       "                 0\n",
       "LotFrontage    259\n",
       "Alley         1369\n",
       "MasVnrType       8\n",
       "MasVnrArea       8\n",
       "BsmtQual        37\n",
       "BsmtCond        37\n",
       "BsmtExposure    38\n",
       "BsmtFinType1    37\n",
       "BsmtFinType2    38\n",
       "Electrical       1\n",
       "FireplaceQu    690\n",
       "GarageType      81\n",
       "GarageYrBlt     81\n",
       "GarageFinish    81\n",
       "GarageQual      81\n",
       "GarageCond      81\n",
       "PoolQC        1453\n",
       "Fence         1179\n",
       "MiscFeature   1406"
      ]
     },
     "execution_count": 551,
     "metadata": {},
     "output_type": "execute_result"
    }
   ],
   "source": [
    "df_NA_sum = pd.DataFrame(df.isna().sum())\n",
    "Columns_NA_COUNT = df_NA_sum.loc[df_NA_sum[0]>0]\n",
    "print('Part 1-1: Here are the count of NAs in columns')\n",
    "Columns_NA_COUNT"
   ]
  },
  {
   "cell_type": "code",
   "execution_count": 552,
   "id": "fa3db32d",
   "metadata": {},
   "outputs": [
    {
     "name": "stdout",
     "output_type": "stream",
     "text": [
      "here is the new dataframe size: (1460, 75)\n",
      "Here is the list of dropped columns: ['Alley', 'Fence', 'FireplaceQu', 'LotFrontage', 'MiscFeature', 'PoolQC']\n"
     ]
    }
   ],
   "source": [
    "perc = 10 # if more than this perc, the columns is dropped.\n",
    "min_count =  int(((100-perc)/100)*df.shape[0])\n",
    "df_NAcolumnsdropped = df.dropna( axis=1, thresh=min_count)\n",
    "print(f'here is the new dataframe size: {df_NAcolumnsdropped.shape}')\n",
    "\n",
    "dropped_columns = df.columns.difference(df_NAcolumnsdropped.columns).tolist()\n",
    "print(f'Here is the list of dropped columns: {dropped_columns}')"
   ]
  },
  {
   "cell_type": "markdown",
   "id": "076f04b2",
   "metadata": {},
   "source": [
    "#### checking for NAs in rows"
   ]
  },
  {
   "cell_type": "code",
   "execution_count": 553,
   "id": "c5bb7942",
   "metadata": {},
   "outputs": [
    {
     "name": "stdout",
     "output_type": "stream",
     "text": [
      "Here is the number of rows that have NA values: 122 and will be dropped\n",
      "8.356164383561644 percent of data is dropped\n"
     ]
    },
    {
     "data": {
      "text/plain": [
       "(1338, 75)"
      ]
     },
     "execution_count": 553,
     "metadata": {},
     "output_type": "execute_result"
    }
   ],
   "source": [
    "\n",
    "print(f'Here is the number of rows that have NA values: {sum(df_NAcolumnsdropped.isnull().sum(axis=1)>0)} and will be dropped')\n",
    "print(f'{sum(df_NAcolumnsdropped.isnull().sum(axis=1)>0)/len(df_NAcolumnsdropped)*100} percent of data is dropped')\n",
    "df_NArowsdropped = df_NAcolumnsdropped.dropna(axis=0)\n",
    "df_NArowsdropped.shape\n"
   ]
  },
  {
   "cell_type": "code",
   "execution_count": 554,
   "id": "12b6a387",
   "metadata": {},
   "outputs": [
    {
     "name": "stdout",
     "output_type": "stream",
     "text": [
      "Verifying if the datatypes are correct\n",
      "Expection is to have 35 numerical columns and we have 35\n"
     ]
    }
   ],
   "source": [
    "print(f'Verifying if the datatypes are correct')\n",
    "number_of_numerical_columns = len(df_NArowsdropped.select_dtypes('int64').columns)\n",
    "print(f'Expection is to have 35 numerical columns and we have {number_of_numerical_columns}')"
   ]
  },
  {
   "cell_type": "code",
   "execution_count": 555,
   "id": "5e473162",
   "metadata": {},
   "outputs": [
    {
     "name": "stderr",
     "output_type": "stream",
     "text": [
      "C:\\Users\\14078\\anaconda3\\envs\\mlenv\\lib\\site-packages\\ipykernel_launcher.py:3: RuntimeWarning: More than 20 figures have been opened. Figures created through the pyplot interface (`matplotlib.pyplot.figure`) are retained until explicitly closed and may consume too much memory. (To control this warning, see the rcParam `figure.max_open_warning`).\n",
      "  This is separate from the ipykernel package so we can avoid doing imports until\n"
     ]
    },
    {
     "data": {
      "image/png": "[encoded data removed]",
      "text/plain": [
       "<Figure size 432x288 with 1 Axes>"
      ]
     },
     "metadata": {
      "needs_background": "light"
     },
     "output_type": "display_data"
    },
    {
     "data": {
      "image/png": "[encoded data removed]",
      "text/plain": [
       "<Figure size 432x288 with 1 Axes>"
      ]
     },
     "metadata": {
      "needs_background": "light"
     },
     "output_type": "display_data"
    },
    {
     "data": {
      "image/png": "[encoded data removed]",
      "text/plain": [
       "<Figure size 432x288 with 1 Axes>"
      ]
     },
     "metadata": {
      "needs_background": "light"
     },
     "output_type": "display_data"
    },
    {
     "data": {
      "image/png": "[encoded data removed]",
      "text/plain": [
       "<Figure size 432x288 with 1 Axes>"
      ]
     },
     "metadata": {
      "needs_background": "light"
     },
     "output_type": "display_data"
    },
    {
     "data": {
      "image/png": "[encoded data removed]",
      "text/plain": [
       "<Figure size 432x288 with 1 Axes>"
      ]
     },
     "metadata": {
      "needs_background": "light"
     },
     "output_type": "display_data"
    },
    {
     "data": {
      "image/png": "[encoded data removed]",
      "text/plain": [
       "<Figure size 432x288 with 1 Axes>"
      ]
     },
     "metadata": {
      "needs_background": "light"
     },
     "output_type": "display_data"
    },
    {
     "data": {
      "image/png": "[encoded data removed]",
      "text/plain": [
       "<Figure size 432x288 with 1 Axes>"
      ]
     },
     "metadata": {
      "needs_background": "light"
     },
     "output_type": "display_data"
    },
    {
     "data": {
      "image/png": "[encoded data removed]",
      "text/plain": [
       "<Figure size 432x288 with 1 Axes>"
      ]
     },
     "metadata": {
      "needs_background": "light"
     },
     "output_type": "display_data"
    },
    {
     "data": {
      "image/png": "[encoded data removed]",
      "text/plain": [
       "<Figure size 432x288 with 1 Axes>"
      ]
     },
     "metadata": {
      "needs_background": "light"
     },
     "output_type": "display_data"
    },
    {
     "data": {
      "image/png": "[encoded data removed]",
      "text/plain": [
       "<Figure size 432x288 with 1 Axes>"
      ]
     },
     "metadata": {
      "needs_background": "light"
     },
     "output_type": "display_data"
    },
    {
     "data": {
      "image/png": "[encoded data removed]",
      "text/plain": [
       "<Figure size 432x288 with 1 Axes>"
      ]
     },
     "metadata": {
      "needs_background": "light"
     },
     "output_type": "display_data"
    },
    {
     "data": {
      "image/png": "[encoded data removed]",
      "text/plain": [
       "<Figure size 432x288 with 1 Axes>"
      ]
     },
     "metadata": {
      "needs_background": "light"
     },
     "output_type": "display_data"
    },
    {
     "data": {
      "image/png": "[encoded data removed]",
      "text/plain": [
       "<Figure size 432x288 with 1 Axes>"
      ]
     },
     "metadata": {
      "needs_background": "light"
     },
     "output_type": "display_data"
    },
    {
     "data": {
      "image/png": "[encoded data removed]",
      "text/plain": [
       "<Figure size 432x288 with 1 Axes>"
      ]
     },
     "metadata": {
      "needs_background": "light"
     },
     "output_type": "display_data"
    },
    {
     "data": {
      "image/png": "[encoded data removed]",
      "text/plain": [
       "<Figure size 432x288 with 1 Axes>"
      ]
     },
     "metadata": {
      "needs_background": "light"
     },
     "output_type": "display_data"
    },
    {
     "data": {
      "image/png": "[encoded data removed]",
      "text/plain": [
       "<Figure size 432x288 with 1 Axes>"
      ]
     },
     "metadata": {
      "needs_background": "light"
     },
     "output_type": "display_data"
    },
    {
     "data": {
      "image/png": "[encoded data removed]",
      "text/plain": [
       "<Figure size 432x288 with 1 Axes>"
      ]
     },
     "metadata": {
      "needs_background": "light"
     },
     "output_type": "display_data"
    },
    {
     "data": {
      "image/png": "[encoded data removed]",
      "text/plain": [
       "<Figure size 432x288 with 1 Axes>"
      ]
     },
     "metadata": {
      "needs_background": "light"
     },
     "output_type": "display_data"
    },
    {
     "data": {
      "image/png": "[encoded data removed]",
      "text/plain": [
       "<Figure size 432x288 with 1 Axes>"
      ]
     },
     "metadata": {
      "needs_background": "light"
     },
     "output_type": "display_data"
    },
    {
     "data": {
      "image/png": "[encoded data removed]",
      "text/plain": [
       "<Figure size 432x288 with 1 Axes>"
      ]
     },
     "metadata": {
      "needs_background": "light"
     },
     "output_type": "display_data"
    },
    {
     "data": {
      "image/png": "[encoded data removed]",
      "text/plain": [
       "<Figure size 432x288 with 1 Axes>"
      ]
     },
     "metadata": {
      "needs_background": "light"
     },
     "output_type": "display_data"
    },
    {
     "data": {
      "image/png": "[encoded data removed]",
      "text/plain": [
       "<Figure size 432x288 with 1 Axes>"
      ]
     },
     "metadata": {
      "needs_background": "light"
     },
     "output_type": "display_data"
    },
    {
     "data": {
      "image/png": "[encoded data removed]",
      "text/plain": [
       "<Figure size 432x288 with 1 Axes>"
      ]
     },
     "metadata": {
      "needs_background": "light"
     },
     "output_type": "display_data"
    },
    {
     "data": {
      "image/png": "[encoded data removed]",
      "text/plain": [
       "<Figure size 432x288 with 1 Axes>"
      ]
     },
     "metadata": {
      "needs_background": "light"
     },
     "output_type": "display_data"
    },
    {
     "data": {
      "image/png": "[encoded data removed]",
      "text/plain": [
       "<Figure size 432x288 with 1 Axes>"
      ]
     },
     "metadata": {
      "needs_background": "light"
     },
     "output_type": "display_data"
    },
    {
     "data": {
      "image/png": "[encoded data removed]",
      "text/plain": [
       "<Figure size 432x288 with 1 Axes>"
      ]
     },
     "metadata": {
      "needs_background": "light"
     },
     "output_type": "display_data"
    },
    {
     "data": {
      "image/png": "[encoded data removed]",
      "text/plain": [
       "<Figure size 432x288 with 1 Axes>"
      ]
     },
     "metadata": {
      "needs_background": "light"
     },
     "output_type": "display_data"
    },
    {
     "data": {
      "image/png": "[encoded data removed]",
      "text/plain": [
       "<Figure size 432x288 with 1 Axes>"
      ]
     },
     "metadata": {
      "needs_background": "light"
     },
     "output_type": "display_data"
    },
    {
     "data": {
      "image/png": "[encoded data removed]",
      "text/plain": [
       "<Figure size 432x288 with 1 Axes>"
      ]
     },
     "metadata": {
      "needs_background": "light"
     },
     "output_type": "display_data"
    },
    {
     "data": {
      "image/png": "[encoded data removed]",
      "text/plain": [
       "<Figure size 432x288 with 1 Axes>"
      ]
     },
     "metadata": {
      "needs_background": "light"
     },
     "output_type": "display_data"
    },
    {
     "data": {
      "image/png": "[encoded data removed]",
      "text/plain": [
       "<Figure size 432x288 with 1 Axes>"
      ]
     },
     "metadata": {
      "needs_background": "light"
     },
     "output_type": "display_data"
    },
    {
     "data": {
      "image/png": "[encoded data removed]",
      "text/plain": [
       "<Figure size 432x288 with 1 Axes>"
      ]
     },
     "metadata": {
      "needs_background": "light"
     },
     "output_type": "display_data"
    },
    {
     "data": {
      "image/png": "[encoded data removed]",
      "text/plain": [
       "<Figure size 432x288 with 1 Axes>"
      ]
     },
     "metadata": {
      "needs_background": "light"
     },
     "output_type": "display_data"
    },
    {
     "data": {
      "image/png": "[encoded data removed]",
      "text/plain": [
       "<Figure size 432x288 with 1 Axes>"
      ]
     },
     "metadata": {
      "needs_background": "light"
     },
     "output_type": "display_data"
    },
    {
     "data": {
      "image/png": "[encoded data removed]",
      "text/plain": [
       "<Figure size 432x288 with 1 Axes>"
      ]
     },
     "metadata": {
      "needs_background": "light"
     },
     "output_type": "display_data"
    },
    {
     "data": {
      "image/png": "[encoded data removed]",
      "text/plain": [
       "<Figure size 432x288 with 1 Axes>"
      ]
     },
     "metadata": {
      "needs_background": "light"
     },
     "output_type": "display_data"
    },
    {
     "data": {
      "image/png": "[encoded data removed]",
      "text/plain": [
       "<Figure size 432x288 with 1 Axes>"
      ]
     },
     "metadata": {
      "needs_background": "light"
     },
     "output_type": "display_data"
    },
    {
     "data": {
      "image/png": "[encoded data removed]",
      "text/plain": [
       "<Figure size 432x288 with 1 Axes>"
      ]
     },
     "metadata": {
      "needs_background": "light"
     },
     "output_type": "display_data"
    },
    {
     "data": {
      "image/png": "[encoded data removed]",
      "text/plain": [
       "<Figure size 432x288 with 1 Axes>"
      ]
     },
     "metadata": {
      "needs_background": "light"
     },
     "output_type": "display_data"
    },
    {
     "data": {
      "image/png": "[encoded data removed]",
      "text/plain": [
       "<Figure size 432x288 with 1 Axes>"
      ]
     },
     "metadata": {
      "needs_background": "light"
     },
     "output_type": "display_data"
    },
    {
     "data": {
      "image/png": "[encoded data removed]",
      "text/plain": [
       "<Figure size 432x288 with 1 Axes>"
      ]
     },
     "metadata": {
      "needs_background": "light"
     },
     "output_type": "display_data"
    },
    {
     "data": {
      "image/png": "[encoded data removed]",
      "text/plain": [
       "<Figure size 432x288 with 1 Axes>"
      ]
     },
     "metadata": {
      "needs_background": "light"
     },
     "output_type": "display_data"
    },
    {
     "data": {
      "image/png": "[encoded data removed]",
      "text/plain": [
       "<Figure size 432x288 with 1 Axes>"
      ]
     },
     "metadata": {
      "needs_background": "light"
     },
     "output_type": "display_data"
    },
    {
     "data": {
      "image/png": "[encoded data removed]",
      "text/plain": [
       "<Figure size 432x288 with 1 Axes>"
      ]
     },
     "metadata": {
      "needs_background": "light"
     },
     "output_type": "display_data"
    },
    {
     "data": {
      "image/png": "[encoded data removed]",
      "text/plain": [
       "<Figure size 432x288 with 1 Axes>"
      ]
     },
     "metadata": {
      "needs_background": "light"
     },
     "output_type": "display_data"
    },
    {
     "data": {
      "image/png": "[encoded data removed]",
      "text/plain": [
       "<Figure size 432x288 with 1 Axes>"
      ]
     },
     "metadata": {
      "needs_background": "light"
     },
     "output_type": "display_data"
    },
    {
     "data": {
      "image/png": "[encoded data removed]",
      "text/plain": [
       "<Figure size 432x288 with 1 Axes>"
      ]
     },
     "metadata": {
      "needs_background": "light"
     },
     "output_type": "display_data"
    },
    {
     "data": {
      "image/png": "[encoded data removed]",
      "text/plain": [
       "<Figure size 432x288 with 1 Axes>"
      ]
     },
     "metadata": {
      "needs_background": "light"
     },
     "output_type": "display_data"
    },
    {
     "data": {
      "image/png": "[encoded data removed]",
      "text/plain": [
       "<Figure size 432x288 with 1 Axes>"
      ]
     },
     "metadata": {
      "needs_background": "light"
     },
     "output_type": "display_data"
    },
    {
     "data": {
      "image/png": "[encoded data removed]",
      "text/plain": [
       "<Figure size 432x288 with 1 Axes>"
      ]
     },
     "metadata": {
      "needs_background": "light"
     },
     "output_type": "display_data"
    },
    {
     "data": {
      "image/png": "[encoded data removed]",
      "text/plain": [
       "<Figure size 432x288 with 1 Axes>"
      ]
     },
     "metadata": {
      "needs_background": "light"
     },
     "output_type": "display_data"
    },
    {
     "data": {
      "image/png": "[encoded data removed]",
      "text/plain": [
       "<Figure size 432x288 with 1 Axes>"
      ]
     },
     "metadata": {
      "needs_background": "light"
     },
     "output_type": "display_data"
    },
    {
     "data": {
      "image/png": "[encoded data removed]",
      "text/plain": [
       "<Figure size 432x288 with 1 Axes>"
      ]
     },
     "metadata": {
      "needs_background": "light"
     },
     "output_type": "display_data"
    },
    {
     "data": {
      "image/png": "[encoded data removed]",
      "text/plain": [
       "<Figure size 432x288 with 1 Axes>"
      ]
     },
     "metadata": {
      "needs_background": "light"
     },
     "output_type": "display_data"
    },
    {
     "data": {
      "image/png": "[encoded data removed]",
      "text/plain": [
       "<Figure size 432x288 with 1 Axes>"
      ]
     },
     "metadata": {
      "needs_background": "light"
     },
     "output_type": "display_data"
    },
    {
     "data": {
      "image/png": "[encoded data removed]",
      "text/plain": [
       "<Figure size 432x288 with 1 Axes>"
      ]
     },
     "metadata": {
      "needs_background": "light"
     },
     "output_type": "display_data"
    },
    {
     "data": {
      "image/png": "[encoded data removed]",
      "text/plain": [
       "<Figure size 432x288 with 1 Axes>"
      ]
     },
     "metadata": {
      "needs_background": "light"
     },
     "output_type": "display_data"
    },
    {
     "data": {
      "image/png": "[encoded data removed]",
      "text/plain": [
       "<Figure size 432x288 with 1 Axes>"
      ]
     },
     "metadata": {
      "needs_background": "light"
     },
     "output_type": "display_data"
    },
    {
     "data": {
      "image/png": "[encoded data removed]",
      "text/plain": [
       "<Figure size 432x288 with 1 Axes>"
      ]
     },
     "metadata": {
      "needs_background": "light"
     },
     "output_type": "display_data"
    },
    {
     "data": {
      "image/png": "[encoded data removed]",
      "text/plain": [
       "<Figure size 432x288 with 1 Axes>"
      ]
     },
     "metadata": {
      "needs_background": "light"
     },
     "output_type": "display_data"
    },
    {
     "data": {
      "image/png": "[encoded data removed]",
      "text/plain": [
       "<Figure size 432x288 with 1 Axes>"
      ]
     },
     "metadata": {
      "needs_background": "light"
     },
     "output_type": "display_data"
    },
    {
     "data": {
      "image/png": "[encoded data removed]",
      "text/plain": [
       "<Figure size 432x288 with 1 Axes>"
      ]
     },
     "metadata": {
      "needs_background": "light"
     },
     "output_type": "display_data"
    },
    {
     "data": {
      "image/png": "[encoded data removed]",
      "text/plain": [
       "<Figure size 432x288 with 1 Axes>"
      ]
     },
     "metadata": {
      "needs_background": "light"
     },
     "output_type": "display_data"
    },
    {
     "data": {
      "image/png": "[encoded data removed]",
      "text/plain": [
       "<Figure size 432x288 with 1 Axes>"
      ]
     },
     "metadata": {
      "needs_background": "light"
     },
     "output_type": "display_data"
    },
    {
     "data": {
      "image/png": "[encoded data removed]",
      "text/plain": [
       "<Figure size 432x288 with 1 Axes>"
      ]
     },
     "metadata": {
      "needs_background": "light"
     },
     "output_type": "display_data"
    },
    {
     "data": {
      "image/png": "[encoded data removed]",
      "text/plain": [
       "<Figure size 432x288 with 1 Axes>"
      ]
     },
     "metadata": {
      "needs_background": "light"
     },
     "output_type": "display_data"
    },
    {
     "data": {
      "image/png": "[encoded data removed]",
      "text/plain": [
       "<Figure size 432x288 with 1 Axes>"
      ]
     },
     "metadata": {
      "needs_background": "light"
     },
     "output_type": "display_data"
    },
    {
     "data": {
      "image/png": "[encoded data removed]",
      "text/plain": [
       "<Figure size 432x288 with 1 Axes>"
      ]
     },
     "metadata": {
      "needs_background": "light"
     },
     "output_type": "display_data"
    },
    {
     "data": {
      "image/png": "[encoded data removed]",
      "text/plain": [
       "<Figure size 432x288 with 1 Axes>"
      ]
     },
     "metadata": {
      "needs_background": "light"
     },
     "output_type": "display_data"
    },
    {
     "data": {
      "image/png": "[encoded data removed]",
      "text/plain": [
       "<Figure size 432x288 with 1 Axes>"
      ]
     },
     "metadata": {
      "needs_background": "light"
     },
     "output_type": "display_data"
    }
   ],
   "source": [
    "list_numerical_columns = df_NArowsdropped.select_dtypes('int64').columns.tolist()\n",
    "for box in list_numerical_columns:\n",
    "    plt.figure()\n",
    "    df_NArowsdropped.boxplot(column=box,rot=45)\n",
    "    df_NArowsdropped.hist(column=box,bins =15 )\n",
    "    "
   ]
  },
  {
   "cell_type": "code",
   "execution_count": 556,
   "id": "2680349a",
   "metadata": {},
   "outputs": [
    {
     "data": {
      "text/html": [
       "<div>\n",
       "<style scoped>\n",
       "    .dataframe tbody tr th:only-of-type {\n",
       "        vertical-align: middle;\n",
       "    }\n",
       "\n",
       "    .dataframe tbody tr th {\n",
       "        vertical-align: top;\n",
       "    }\n",
       "\n",
       "    .dataframe thead th {\n",
       "        text-align: right;\n",
       "    }\n",
       "</style>\n",
       "<table border=\"1\" class=\"dataframe\">\n",
       "  <thead>\n",
       "    <tr style=\"text-align: right;\">\n",
       "      <th></th>\n",
       "      <th>MSSubClass</th>\n",
       "      <th>MSZoning</th>\n",
       "      <th>LotArea</th>\n",
       "      <th>Street</th>\n",
       "      <th>LotShape</th>\n",
       "      <th>LandContour</th>\n",
       "      <th>Utilities</th>\n",
       "      <th>LotConfig</th>\n",
       "      <th>LandSlope</th>\n",
       "      <th>Neighborhood</th>\n",
       "      <th>...</th>\n",
       "      <th>EnclosedPorch</th>\n",
       "      <th>3SsnPorch</th>\n",
       "      <th>ScreenPorch</th>\n",
       "      <th>PoolArea</th>\n",
       "      <th>MiscVal</th>\n",
       "      <th>MoSold</th>\n",
       "      <th>YrSold</th>\n",
       "      <th>SaleType</th>\n",
       "      <th>SaleCondition</th>\n",
       "      <th>SalePrice</th>\n",
       "    </tr>\n",
       "  </thead>\n",
       "  <tbody>\n",
       "    <tr>\n",
       "      <th>0</th>\n",
       "      <td>60</td>\n",
       "      <td>RL</td>\n",
       "      <td>8450</td>\n",
       "      <td>Pave</td>\n",
       "      <td>Reg</td>\n",
       "      <td>Lvl</td>\n",
       "      <td>AllPub</td>\n",
       "      <td>Inside</td>\n",
       "      <td>Gtl</td>\n",
       "      <td>CollgCr</td>\n",
       "      <td>...</td>\n",
       "      <td>0</td>\n",
       "      <td>0</td>\n",
       "      <td>0</td>\n",
       "      <td>0</td>\n",
       "      <td>0</td>\n",
       "      <td>2</td>\n",
       "      <td>2008</td>\n",
       "      <td>WD</td>\n",
       "      <td>Normal</td>\n",
       "      <td>208500</td>\n",
       "    </tr>\n",
       "    <tr>\n",
       "      <th>1</th>\n",
       "      <td>20</td>\n",
       "      <td>RL</td>\n",
       "      <td>9600</td>\n",
       "      <td>Pave</td>\n",
       "      <td>Reg</td>\n",
       "      <td>Lvl</td>\n",
       "      <td>AllPub</td>\n",
       "      <td>FR2</td>\n",
       "      <td>Gtl</td>\n",
       "      <td>Veenker</td>\n",
       "      <td>...</td>\n",
       "      <td>0</td>\n",
       "      <td>0</td>\n",
       "      <td>0</td>\n",
       "      <td>0</td>\n",
       "      <td>0</td>\n",
       "      <td>5</td>\n",
       "      <td>2007</td>\n",
       "      <td>WD</td>\n",
       "      <td>Normal</td>\n",
       "      <td>181500</td>\n",
       "    </tr>\n",
       "    <tr>\n",
       "      <th>2</th>\n",
       "      <td>60</td>\n",
       "      <td>RL</td>\n",
       "      <td>11250</td>\n",
       "      <td>Pave</td>\n",
       "      <td>IR1</td>\n",
       "      <td>Lvl</td>\n",
       "      <td>AllPub</td>\n",
       "      <td>Inside</td>\n",
       "      <td>Gtl</td>\n",
       "      <td>CollgCr</td>\n",
       "      <td>...</td>\n",
       "      <td>0</td>\n",
       "      <td>0</td>\n",
       "      <td>0</td>\n",
       "      <td>0</td>\n",
       "      <td>0</td>\n",
       "      <td>9</td>\n",
       "      <td>2008</td>\n",
       "      <td>WD</td>\n",
       "      <td>Normal</td>\n",
       "      <td>223500</td>\n",
       "    </tr>\n",
       "    <tr>\n",
       "      <th>3</th>\n",
       "      <td>70</td>\n",
       "      <td>RL</td>\n",
       "      <td>9550</td>\n",
       "      <td>Pave</td>\n",
       "      <td>IR1</td>\n",
       "      <td>Lvl</td>\n",
       "      <td>AllPub</td>\n",
       "      <td>Corner</td>\n",
       "      <td>Gtl</td>\n",
       "      <td>Crawfor</td>\n",
       "      <td>...</td>\n",
       "      <td>272</td>\n",
       "      <td>0</td>\n",
       "      <td>0</td>\n",
       "      <td>0</td>\n",
       "      <td>0</td>\n",
       "      <td>2</td>\n",
       "      <td>2006</td>\n",
       "      <td>WD</td>\n",
       "      <td>Abnorml</td>\n",
       "      <td>140000</td>\n",
       "    </tr>\n",
       "    <tr>\n",
       "      <th>4</th>\n",
       "      <td>60</td>\n",
       "      <td>RL</td>\n",
       "      <td>14260</td>\n",
       "      <td>Pave</td>\n",
       "      <td>IR1</td>\n",
       "      <td>Lvl</td>\n",
       "      <td>AllPub</td>\n",
       "      <td>FR2</td>\n",
       "      <td>Gtl</td>\n",
       "      <td>NoRidge</td>\n",
       "      <td>...</td>\n",
       "      <td>0</td>\n",
       "      <td>0</td>\n",
       "      <td>0</td>\n",
       "      <td>0</td>\n",
       "      <td>0</td>\n",
       "      <td>12</td>\n",
       "      <td>2008</td>\n",
       "      <td>WD</td>\n",
       "      <td>Normal</td>\n",
       "      <td>250000</td>\n",
       "    </tr>\n",
       "  </tbody>\n",
       "</table>\n",
       "<p>5 rows × 74 columns</p>\n",
       "</div>"
      ],
      "text/plain": [
       "   MSSubClass MSZoning  LotArea Street LotShape LandContour Utilities  \\\n",
       "0          60       RL     8450   Pave      Reg         Lvl    AllPub   \n",
       "1          20       RL     9600   Pave      Reg         Lvl    AllPub   \n",
       "2          60       RL    11250   Pave      IR1         Lvl    AllPub   \n",
       "3          70       RL     9550   Pave      IR1         Lvl    AllPub   \n",
       "4          60       RL    14260   Pave      IR1         Lvl    AllPub   \n",
       "\n",
       "  LotConfig LandSlope Neighborhood  ... EnclosedPorch 3SsnPorch ScreenPorch  \\\n",
       "0    Inside       Gtl      CollgCr  ...             0         0           0   \n",
       "1       FR2       Gtl      Veenker  ...             0         0           0   \n",
       "2    Inside       Gtl      CollgCr  ...             0         0           0   \n",
       "3    Corner       Gtl      Crawfor  ...           272         0           0   \n",
       "4       FR2       Gtl      NoRidge  ...             0         0           0   \n",
       "\n",
       "  PoolArea  MiscVal  MoSold  YrSold  SaleType SaleCondition SalePrice  \n",
       "0        0        0       2    2008        WD        Normal    208500  \n",
       "1        0        0       5    2007        WD        Normal    181500  \n",
       "2        0        0       9    2008        WD        Normal    223500  \n",
       "3        0        0       2    2006        WD       Abnorml    140000  \n",
       "4        0        0      12    2008        WD        Normal    250000  \n",
       "\n",
       "[5 rows x 74 columns]"
      ]
     },
     "execution_count": 556,
     "metadata": {},
     "output_type": "execute_result"
    }
   ],
   "source": [
    "#dropping ID columns\n",
    "df_readyforencode = df_NArowsdropped.drop(columns=\"Id\")\n",
    "df_readyforencode.head(5)"
   ]
  },
  {
   "cell_type": "markdown",
   "id": "9b5eccd1",
   "metadata": {},
   "source": [
    "## ready to encode"
   ]
  },
  {
   "cell_type": "code",
   "execution_count": 557,
   "id": "1ee02793",
   "metadata": {},
   "outputs": [
    {
     "data": {
      "text/plain": [
       "MSZoning          5\n",
       "Street            2\n",
       "LotShape          4\n",
       "LandContour       4\n",
       "Utilities         2\n",
       "LotConfig         5\n",
       "LandSlope         3\n",
       "Neighborhood     25\n",
       "Condition1        9\n",
       "Condition2        8\n",
       "BldgType          5\n",
       "HouseStyle        8\n",
       "RoofStyle         6\n",
       "RoofMatl          8\n",
       "Exterior1st      14\n",
       "Exterior2nd      16\n",
       "MasVnrType        4\n",
       "ExterQual         4\n",
       "ExterCond         4\n",
       "Foundation        5\n",
       "BsmtQual          4\n",
       "BsmtCond          4\n",
       "BsmtExposure      4\n",
       "BsmtFinType1      6\n",
       "BsmtFinType2      6\n",
       "Heating           4\n",
       "HeatingQC         5\n",
       "CentralAir        2\n",
       "Electrical        5\n",
       "KitchenQual       4\n",
       "Functional        7\n",
       "GarageType        6\n",
       "GarageFinish      3\n",
       "GarageQual        5\n",
       "GarageCond        5\n",
       "PavedDrive        3\n",
       "SaleType          9\n",
       "SaleCondition     6\n",
       "dtype: int64"
      ]
     },
     "execution_count": 557,
     "metadata": {},
     "output_type": "execute_result"
    }
   ],
   "source": [
    "# Generate our categorical variable list\n",
    "df_readyforencode_cat = df_readyforencode.dtypes[df_readyforencode.dtypes == \"object\"].index.tolist()\n",
    "\n",
    "# Check the number of unique values in each column\n",
    "df_readyforencode[df_readyforencode_cat].nunique()"
   ]
  },
  {
   "cell_type": "code",
   "execution_count": 558,
   "id": "ec448259",
   "metadata": {},
   "outputs": [
    {
     "name": "stdout",
     "output_type": "stream",
     "text": [
      "list of features that have more than 10 categories: ['Neighborhood', 'Exterior1st', 'Exterior2nd']\n"
     ]
    }
   ],
   "source": [
    "list_of_unique_va_cat_dummy = df_readyforencode[df_readyforencode_cat].nunique() > 10\n",
    "list_of_unique_va_cat=list_of_unique_va_cat_dummy[list_of_unique_va_cat_dummy==True].index.tolist()\n",
    "print(f'list of features that have more than 10 categories: {list_of_unique_va_cat}')"
   ]
  },
  {
   "cell_type": "code",
   "execution_count": 559,
   "id": "a15275b6",
   "metadata": {},
   "outputs": [
    {
     "name": "stderr",
     "output_type": "stream",
     "text": [
      "C:\\Users\\14078\\anaconda3\\envs\\mlenv\\lib\\site-packages\\seaborn\\distributions.py:2619: FutureWarning: `distplot` is a deprecated function and will be removed in a future version. Please adapt your code to use either `displot` (a figure-level function with similar flexibility) or `histplot` (an axes-level function for histograms).\n",
      "  warnings.warn(msg, FutureWarning)\n",
      "C:\\Users\\14078\\anaconda3\\envs\\mlenv\\lib\\site-packages\\seaborn\\distributions.py:2619: FutureWarning: `distplot` is a deprecated function and will be removed in a future version. Please adapt your code to use either `displot` (a figure-level function with similar flexibility) or `histplot` (an axes-level function for histograms).\n",
      "  warnings.warn(msg, FutureWarning)\n",
      "C:\\Users\\14078\\anaconda3\\envs\\mlenv\\lib\\site-packages\\seaborn\\distributions.py:2619: FutureWarning: `distplot` is a deprecated function and will be removed in a future version. Please adapt your code to use either `displot` (a figure-level function with similar flexibility) or `histplot` (an axes-level function for histograms).\n",
      "  warnings.warn(msg, FutureWarning)\n"
     ]
    },
    {
     "data": {
      "image/png": "[encoded data removed]",
      "text/plain": [
       "<Figure size 432x288 with 1 Axes>"
      ]
     },
     "metadata": {
      "needs_background": "light"
     },
     "output_type": "display_data"
    },
    {
     "data": {
      "image/png": "[encoded data removed]",
      "text/plain": [
       "<Figure size 432x288 with 1 Axes>"
      ]
     },
     "metadata": {
      "needs_background": "light"
     },
     "output_type": "display_data"
    },
    {
     "data": {
      "image/png": "[encoded data removed]",
      "text/plain": [
       "<Figure size 432x288 with 1 Axes>"
      ]
     },
     "metadata": {
      "needs_background": "light"
     },
     "output_type": "display_data"
    }
   ],
   "source": [
    "# Visualizing the data using density plot\n",
    "for col in list_of_unique_va_cat:\n",
    "#     print( df_readyforencode[col].value_counts())\n",
    "    plt.figure()\n",
    "    sns.distplot(a=df_readyforencode[col].value_counts(),bins=15)"
   ]
  },
  {
   "cell_type": "code",
   "execution_count": 560,
   "id": "30e83616",
   "metadata": {},
   "outputs": [
    {
     "data": {
      "image/png": "[encoded data removed]",
      "text/plain": [
       "<Figure size 432x288 with 1 Axes>"
      ]
     },
     "metadata": {
      "needs_background": "light"
     },
     "output_type": "display_data"
    },
    {
     "data": {
      "image/png": "[encoded data removed]",
      "text/plain": [
       "<Figure size 432x288 with 1 Axes>"
      ]
     },
     "metadata": {
      "needs_background": "light"
     },
     "output_type": "display_data"
    },
    {
     "data": {
      "image/png": "[encoded data removed]",
      "text/plain": [
       "<Figure size 432x288 with 1 Axes>"
      ]
     },
     "metadata": {
      "needs_background": "light"
     },
     "output_type": "display_data"
    }
   ],
   "source": [
    "# Visualizing the data in boxplot format\n",
    "for col in list_of_unique_va_cat:\n",
    "#     print( df_readyforencode[col].value_counts())\n",
    "    plt.figure()\n",
    "#     df_readyforencode[col].value_counts().plot.density()\n",
    "#     df_readyforencode[col].value_counts().hist()\n",
    "    plt.title(col)\n",
    "    ax = sns.boxplot(x=df_readyforencode[col].value_counts())\n",
    "    \n",
    "    \n",
    "\n"
   ]
  },
  {
   "cell_type": "code",
   "execution_count": 561,
   "id": "e0c26af5",
   "metadata": {},
   "outputs": [
    {
     "name": "stdout",
     "output_type": "stream",
     "text": [
      "['Neighborhood', 'Exterior1st', 'Exterior2nd']\n"
     ]
    },
    {
     "data": {
      "text/html": [
       "<div>\n",
       "<style scoped>\n",
       "    .dataframe tbody tr th:only-of-type {\n",
       "        vertical-align: middle;\n",
       "    }\n",
       "\n",
       "    .dataframe tbody tr th {\n",
       "        vertical-align: top;\n",
       "    }\n",
       "\n",
       "    .dataframe thead th {\n",
       "        text-align: right;\n",
       "    }\n",
       "</style>\n",
       "<table border=\"1\" class=\"dataframe\">\n",
       "  <thead>\n",
       "    <tr style=\"text-align: right;\">\n",
       "      <th></th>\n",
       "      <th>MSSubClass</th>\n",
       "      <th>MSZoning</th>\n",
       "      <th>LotArea</th>\n",
       "      <th>Street</th>\n",
       "      <th>LotShape</th>\n",
       "      <th>LandContour</th>\n",
       "      <th>Utilities</th>\n",
       "      <th>LotConfig</th>\n",
       "      <th>LandSlope</th>\n",
       "      <th>Neighborhood</th>\n",
       "      <th>...</th>\n",
       "      <th>EnclosedPorch</th>\n",
       "      <th>3SsnPorch</th>\n",
       "      <th>ScreenPorch</th>\n",
       "      <th>PoolArea</th>\n",
       "      <th>MiscVal</th>\n",
       "      <th>MoSold</th>\n",
       "      <th>YrSold</th>\n",
       "      <th>SaleType</th>\n",
       "      <th>SaleCondition</th>\n",
       "      <th>SalePrice</th>\n",
       "    </tr>\n",
       "  </thead>\n",
       "  <tbody>\n",
       "    <tr>\n",
       "      <th>0</th>\n",
       "      <td>60</td>\n",
       "      <td>RL</td>\n",
       "      <td>8450</td>\n",
       "      <td>Pave</td>\n",
       "      <td>Reg</td>\n",
       "      <td>Lvl</td>\n",
       "      <td>AllPub</td>\n",
       "      <td>Inside</td>\n",
       "      <td>Gtl</td>\n",
       "      <td>CollgCr</td>\n",
       "      <td>...</td>\n",
       "      <td>0</td>\n",
       "      <td>0</td>\n",
       "      <td>0</td>\n",
       "      <td>0</td>\n",
       "      <td>0</td>\n",
       "      <td>2</td>\n",
       "      <td>2008</td>\n",
       "      <td>WD</td>\n",
       "      <td>Normal</td>\n",
       "      <td>208500</td>\n",
       "    </tr>\n",
       "    <tr>\n",
       "      <th>1</th>\n",
       "      <td>20</td>\n",
       "      <td>RL</td>\n",
       "      <td>9600</td>\n",
       "      <td>Pave</td>\n",
       "      <td>Reg</td>\n",
       "      <td>Lvl</td>\n",
       "      <td>AllPub</td>\n",
       "      <td>FR2</td>\n",
       "      <td>Gtl</td>\n",
       "      <td>Other</td>\n",
       "      <td>...</td>\n",
       "      <td>0</td>\n",
       "      <td>0</td>\n",
       "      <td>0</td>\n",
       "      <td>0</td>\n",
       "      <td>0</td>\n",
       "      <td>5</td>\n",
       "      <td>2007</td>\n",
       "      <td>WD</td>\n",
       "      <td>Normal</td>\n",
       "      <td>181500</td>\n",
       "    </tr>\n",
       "    <tr>\n",
       "      <th>2</th>\n",
       "      <td>60</td>\n",
       "      <td>RL</td>\n",
       "      <td>11250</td>\n",
       "      <td>Pave</td>\n",
       "      <td>IR1</td>\n",
       "      <td>Lvl</td>\n",
       "      <td>AllPub</td>\n",
       "      <td>Inside</td>\n",
       "      <td>Gtl</td>\n",
       "      <td>CollgCr</td>\n",
       "      <td>...</td>\n",
       "      <td>0</td>\n",
       "      <td>0</td>\n",
       "      <td>0</td>\n",
       "      <td>0</td>\n",
       "      <td>0</td>\n",
       "      <td>9</td>\n",
       "      <td>2008</td>\n",
       "      <td>WD</td>\n",
       "      <td>Normal</td>\n",
       "      <td>223500</td>\n",
       "    </tr>\n",
       "    <tr>\n",
       "      <th>3</th>\n",
       "      <td>70</td>\n",
       "      <td>RL</td>\n",
       "      <td>9550</td>\n",
       "      <td>Pave</td>\n",
       "      <td>IR1</td>\n",
       "      <td>Lvl</td>\n",
       "      <td>AllPub</td>\n",
       "      <td>Corner</td>\n",
       "      <td>Gtl</td>\n",
       "      <td>Crawfor</td>\n",
       "      <td>...</td>\n",
       "      <td>272</td>\n",
       "      <td>0</td>\n",
       "      <td>0</td>\n",
       "      <td>0</td>\n",
       "      <td>0</td>\n",
       "      <td>2</td>\n",
       "      <td>2006</td>\n",
       "      <td>WD</td>\n",
       "      <td>Abnorml</td>\n",
       "      <td>140000</td>\n",
       "    </tr>\n",
       "    <tr>\n",
       "      <th>4</th>\n",
       "      <td>60</td>\n",
       "      <td>RL</td>\n",
       "      <td>14260</td>\n",
       "      <td>Pave</td>\n",
       "      <td>IR1</td>\n",
       "      <td>Lvl</td>\n",
       "      <td>AllPub</td>\n",
       "      <td>FR2</td>\n",
       "      <td>Gtl</td>\n",
       "      <td>NoRidge</td>\n",
       "      <td>...</td>\n",
       "      <td>0</td>\n",
       "      <td>0</td>\n",
       "      <td>0</td>\n",
       "      <td>0</td>\n",
       "      <td>0</td>\n",
       "      <td>12</td>\n",
       "      <td>2008</td>\n",
       "      <td>WD</td>\n",
       "      <td>Normal</td>\n",
       "      <td>250000</td>\n",
       "    </tr>\n",
       "    <tr>\n",
       "      <th>...</th>\n",
       "      <td>...</td>\n",
       "      <td>...</td>\n",
       "      <td>...</td>\n",
       "      <td>...</td>\n",
       "      <td>...</td>\n",
       "      <td>...</td>\n",
       "      <td>...</td>\n",
       "      <td>...</td>\n",
       "      <td>...</td>\n",
       "      <td>...</td>\n",
       "      <td>...</td>\n",
       "      <td>...</td>\n",
       "      <td>...</td>\n",
       "      <td>...</td>\n",
       "      <td>...</td>\n",
       "      <td>...</td>\n",
       "      <td>...</td>\n",
       "      <td>...</td>\n",
       "      <td>...</td>\n",
       "      <td>...</td>\n",
       "      <td>...</td>\n",
       "    </tr>\n",
       "    <tr>\n",
       "      <th>1455</th>\n",
       "      <td>60</td>\n",
       "      <td>RL</td>\n",
       "      <td>7917</td>\n",
       "      <td>Pave</td>\n",
       "      <td>Reg</td>\n",
       "      <td>Lvl</td>\n",
       "      <td>AllPub</td>\n",
       "      <td>Inside</td>\n",
       "      <td>Gtl</td>\n",
       "      <td>Gilbert</td>\n",
       "      <td>...</td>\n",
       "      <td>0</td>\n",
       "      <td>0</td>\n",
       "      <td>0</td>\n",
       "      <td>0</td>\n",
       "      <td>0</td>\n",
       "      <td>8</td>\n",
       "      <td>2007</td>\n",
       "      <td>WD</td>\n",
       "      <td>Normal</td>\n",
       "      <td>175000</td>\n",
       "    </tr>\n",
       "    <tr>\n",
       "      <th>1456</th>\n",
       "      <td>20</td>\n",
       "      <td>RL</td>\n",
       "      <td>13175</td>\n",
       "      <td>Pave</td>\n",
       "      <td>Reg</td>\n",
       "      <td>Lvl</td>\n",
       "      <td>AllPub</td>\n",
       "      <td>Inside</td>\n",
       "      <td>Gtl</td>\n",
       "      <td>NWAmes</td>\n",
       "      <td>...</td>\n",
       "      <td>0</td>\n",
       "      <td>0</td>\n",
       "      <td>0</td>\n",
       "      <td>0</td>\n",
       "      <td>0</td>\n",
       "      <td>2</td>\n",
       "      <td>2010</td>\n",
       "      <td>WD</td>\n",
       "      <td>Normal</td>\n",
       "      <td>210000</td>\n",
       "    </tr>\n",
       "    <tr>\n",
       "      <th>1457</th>\n",
       "      <td>70</td>\n",
       "      <td>RL</td>\n",
       "      <td>9042</td>\n",
       "      <td>Pave</td>\n",
       "      <td>Reg</td>\n",
       "      <td>Lvl</td>\n",
       "      <td>AllPub</td>\n",
       "      <td>Inside</td>\n",
       "      <td>Gtl</td>\n",
       "      <td>Crawfor</td>\n",
       "      <td>...</td>\n",
       "      <td>0</td>\n",
       "      <td>0</td>\n",
       "      <td>0</td>\n",
       "      <td>0</td>\n",
       "      <td>2500</td>\n",
       "      <td>5</td>\n",
       "      <td>2010</td>\n",
       "      <td>WD</td>\n",
       "      <td>Normal</td>\n",
       "      <td>266500</td>\n",
       "    </tr>\n",
       "    <tr>\n",
       "      <th>1458</th>\n",
       "      <td>20</td>\n",
       "      <td>RL</td>\n",
       "      <td>9717</td>\n",
       "      <td>Pave</td>\n",
       "      <td>Reg</td>\n",
       "      <td>Lvl</td>\n",
       "      <td>AllPub</td>\n",
       "      <td>Inside</td>\n",
       "      <td>Gtl</td>\n",
       "      <td>NAmes</td>\n",
       "      <td>...</td>\n",
       "      <td>112</td>\n",
       "      <td>0</td>\n",
       "      <td>0</td>\n",
       "      <td>0</td>\n",
       "      <td>0</td>\n",
       "      <td>4</td>\n",
       "      <td>2010</td>\n",
       "      <td>WD</td>\n",
       "      <td>Normal</td>\n",
       "      <td>142125</td>\n",
       "    </tr>\n",
       "    <tr>\n",
       "      <th>1459</th>\n",
       "      <td>20</td>\n",
       "      <td>RL</td>\n",
       "      <td>9937</td>\n",
       "      <td>Pave</td>\n",
       "      <td>Reg</td>\n",
       "      <td>Lvl</td>\n",
       "      <td>AllPub</td>\n",
       "      <td>Inside</td>\n",
       "      <td>Gtl</td>\n",
       "      <td>Edwards</td>\n",
       "      <td>...</td>\n",
       "      <td>0</td>\n",
       "      <td>0</td>\n",
       "      <td>0</td>\n",
       "      <td>0</td>\n",
       "      <td>0</td>\n",
       "      <td>6</td>\n",
       "      <td>2008</td>\n",
       "      <td>WD</td>\n",
       "      <td>Normal</td>\n",
       "      <td>147500</td>\n",
       "    </tr>\n",
       "  </tbody>\n",
       "</table>\n",
       "<p>1338 rows × 74 columns</p>\n",
       "</div>"
      ],
      "text/plain": [
       "      MSSubClass MSZoning  LotArea Street LotShape LandContour Utilities  \\\n",
       "0             60       RL     8450   Pave      Reg         Lvl    AllPub   \n",
       "1             20       RL     9600   Pave      Reg         Lvl    AllPub   \n",
       "2             60       RL    11250   Pave      IR1         Lvl    AllPub   \n",
       "3             70       RL     9550   Pave      IR1         Lvl    AllPub   \n",
       "4             60       RL    14260   Pave      IR1         Lvl    AllPub   \n",
       "...          ...      ...      ...    ...      ...         ...       ...   \n",
       "1455          60       RL     7917   Pave      Reg         Lvl    AllPub   \n",
       "1456          20       RL    13175   Pave      Reg         Lvl    AllPub   \n",
       "1457          70       RL     9042   Pave      Reg         Lvl    AllPub   \n",
       "1458          20       RL     9717   Pave      Reg         Lvl    AllPub   \n",
       "1459          20       RL     9937   Pave      Reg         Lvl    AllPub   \n",
       "\n",
       "     LotConfig LandSlope Neighborhood  ... EnclosedPorch 3SsnPorch  \\\n",
       "0       Inside       Gtl      CollgCr  ...             0         0   \n",
       "1          FR2       Gtl        Other  ...             0         0   \n",
       "2       Inside       Gtl      CollgCr  ...             0         0   \n",
       "3       Corner       Gtl      Crawfor  ...           272         0   \n",
       "4          FR2       Gtl      NoRidge  ...             0         0   \n",
       "...        ...       ...          ...  ...           ...       ...   \n",
       "1455    Inside       Gtl      Gilbert  ...             0         0   \n",
       "1456    Inside       Gtl       NWAmes  ...             0         0   \n",
       "1457    Inside       Gtl      Crawfor  ...             0         0   \n",
       "1458    Inside       Gtl        NAmes  ...           112         0   \n",
       "1459    Inside       Gtl      Edwards  ...             0         0   \n",
       "\n",
       "     ScreenPorch PoolArea  MiscVal  MoSold  YrSold  SaleType SaleCondition  \\\n",
       "0              0        0        0       2    2008        WD        Normal   \n",
       "1              0        0        0       5    2007        WD        Normal   \n",
       "2              0        0        0       9    2008        WD        Normal   \n",
       "3              0        0        0       2    2006        WD       Abnorml   \n",
       "4              0        0        0      12    2008        WD        Normal   \n",
       "...          ...      ...      ...     ...     ...       ...           ...   \n",
       "1455           0        0        0       8    2007        WD        Normal   \n",
       "1456           0        0        0       2    2010        WD        Normal   \n",
       "1457           0        0     2500       5    2010        WD        Normal   \n",
       "1458           0        0        0       4    2010        WD        Normal   \n",
       "1459           0        0        0       6    2008        WD        Normal   \n",
       "\n",
       "     SalePrice  \n",
       "0       208500  \n",
       "1       181500  \n",
       "2       223500  \n",
       "3       140000  \n",
       "4       250000  \n",
       "...        ...  \n",
       "1455    175000  \n",
       "1456    210000  \n",
       "1457    266500  \n",
       "1458    142125  \n",
       "1459    147500  \n",
       "\n",
       "[1338 rows x 74 columns]"
      ]
     },
     "execution_count": 561,
     "metadata": {},
     "output_type": "execute_result"
    }
   ],
   "source": [
    "# %%%%%%% need to bin here for 3 columns\n",
    "\n",
    "def replace_col_data_for_binning(df,col,limit):\n",
    "    col_val_count = df[col].value_counts()\n",
    "    replace_col_data = list(col_val_count[col_val_count<limit].index)\n",
    "    for data in replace_col_data:\n",
    "        df[col]= df[col].replace(data,\"Other\")\n",
    "    return df\n",
    "\n",
    "df_readyforencode1 = df_readyforencode.copy()    \n",
    "\n",
    "print(list_of_unique_va_cat)\n",
    "\n",
    "replace_col_data_for_binning(df_readyforencode1,list_of_unique_va_cat[0],20)\n",
    "replace_col_data_for_binning(df_readyforencode1,list_of_unique_va_cat[1],40)\n",
    "replace_col_data_for_binning(df_readyforencode1,list_of_unique_va_cat[2],40)\n",
    "\n",
    "\n"
   ]
  },
  {
   "cell_type": "code",
   "execution_count": 562,
   "id": "3a90d3ca",
   "metadata": {},
   "outputs": [
    {
     "data": {
      "text/plain": [
       "VinylSd    475\n",
       "MetalSd    197\n",
       "HdBoard    197\n",
       "Wd Sdng    176\n",
       "Plywood    127\n",
       "Other      115\n",
       "CmentBd     51\n",
       "Name: Exterior2nd, dtype: int64"
      ]
     },
     "execution_count": 562,
     "metadata": {},
     "output_type": "execute_result"
    }
   ],
   "source": [
    "df_readyforencode1[list_of_unique_va_cat[2]].value_counts()"
   ]
  },
  {
   "cell_type": "code",
   "execution_count": 563,
   "id": "183af541",
   "metadata": {},
   "outputs": [
    {
     "data": {
      "text/plain": [
       "VinylSd    475\n",
       "MetalSd    197\n",
       "HdBoard    197\n",
       "Wd Sdng    176\n",
       "Plywood    127\n",
       "CmentBd     51\n",
       "Wd Shng     32\n",
       "Stucco      23\n",
       "BrkFace     22\n",
       "AsbShng     16\n",
       "ImStucc     10\n",
       "Brk Cmn      6\n",
       "AsphShn      2\n",
       "Stone        2\n",
       "Other        1\n",
       "CBlock       1\n",
       "Name: Exterior2nd, dtype: int64"
      ]
     },
     "execution_count": 563,
     "metadata": {},
     "output_type": "execute_result"
    }
   ],
   "source": [
    "df_readyforencode[list_of_unique_va_cat[2]].value_counts()"
   ]
  },
  {
   "cell_type": "markdown",
   "id": "b645cdb7",
   "metadata": {},
   "source": [
    "## here is option 1 for encoding : using oneHotencoder"
   ]
  },
  {
   "cell_type": "code",
   "execution_count": 564,
   "id": "93a4244d",
   "metadata": {
    "scrolled": true
   },
   "outputs": [],
   "source": [
    "if feature_encoding == 1 :\n",
    "    \n",
    "    # Create a OneHotEncoder instance\n",
    "    enc = OneHotEncoder(sparse=False)\n",
    "\n",
    "\n",
    "\n",
    "    # Fit and transform the OneHotEncoder using the categorical variable list\n",
    "    encode_df = pd.DataFrame(enc.fit_transform(df_readyforencode1[df_readyforencode_cat]))\n",
    "\n",
    "    # Add the encoded variable names to the DataFrame\n",
    "    encode_df.columns = enc.get_feature_names(df_readyforencode_cat)\n",
    "    print(encode_df)\n"
   ]
  },
  {
   "cell_type": "markdown",
   "id": "94352d69",
   "metadata": {},
   "source": [
    "### it looks like there are way too many columns above using onehotencoder\n"
   ]
  },
  {
   "cell_type": "code",
   "execution_count": 565,
   "id": "b9fc74c1",
   "metadata": {},
   "outputs": [],
   "source": [
    "if feature_encoding ==1 :\n",
    "    print(f'number of columns after OneHOTEncoding is :{len(encode_df.columns)}')"
   ]
  },
  {
   "cell_type": "markdown",
   "id": "8cfcb6c7",
   "metadata": {},
   "source": [
    "## In the below section we merge the encoded columns and drop the copies"
   ]
  },
  {
   "cell_type": "code",
   "execution_count": 566,
   "id": "228bbbb8",
   "metadata": {},
   "outputs": [],
   "source": [
    "if feature_encoding == 1 :\n",
    "    df_readyforencode1 = df_readyforencode1.merge(encode_df,left_index=True, right_index=True)\n",
    "    df_ready_final = df_readyforencode1.drop(df_readyforencode_cat,1)\n",
    "    print(df_ready_final.head())"
   ]
  },
  {
   "cell_type": "markdown",
   "id": "30b1297a",
   "metadata": {},
   "source": [
    "## Option 0: skipping categories (feature_encoding =0)"
   ]
  },
  {
   "cell_type": "code",
   "execution_count": 567,
   "id": "489b912b",
   "metadata": {},
   "outputs": [],
   "source": [
    "\n",
    "if feature_encoding ==0 :\n",
    "    df_readyforencode0 = df_readyforencode.copy()\n",
    "    df_readyforencode0=df_readyforencode0.drop(df_readyforencode_cat,axis=1)\n",
    "#     df_readyforencode2.shape\n",
    "    # df_readyforencode.shape\n",
    "    # df_readyforencode_cat\n",
    "    df_ready_final = df_readyforencode0\n",
    "    print(f'skipping all the catergories has this many columns: {len(df_ready_final.columns)}')"
   ]
  },
  {
   "cell_type": "markdown",
   "id": "67e0d2e8",
   "metadata": {},
   "source": [
    "## Option 2: Mean Encoding (feature_encoding =2)"
   ]
  },
  {
   "cell_type": "code",
   "execution_count": 568,
   "id": "7f696b7f",
   "metadata": {},
   "outputs": [],
   "source": [
    "if feature_encoding == 2:\n",
    "    df_readyforencode2 = df_readyforencode.copy()\n",
    "    for col in df_readyforencode_cat:\n",
    "        df_readyforencode2[col] = df_readyforencode2[col].map(df.groupby(col)['SalePrice'].mean())\n",
    "\n",
    "    df_ready_final = df_readyforencode2\n",
    "    print(f'Mean Encodign has this many columns: {len(df_ready_final.columns)}')"
   ]
  },
  {
   "cell_type": "markdown",
   "id": "1c53f124",
   "metadata": {},
   "source": [
    "## Option 3: Median Encoding (feature_encoding =3)\n"
   ]
  },
  {
   "cell_type": "code",
   "execution_count": 569,
   "id": "15dba753",
   "metadata": {},
   "outputs": [],
   "source": [
    "if feature_encoding == 3:\n",
    "    df_readyforencode3 = df_readyforencode.copy()\n",
    "    for col in df_readyforencode_cat:\n",
    "        df_readyforencode3[col] = df_readyforencode3[col].map(df.groupby(col)['SalePrice'].median())\n",
    "\n",
    "    df_ready_final = df_readyforencode3\n",
    "    print(f'Mean Encodign has this many columns: {len(df_ready_final.columns)}')"
   ]
  },
  {
   "cell_type": "markdown",
   "id": "4fb892d3",
   "metadata": {},
   "source": [
    "## Option 4: Binary Encoding (feature_encoding =4)\n"
   ]
  },
  {
   "cell_type": "code",
   "execution_count": 571,
   "id": "34c4f843",
   "metadata": {},
   "outputs": [
    {
     "name": "stdout",
     "output_type": "stream",
     "text": [
      "Bianary Encodign has this many columns: 154\n",
      "      MSSubClass  MSZoning_0  MSZoning_1  MSZoning_2  LotArea  Street_0  \\\n",
      "0             60           0           0           1     8450         0   \n",
      "1             20           0           0           1     9600         0   \n",
      "2             60           0           0           1    11250         0   \n",
      "3             70           0           0           1     9550         0   \n",
      "4             60           0           0           1    14260         0   \n",
      "...          ...         ...         ...         ...      ...       ...   \n",
      "1455          60           0           0           1     7917         0   \n",
      "1456          20           0           0           1    13175         0   \n",
      "1457          70           0           0           1     9042         0   \n",
      "1458          20           0           0           1     9717         0   \n",
      "1459          20           0           0           1     9937         0   \n",
      "\n",
      "      Street_1  LotShape_0  LotShape_1  LotShape_2  ...  MoSold  YrSold  \\\n",
      "0            1           0           0           1  ...       2    2008   \n",
      "1            1           0           0           1  ...       5    2007   \n",
      "2            1           0           1           0  ...       9    2008   \n",
      "3            1           0           1           0  ...       2    2006   \n",
      "4            1           0           1           0  ...      12    2008   \n",
      "...        ...         ...         ...         ...  ...     ...     ...   \n",
      "1455         1           0           0           1  ...       8    2007   \n",
      "1456         1           0           0           1  ...       2    2010   \n",
      "1457         1           0           0           1  ...       5    2010   \n",
      "1458         1           0           0           1  ...       4    2010   \n",
      "1459         1           0           0           1  ...       6    2008   \n",
      "\n",
      "      SaleType_0  SaleType_1  SaleType_2  SaleType_3  SaleCondition_0  \\\n",
      "0              0           0           0           1                0   \n",
      "1              0           0           0           1                0   \n",
      "2              0           0           0           1                0   \n",
      "3              0           0           0           1                0   \n",
      "4              0           0           0           1                0   \n",
      "...          ...         ...         ...         ...              ...   \n",
      "1455           0           0           0           1                0   \n",
      "1456           0           0           0           1                0   \n",
      "1457           0           0           0           1                0   \n",
      "1458           0           0           0           1                0   \n",
      "1459           0           0           0           1                0   \n",
      "\n",
      "      SaleCondition_1  SaleCondition_2  SalePrice  \n",
      "0                   0                1     208500  \n",
      "1                   0                1     181500  \n",
      "2                   0                1     223500  \n",
      "3                   1                0     140000  \n",
      "4                   0                1     250000  \n",
      "...               ...              ...        ...  \n",
      "1455                0                1     175000  \n",
      "1456                0                1     210000  \n",
      "1457                0                1     266500  \n",
      "1458                0                1     142125  \n",
      "1459                0                1     147500  \n",
      "\n",
      "[1338 rows x 154 columns]\n"
     ]
    }
   ],
   "source": [
    "\n",
    "if feature_encoding == 4:\n",
    "    \n",
    "    df_readyforencode4 = df_readyforencode.copy()  \n",
    "    ce_bin = ce.BinaryEncoder()\n",
    "    # ce_bin.fit_transform(X, y)\n",
    "    # encode_df = pd.DataFrame(ce_bin.fit_transform(df_readyforencode4[df_readyforencode_cat]))\n",
    "\n",
    "    df_ready_final = pd.DataFrame(ce_bin.fit_transform(df_readyforencode4))\n",
    "\n",
    "    print(f'Bianary Encodign has this many columns: {len(df_ready_final.columns)}')\n",
    "    print(df_ready_final)"
   ]
  },
  {
   "cell_type": "code",
   "execution_count": null,
   "id": "4ffb558d",
   "metadata": {},
   "outputs": [],
   "source": []
  },
  {
   "cell_type": "markdown",
   "id": "1e07bc2d",
   "metadata": {},
   "source": [
    "## splitting input and output"
   ]
  },
  {
   "cell_type": "code",
   "execution_count": 572,
   "id": "ab44100e",
   "metadata": {},
   "outputs": [
    {
     "data": {
      "text/plain": [
       "(1338, 153)"
      ]
     },
     "execution_count": 572,
     "metadata": {},
     "output_type": "execute_result"
    }
   ],
   "source": [
    "y = df_ready_final['SalePrice']\n",
    "X = df_ready_final.drop(columns=['SalePrice'])\n",
    "X.shape"
   ]
  },
  {
   "cell_type": "code",
   "execution_count": 573,
   "id": "a3300088",
   "metadata": {},
   "outputs": [],
   "source": [
    "X_train, X_test, y_train, y_test = train_test_split(X, y, random_state=42)\n",
    "# , stratify=y"
   ]
  },
  {
   "cell_type": "code",
   "execution_count": 574,
   "id": "9e0f9248",
   "metadata": {},
   "outputs": [],
   "source": [
    "# Create a Robust instance\n",
    "scaler = RobustScaler()\n",
    "\n",
    "# Fit the StandardScaler\n",
    "X_scaler = scaler.fit(X_train)\n",
    "\n",
    "# Scale the data\n",
    "X_train_scaled = X_scaler.transform(X_train)\n",
    "X_test_scaled = X_scaler.transform(X_test)"
   ]
  },
  {
   "cell_type": "code",
   "execution_count": 575,
   "id": "112dd483",
   "metadata": {},
   "outputs": [],
   "source": [
    "import os\n",
    "import tensorflow as tf\n",
    "from tensorflow.keras.callbacks import ModelCheckpoint\n",
    "\n",
    "# Define the checkpoint path and filenames\n",
    "os.makedirs(\"checkpoints/\",exist_ok=True)\n",
    "checkpoint_path = \"checkpoints/weights.{epoch:02d}.hdf5\"\n",
    "# Create a callback that saves the model's weights every epoch\n",
    "cp_callback = ModelCheckpoint(\n",
    "    filepath=checkpoint_path,\n",
    "    verbose=1,\n",
    "    save_weights_only=True,\n",
    "    save_freq=5*804,\n",
    "     )"
   ]
  },
  {
   "cell_type": "code",
   "execution_count": 576,
   "id": "595c7f16",
   "metadata": {},
   "outputs": [
    {
     "data": {
      "text/plain": [
       "153"
      ]
     },
     "execution_count": 576,
     "metadata": {},
     "output_type": "execute_result"
    }
   ],
   "source": [
    "number_input_features = len(X_train_scaled[0])\n",
    "number_input_features"
   ]
  },
  {
   "cell_type": "code",
   "execution_count": 577,
   "id": "b180a1b2",
   "metadata": {},
   "outputs": [
    {
     "name": "stdout",
     "output_type": "stream",
     "text": [
      "X_train_scaled:(1003, 153)\n",
      "X_test_scaled:(335, 153)\n",
      "y:(1338,)\n"
     ]
    }
   ],
   "source": [
    "print(f'X_train_scaled:{X_train_scaled.shape}')\n",
    "print(f'X_test_scaled:{X_test_scaled.shape}')\n",
    "print(f'y:{y.shape}')"
   ]
  },
  {
   "cell_type": "code",
   "execution_count": 579,
   "id": "5e6e3995",
   "metadata": {},
   "outputs": [
    {
     "name": "stdout",
     "output_type": "stream",
     "text": [
      "Model: \"sequential_25\"\n",
      "_________________________________________________________________\n",
      " Layer (type)                Output Shape              Param #   \n",
      "=================================================================\n",
      " dense_75 (Dense)            (None, 200)               30800     \n",
      "                                                                 \n",
      " dense_76 (Dense)            (None, 120)               24120     \n",
      "                                                                 \n",
      " dense_77 (Dense)            (None, 1)                 121       \n",
      "                                                                 \n",
      "=================================================================\n",
      "Total params: 55,041\n",
      "Trainable params: 55,041\n",
      "Non-trainable params: 0\n",
      "_________________________________________________________________\n"
     ]
    }
   ],
   "source": [
    "# Define the model - deep neural net, i.e., the number of input features and hidden nodes for each layer.\n",
    "\n",
    "number_input_features = len(X_train_scaled[0])\n",
    "hidden_nodes_layer1 = 200\n",
    "hidden_nodes_layer2 = 120\n",
    "hidden_nodes_layer3 = 10\n",
    "\n",
    "nn = tf.keras.models.Sequential()\n",
    "\n",
    "# First hidden layer\n",
    "nn.add(tf.keras.layers.Dense(units=hidden_nodes_layer1, input_dim=number_input_features, activation=\"relu\"))\n",
    "\n",
    "# Second hidden layer\n",
    "nn.add(tf.keras.layers.Dense(units=hidden_nodes_layer2, activation=\"relu\"))\n",
    "\n",
    "# nn.add(tf.keras.layers.Dense(units=hidden_nodes_layer3, activation=\"relu\"))\n",
    "\n",
    "# Output layer\n",
    "nn.add(tf.keras.layers.Dense(units=1, activation=\"relu\"))\n",
    "\n",
    "# Check the structure of the model\n",
    "nn.summary()"
   ]
  },
  {
   "cell_type": "code",
   "execution_count": 580,
   "id": "3cea575c",
   "metadata": {},
   "outputs": [],
   "source": [
    "# Compile the model\n",
    "# nn.compile(loss=\"binary_crossentropy\", optimizer=\"adam\", metrics=[\"accuracy\"])\n",
    "nn.compile(loss=\"mean_squared_error\", optimizer=\"adam\") #since we are doing regression"
   ]
  },
  {
   "cell_type": "code",
   "execution_count": 581,
   "id": "8e89da29",
   "metadata": {},
   "outputs": [
    {
     "name": "stdout",
     "output_type": "stream",
     "text": [
      "Epoch 1/600\n",
      "32/32 [==============================] - 1s 2ms/step - loss: 42945167360.0000\n",
      "Epoch 2/600\n",
      "32/32 [==============================] - 0s 2ms/step - loss: 42773094400.0000\n",
      "Epoch 3/600\n",
      "32/32 [==============================] - 0s 2ms/step - loss: 42175012864.0000\n",
      "Epoch 4/600\n",
      "32/32 [==============================] - 0s 2ms/step - loss: 40780050432.0000\n",
      "Epoch 5/600\n",
      "32/32 [==============================] - 0s 2ms/step - loss: 38372261888.0000\n",
      "Epoch 6/600\n",
      "32/32 [==============================] - 0s 2ms/step - loss: 35907633152.0000\n",
      "Epoch 7/600\n",
      "32/32 [==============================] - 0s 2ms/step - loss: 33704032256.0000\n",
      "Epoch 8/600\n",
      "32/32 [==============================] - 0s 2ms/step - loss: 32143917056.0000\n",
      "Epoch 9/600\n",
      "32/32 [==============================] - 0s 2ms/step - loss: 30693820416.0000\n",
      "Epoch 10/600\n",
      "32/32 [==============================] - 0s 2ms/step - loss: 29257926656.0000\n",
      "Epoch 11/600\n",
      "32/32 [==============================] - 0s 2ms/step - loss: 27812513792.0000\n",
      "Epoch 12/600\n",
      "32/32 [==============================] - 0s 2ms/step - loss: 26404589568.0000\n",
      "Epoch 13/600\n",
      "32/32 [==============================] - 0s 2ms/step - loss: 24922656768.0000\n",
      "Epoch 14/600\n",
      "32/32 [==============================] - 0s 2ms/step - loss: 23439501312.0000\n",
      "Epoch 15/600\n",
      "32/32 [==============================] - 0s 2ms/step - loss: 21896521728.0000\n",
      "Epoch 16/600\n",
      "32/32 [==============================] - 0s 2ms/step - loss: 20311154688.0000\n",
      "Epoch 17/600\n",
      "32/32 [==============================] - 0s 2ms/step - loss: 18617290752.0000\n",
      "Epoch 18/600\n",
      "32/32 [==============================] - 0s 2ms/step - loss: 16874276864.0000\n",
      "Epoch 19/600\n",
      "32/32 [==============================] - 0s 2ms/step - loss: 15059334144.0000\n",
      "Epoch 20/600\n",
      "32/32 [==============================] - 0s 2ms/step - loss: 13231700992.0000\n",
      "Epoch 21/600\n",
      "32/32 [==============================] - 0s 2ms/step - loss: 11360712704.0000\n",
      "Epoch 22/600\n",
      "32/32 [==============================] - 0s 2ms/step - loss: 9573679104.0000\n",
      "Epoch 23/600\n",
      "32/32 [==============================] - 0s 2ms/step - loss: 7955698688.0000\n",
      "Epoch 24/600\n",
      "32/32 [==============================] - 0s 2ms/step - loss: 6548739072.0000\n",
      "Epoch 25/600\n",
      "32/32 [==============================] - 0s 2ms/step - loss: 5380029440.0000\n",
      "Epoch 26/600\n",
      "32/32 [==============================] - 0s 2ms/step - loss: 4499304960.0000\n",
      "Epoch 27/600\n",
      "32/32 [==============================] - 0s 2ms/step - loss: 3870869504.0000\n",
      "Epoch 28/600\n",
      "32/32 [==============================] - 0s 2ms/step - loss: 3423190272.0000\n",
      "Epoch 29/600\n",
      "32/32 [==============================] - 0s 2ms/step - loss: 3100038656.0000\n",
      "Epoch 30/600\n",
      "32/32 [==============================] - 0s 2ms/step - loss: 2906946560.0000\n",
      "Epoch 31/600\n",
      "32/32 [==============================] - 0s 2ms/step - loss: 2782573056.0000\n",
      "Epoch 32/600\n",
      "32/32 [==============================] - 0s 2ms/step - loss: 2670105856.0000\n",
      "Epoch 33/600\n",
      "32/32 [==============================] - 0s 2ms/step - loss: 2625457664.0000\n",
      "Epoch 34/600\n",
      "32/32 [==============================] - 0s 2ms/step - loss: 2539917568.0000\n",
      "Epoch 35/600\n",
      "32/32 [==============================] - 0s 2ms/step - loss: 2496130560.0000\n",
      "Epoch 36/600\n",
      "32/32 [==============================] - 0s 2ms/step - loss: 2456654080.0000\n",
      "Epoch 37/600\n",
      "32/32 [==============================] - 0s 2ms/step - loss: 2431078656.0000\n",
      "Epoch 38/600\n",
      "32/32 [==============================] - 0s 2ms/step - loss: 2372814336.0000\n",
      "Epoch 39/600\n",
      "32/32 [==============================] - 0s 2ms/step - loss: 2339828480.0000\n",
      "Epoch 40/600\n",
      "32/32 [==============================] - 0s 2ms/step - loss: 2304247552.0000\n",
      "Epoch 41/600\n",
      "32/32 [==============================] - 0s 2ms/step - loss: 2284931328.0000\n",
      "Epoch 42/600\n",
      "32/32 [==============================] - 0s 2ms/step - loss: 2280005632.0000\n",
      "Epoch 43/600\n",
      "32/32 [==============================] - 0s 2ms/step - loss: 2220001280.0000\n",
      "Epoch 44/600\n",
      "32/32 [==============================] - 0s 2ms/step - loss: 2242672384.0000\n",
      "Epoch 45/600\n",
      "32/32 [==============================] - 0s 2ms/step - loss: 2203667456.0000\n",
      "Epoch 46/600\n",
      "32/32 [==============================] - 0s 2ms/step - loss: 2177154560.0000\n",
      "Epoch 47/600\n",
      "32/32 [==============================] - 0s 2ms/step - loss: 2152442624.0000\n",
      "Epoch 48/600\n",
      "32/32 [==============================] - 0s 2ms/step - loss: 2132503680.0000\n",
      "Epoch 49/600\n",
      "32/32 [==============================] - 0s 2ms/step - loss: 2165663232.0000\n",
      "Epoch 50/600\n",
      "32/32 [==============================] - 0s 2ms/step - loss: 2201729280.0000\n",
      "Epoch 51/600\n",
      "32/32 [==============================] - 0s 2ms/step - loss: 2199799808.0000\n",
      "Epoch 52/600\n",
      "32/32 [==============================] - 0s 2ms/step - loss: 2133036672.0000\n",
      "Epoch 53/600\n",
      "32/32 [==============================] - 0s 2ms/step - loss: 2080194688.0000\n",
      "Epoch 54/600\n",
      "32/32 [==============================] - 0s 2ms/step - loss: 2048789888.0000\n",
      "Epoch 55/600\n",
      "32/32 [==============================] - 0s 2ms/step - loss: 2023830656.0000\n",
      "Epoch 56/600\n",
      "32/32 [==============================] - 0s 2ms/step - loss: 2019820672.0000\n",
      "Epoch 57/600\n",
      "32/32 [==============================] - 0s 2ms/step - loss: 1987047040.0000\n",
      "Epoch 58/600\n",
      "32/32 [==============================] - 0s 2ms/step - loss: 1987225472.0000\n",
      "Epoch 59/600\n",
      "32/32 [==============================] - 0s 2ms/step - loss: 1964137344.0000\n",
      "Epoch 60/600\n",
      "32/32 [==============================] - 0s 2ms/step - loss: 1958965888.0000\n",
      "Epoch 61/600\n",
      "32/32 [==============================] - 0s 2ms/step - loss: 1940032896.0000\n",
      "Epoch 62/600\n",
      "32/32 [==============================] - 0s 2ms/step - loss: 1928208000.0000\n",
      "Epoch 63/600\n",
      "32/32 [==============================] - 0s 2ms/step - loss: 1926940928.0000\n",
      "Epoch 64/600\n",
      "32/32 [==============================] - 0s 2ms/step - loss: 1905058176.0000\n",
      "Epoch 65/600\n",
      "32/32 [==============================] - 0s 2ms/step - loss: 1890043520.0000\n",
      "Epoch 66/600\n",
      "32/32 [==============================] - 0s 2ms/step - loss: 1882413056.0000\n",
      "Epoch 67/600\n",
      "32/32 [==============================] - 0s 2ms/step - loss: 1866056320.0000\n",
      "Epoch 68/600\n",
      "32/32 [==============================] - 0s 2ms/step - loss: 1854522624.0000\n",
      "Epoch 69/600\n",
      "32/32 [==============================] - 0s 2ms/step - loss: 1859713280.0000\n",
      "Epoch 70/600\n",
      "32/32 [==============================] - 0s 2ms/step - loss: 1833978240.0000\n",
      "Epoch 71/600\n",
      "32/32 [==============================] - 0s 2ms/step - loss: 1829070976.0000\n",
      "Epoch 72/600\n",
      "32/32 [==============================] - 0s 2ms/step - loss: 1816630016.0000\n",
      "Epoch 73/600\n",
      "32/32 [==============================] - 0s 2ms/step - loss: 1799039616.0000\n",
      "Epoch 74/600\n",
      "32/32 [==============================] - 0s 2ms/step - loss: 1782085376.0000\n",
      "Epoch 75/600\n",
      "32/32 [==============================] - 0s 2ms/step - loss: 1807505536.0000\n",
      "Epoch 76/600\n",
      "32/32 [==============================] - 0s 2ms/step - loss: 1766629888.0000\n",
      "Epoch 77/600\n",
      "32/32 [==============================] - 0s 2ms/step - loss: 1777668096.0000\n",
      "Epoch 78/600\n",
      "32/32 [==============================] - 0s 2ms/step - loss: 1758657664.0000\n",
      "Epoch 79/600\n",
      "32/32 [==============================] - 0s 2ms/step - loss: 1738247680.0000\n",
      "Epoch 80/600\n",
      "32/32 [==============================] - 0s 2ms/step - loss: 1743858816.0000\n",
      "Epoch 81/600\n",
      "32/32 [==============================] - 0s 3ms/step - loss: 1725409280.0000\n",
      "Epoch 82/600\n",
      "32/32 [==============================] - 0s 2ms/step - loss: 1723749632.0000\n",
      "Epoch 83/600\n",
      "32/32 [==============================] - 0s 2ms/step - loss: 1729530880.0000\n",
      "Epoch 84/600\n",
      "32/32 [==============================] - 0s 2ms/step - loss: 1706991872.0000\n",
      "Epoch 85/600\n",
      "32/32 [==============================] - 0s 2ms/step - loss: 1684430336.0000\n",
      "Epoch 86/600\n",
      "32/32 [==============================] - 0s 2ms/step - loss: 1686122368.0000\n",
      "Epoch 87/600\n",
      "32/32 [==============================] - 0s 2ms/step - loss: 1683000704.0000\n",
      "Epoch 88/600\n",
      "32/32 [==============================] - 0s 2ms/step - loss: 1661583744.0000\n",
      "Epoch 89/600\n",
      "32/32 [==============================] - 0s 2ms/step - loss: 1657468288.0000\n",
      "Epoch 90/600\n",
      "32/32 [==============================] - 0s 2ms/step - loss: 1646729472.0000\n",
      "Epoch 91/600\n"
     ]
    },
    {
     "name": "stdout",
     "output_type": "stream",
     "text": [
      "32/32 [==============================] - 0s 2ms/step - loss: 1636814720.0000\n",
      "Epoch 92/600\n",
      "32/32 [==============================] - 0s 2ms/step - loss: 1645412224.0000\n",
      "Epoch 93/600\n",
      "32/32 [==============================] - 0s 2ms/step - loss: 1633009792.0000\n",
      "Epoch 94/600\n",
      "32/32 [==============================] - 0s 2ms/step - loss: 1624494848.0000\n",
      "Epoch 95/600\n",
      "32/32 [==============================] - 0s 2ms/step - loss: 1622836096.0000\n",
      "Epoch 96/600\n",
      "32/32 [==============================] - 0s 2ms/step - loss: 1592832768.0000\n",
      "Epoch 97/600\n",
      "32/32 [==============================] - 0s 2ms/step - loss: 1591109376.0000\n",
      "Epoch 98/600\n",
      "32/32 [==============================] - 0s 2ms/step - loss: 1579471744.0000\n",
      "Epoch 99/600\n",
      "32/32 [==============================] - 0s 2ms/step - loss: 1570637568.0000\n",
      "Epoch 100/600\n",
      "32/32 [==============================] - 0s 2ms/step - loss: 1582931072.0000\n",
      "Epoch 101/600\n",
      "32/32 [==============================] - 0s 2ms/step - loss: 1566362496.0000\n",
      "Epoch 102/600\n",
      "32/32 [==============================] - 0s 2ms/step - loss: 1553974656.0000\n",
      "Epoch 103/600\n",
      "32/32 [==============================] - 0s 2ms/step - loss: 1556736768.0000\n",
      "Epoch 104/600\n",
      "32/32 [==============================] - 0s 2ms/step - loss: 1544214912.0000\n",
      "Epoch 105/600\n",
      "32/32 [==============================] - 0s 2ms/step - loss: 1512243584.0000\n",
      "Epoch 106/600\n",
      "32/32 [==============================] - 0s 2ms/step - loss: 1533930112.0000\n",
      "Epoch 107/600\n",
      "32/32 [==============================] - 0s 2ms/step - loss: 1534721536.0000\n",
      "Epoch 108/600\n",
      "32/32 [==============================] - 0s 2ms/step - loss: 1510275712.0000\n",
      "Epoch 109/600\n",
      "32/32 [==============================] - 0s 2ms/step - loss: 1496781056.0000\n",
      "Epoch 110/600\n",
      "32/32 [==============================] - 0s 2ms/step - loss: 1487712768.0000\n",
      "Epoch 111/600\n",
      "32/32 [==============================] - 0s 2ms/step - loss: 1498791424.0000\n",
      "Epoch 112/600\n",
      "32/32 [==============================] - 0s 2ms/step - loss: 1477630464.0000\n",
      "Epoch 113/600\n",
      "32/32 [==============================] - 0s 2ms/step - loss: 1473333888.0000\n",
      "Epoch 114/600\n",
      "32/32 [==============================] - 0s 2ms/step - loss: 1473363584.0000\n",
      "Epoch 115/600\n",
      "32/32 [==============================] - 0s 2ms/step - loss: 1472931712.0000\n",
      "Epoch 116/600\n",
      "32/32 [==============================] - 0s 2ms/step - loss: 1466668800.0000\n",
      "Epoch 117/600\n",
      "32/32 [==============================] - 0s 2ms/step - loss: 1460487424.0000\n",
      "Epoch 118/600\n",
      "32/32 [==============================] - 0s 2ms/step - loss: 1448722304.0000\n",
      "Epoch 119/600\n",
      "32/32 [==============================] - 0s 2ms/step - loss: 1430503424.0000\n",
      "Epoch 120/600\n",
      "32/32 [==============================] - 0s 2ms/step - loss: 1429933696.0000\n",
      "Epoch 121/600\n",
      "32/32 [==============================] - 0s 2ms/step - loss: 1429278848.0000\n",
      "Epoch 122/600\n",
      "32/32 [==============================] - 0s 2ms/step - loss: 1419750144.0000\n",
      "Epoch 123/600\n",
      "32/32 [==============================] - 0s 2ms/step - loss: 1414087808.0000\n",
      "Epoch 124/600\n",
      "32/32 [==============================] - 0s 2ms/step - loss: 1398744192.0000\n",
      "Epoch 125/600\n",
      "32/32 [==============================] - 0s 2ms/step - loss: 1412280576.0000\n",
      "Epoch 126/600\n",
      " 1/32 [..............................] - ETA: 0s - loss: 1460621440.0000\n",
      "Epoch 126: saving model to checkpoints\\weights.126.hdf5\n",
      "32/32 [==============================] - 0s 2ms/step - loss: 1396935808.0000\n",
      "Epoch 127/600\n",
      "32/32 [==============================] - 0s 2ms/step - loss: 1403351680.0000\n",
      "Epoch 128/600\n",
      "32/32 [==============================] - 0s 2ms/step - loss: 1381226368.0000\n",
      "Epoch 129/600\n",
      "32/32 [==============================] - 0s 2ms/step - loss: 1367289472.0000\n",
      "Epoch 130/600\n",
      "32/32 [==============================] - 0s 2ms/step - loss: 1369338112.0000\n",
      "Epoch 131/600\n",
      "32/32 [==============================] - 0s 2ms/step - loss: 1355299712.0000\n",
      "Epoch 132/600\n",
      "32/32 [==============================] - 0s 2ms/step - loss: 1366986880.0000\n",
      "Epoch 133/600\n",
      "32/32 [==============================] - 0s 2ms/step - loss: 1358643712.0000\n",
      "Epoch 134/600\n",
      "32/32 [==============================] - 0s 2ms/step - loss: 1340805248.0000\n",
      "Epoch 135/600\n",
      "32/32 [==============================] - 0s 2ms/step - loss: 1340405120.0000\n",
      "Epoch 136/600\n",
      "32/32 [==============================] - 0s 2ms/step - loss: 1341636224.0000\n",
      "Epoch 137/600\n",
      "32/32 [==============================] - 0s 2ms/step - loss: 1330809856.0000\n",
      "Epoch 138/600\n",
      "32/32 [==============================] - 0s 2ms/step - loss: 1324114816.0000\n",
      "Epoch 139/600\n",
      "32/32 [==============================] - 0s 2ms/step - loss: 1310241920.0000\n",
      "Epoch 140/600\n",
      "32/32 [==============================] - 0s 2ms/step - loss: 1328878848.0000\n",
      "Epoch 141/600\n",
      "32/32 [==============================] - 0s 2ms/step - loss: 1471282432.0000\n",
      "Epoch 142/600\n",
      "32/32 [==============================] - 0s 2ms/step - loss: 1453154560.0000\n",
      "Epoch 143/600\n",
      "32/32 [==============================] - 0s 2ms/step - loss: 1355109760.0000\n",
      "Epoch 144/600\n",
      "32/32 [==============================] - 0s 2ms/step - loss: 1322719232.0000\n",
      "Epoch 145/600\n",
      "32/32 [==============================] - 0s 2ms/step - loss: 1295866368.0000\n",
      "Epoch 146/600\n",
      "32/32 [==============================] - 0s 2ms/step - loss: 1284487168.0000\n",
      "Epoch 147/600\n",
      "32/32 [==============================] - 0s 2ms/step - loss: 1279993088.0000\n",
      "Epoch 148/600\n",
      "32/32 [==============================] - 0s 2ms/step - loss: 1263218816.0000\n",
      "Epoch 149/600\n",
      "32/32 [==============================] - 0s 2ms/step - loss: 1266602880.0000\n",
      "Epoch 150/600\n",
      "32/32 [==============================] - 0s 2ms/step - loss: 1270416768.0000\n",
      "Epoch 151/600\n",
      "32/32 [==============================] - 0s 2ms/step - loss: 1264059648.0000\n",
      "Epoch 152/600\n",
      "32/32 [==============================] - 0s 2ms/step - loss: 1240913920.0000\n",
      "Epoch 153/600\n",
      "32/32 [==============================] - 0s 2ms/step - loss: 1253714304.0000\n",
      "Epoch 154/600\n",
      "32/32 [==============================] - 0s 2ms/step - loss: 1254059136.0000\n",
      "Epoch 155/600\n",
      "32/32 [==============================] - 0s 2ms/step - loss: 1240153344.0000\n",
      "Epoch 156/600\n",
      "32/32 [==============================] - 0s 2ms/step - loss: 1240665984.0000\n",
      "Epoch 157/600\n",
      "32/32 [==============================] - 0s 2ms/step - loss: 1249975296.0000\n",
      "Epoch 158/600\n",
      "32/32 [==============================] - 0s 2ms/step - loss: 1211648512.0000\n",
      "Epoch 159/600\n",
      "32/32 [==============================] - 0s 2ms/step - loss: 1248657536.0000\n",
      "Epoch 160/600\n",
      "32/32 [==============================] - 0s 2ms/step - loss: 1228064384.0000\n",
      "Epoch 161/600\n",
      "32/32 [==============================] - 0s 2ms/step - loss: 1220740864.0000\n",
      "Epoch 162/600\n",
      "32/32 [==============================] - 0s 2ms/step - loss: 1219130752.0000\n",
      "Epoch 163/600\n",
      "32/32 [==============================] - 0s 2ms/step - loss: 1205034880.0000\n",
      "Epoch 164/600\n",
      "32/32 [==============================] - 0s 2ms/step - loss: 1233935488.0000\n",
      "Epoch 165/600\n",
      "32/32 [==============================] - 0s 2ms/step - loss: 1211557248.0000\n",
      "Epoch 166/600\n",
      "32/32 [==============================] - 0s 2ms/step - loss: 1183224064.0000\n",
      "Epoch 167/600\n",
      "32/32 [==============================] - 0s 2ms/step - loss: 1183649408.0000\n",
      "Epoch 168/600\n",
      "32/32 [==============================] - 0s 2ms/step - loss: 1175178752.0000\n",
      "Epoch 169/600\n",
      "32/32 [==============================] - 0s 2ms/step - loss: 1178319488.0000\n",
      "Epoch 170/600\n",
      "32/32 [==============================] - 0s 2ms/step - loss: 1179469184.0000\n",
      "Epoch 171/600\n",
      "32/32 [==============================] - 0s 2ms/step - loss: 1163275520.0000\n",
      "Epoch 172/600\n",
      "32/32 [==============================] - 0s 2ms/step - loss: 1173018496.0000\n",
      "Epoch 173/600\n",
      "32/32 [==============================] - 0s 2ms/step - loss: 1173853568.0000\n",
      "Epoch 174/600\n",
      "32/32 [==============================] - 0s 2ms/step - loss: 1162696960.0000\n",
      "Epoch 175/600\n",
      "32/32 [==============================] - 0s 2ms/step - loss: 1152667008.0000\n",
      "Epoch 176/600\n",
      "32/32 [==============================] - 0s 2ms/step - loss: 1234002560.0000\n",
      "Epoch 177/600\n",
      "32/32 [==============================] - 0s 2ms/step - loss: 1165305216.0000\n",
      "Epoch 178/600\n",
      "32/32 [==============================] - 0s 2ms/step - loss: 1143741440.0000\n",
      "Epoch 179/600\n"
     ]
    },
    {
     "name": "stdout",
     "output_type": "stream",
     "text": [
      "32/32 [==============================] - 0s 2ms/step - loss: 1141433088.0000\n",
      "Epoch 180/600\n",
      "32/32 [==============================] - 0s 2ms/step - loss: 1141805568.0000\n",
      "Epoch 181/600\n",
      "32/32 [==============================] - 0s 2ms/step - loss: 1134459264.0000\n",
      "Epoch 182/600\n",
      "32/32 [==============================] - 0s 2ms/step - loss: 1121356672.0000\n",
      "Epoch 183/600\n",
      "32/32 [==============================] - 0s 2ms/step - loss: 1119870464.0000\n",
      "Epoch 184/600\n",
      "32/32 [==============================] - 0s 2ms/step - loss: 1110493056.0000\n",
      "Epoch 185/600\n",
      "32/32 [==============================] - 0s 2ms/step - loss: 1118161536.0000\n",
      "Epoch 186/600\n",
      "32/32 [==============================] - 0s 2ms/step - loss: 1115387648.0000\n",
      "Epoch 187/600\n",
      "32/32 [==============================] - 0s 2ms/step - loss: 1101277440.0000\n",
      "Epoch 188/600\n",
      "32/32 [==============================] - 0s 2ms/step - loss: 1108376960.0000\n",
      "Epoch 189/600\n",
      "32/32 [==============================] - 0s 2ms/step - loss: 1100147072.0000\n",
      "Epoch 190/600\n",
      "32/32 [==============================] - 0s 2ms/step - loss: 1094213504.0000\n",
      "Epoch 191/600\n",
      "32/32 [==============================] - 0s 2ms/step - loss: 1086707840.0000\n",
      "Epoch 192/600\n",
      "32/32 [==============================] - 0s 2ms/step - loss: 1099284096.0000\n",
      "Epoch 193/600\n",
      "32/32 [==============================] - 0s 2ms/step - loss: 1089330944.0000\n",
      "Epoch 194/600\n",
      "32/32 [==============================] - 0s 2ms/step - loss: 1087024640.0000\n",
      "Epoch 195/600\n",
      "32/32 [==============================] - 0s 2ms/step - loss: 1084188544.0000\n",
      "Epoch 196/600\n",
      "32/32 [==============================] - 0s 3ms/step - loss: 1075797248.0000\n",
      "Epoch 197/600\n",
      "32/32 [==============================] - 0s 3ms/step - loss: 1066646464.0000\n",
      "Epoch 198/600\n",
      "32/32 [==============================] - 0s 2ms/step - loss: 1065353024.0000\n",
      "Epoch 199/600\n",
      "32/32 [==============================] - 0s 2ms/step - loss: 1062664000.0000\n",
      "Epoch 200/600\n",
      "32/32 [==============================] - 0s 2ms/step - loss: 1058062016.0000\n",
      "Epoch 201/600\n",
      "32/32 [==============================] - 0s 2ms/step - loss: 1058100160.0000\n",
      "Epoch 202/600\n",
      "32/32 [==============================] - 0s 2ms/step - loss: 1065575360.0000\n",
      "Epoch 203/600\n",
      "32/32 [==============================] - 0s 2ms/step - loss: 1042238976.0000\n",
      "Epoch 204/600\n",
      "32/32 [==============================] - 0s 2ms/step - loss: 1052014016.0000\n",
      "Epoch 205/600\n",
      "32/32 [==============================] - 0s 2ms/step - loss: 1047874048.0000\n",
      "Epoch 206/600\n",
      "32/32 [==============================] - 0s 2ms/step - loss: 1035912000.0000\n",
      "Epoch 207/600\n",
      "32/32 [==============================] - 0s 2ms/step - loss: 1030888576.0000\n",
      "Epoch 208/600\n",
      "32/32 [==============================] - 0s 2ms/step - loss: 1036899264.0000\n",
      "Epoch 209/600\n",
      "32/32 [==============================] - 0s 2ms/step - loss: 1022892672.0000\n",
      "Epoch 210/600\n",
      "32/32 [==============================] - 0s 2ms/step - loss: 1029927680.0000\n",
      "Epoch 211/600\n",
      "32/32 [==============================] - 0s 2ms/step - loss: 1022738112.0000\n",
      "Epoch 212/600\n",
      "32/32 [==============================] - 0s 2ms/step - loss: 1042213440.0000\n",
      "Epoch 213/600\n",
      "32/32 [==============================] - 0s 2ms/step - loss: 1020190592.0000\n",
      "Epoch 214/600\n",
      "32/32 [==============================] - 0s 2ms/step - loss: 1003981376.0000\n",
      "Epoch 215/600\n",
      "32/32 [==============================] - 0s 2ms/step - loss: 1012446784.0000\n",
      "Epoch 216/600\n",
      "32/32 [==============================] - 0s 2ms/step - loss: 999099520.0000\n",
      "Epoch 217/600\n",
      "32/32 [==============================] - 0s 2ms/step - loss: 995697600.0000\n",
      "Epoch 218/600\n",
      "32/32 [==============================] - 0s 2ms/step - loss: 1012497216.0000\n",
      "Epoch 219/600\n",
      "32/32 [==============================] - 0s 2ms/step - loss: 983628992.0000\n",
      "Epoch 220/600\n",
      "32/32 [==============================] - 0s 2ms/step - loss: 1020603456.0000\n",
      "Epoch 221/600\n",
      "32/32 [==============================] - 0s 2ms/step - loss: 986615040.0000\n",
      "Epoch 222/600\n",
      "32/32 [==============================] - 0s 2ms/step - loss: 990890624.0000\n",
      "Epoch 223/600\n",
      "32/32 [==============================] - 0s 2ms/step - loss: 989982592.0000\n",
      "Epoch 224/600\n",
      "32/32 [==============================] - 0s 2ms/step - loss: 979062080.0000\n",
      "Epoch 225/600\n",
      "32/32 [==============================] - 0s 2ms/step - loss: 982874816.0000\n",
      "Epoch 226/600\n",
      "32/32 [==============================] - 0s 2ms/step - loss: 970672064.0000\n",
      "Epoch 227/600\n",
      "32/32 [==============================] - 0s 2ms/step - loss: 965809728.0000\n",
      "Epoch 228/600\n",
      "32/32 [==============================] - 0s 2ms/step - loss: 970521920.0000\n",
      "Epoch 229/600\n",
      "32/32 [==============================] - 0s 2ms/step - loss: 964358208.0000\n",
      "Epoch 230/600\n",
      "32/32 [==============================] - 0s 2ms/step - loss: 962861056.0000\n",
      "Epoch 231/600\n",
      "32/32 [==============================] - 0s 2ms/step - loss: 955623040.0000\n",
      "Epoch 232/600\n",
      "32/32 [==============================] - 0s 2ms/step - loss: 956871616.0000\n",
      "Epoch 233/600\n",
      "32/32 [==============================] - 0s 2ms/step - loss: 944176512.0000\n",
      "Epoch 234/600\n",
      "32/32 [==============================] - 0s 2ms/step - loss: 955648128.0000\n",
      "Epoch 235/600\n",
      "32/32 [==============================] - 0s 2ms/step - loss: 964004992.0000\n",
      "Epoch 236/600\n",
      "32/32 [==============================] - 0s 2ms/step - loss: 942869184.0000\n",
      "Epoch 237/600\n",
      "32/32 [==============================] - 0s 2ms/step - loss: 935161856.0000\n",
      "Epoch 238/600\n",
      "32/32 [==============================] - 0s 2ms/step - loss: 937823168.0000\n",
      "Epoch 239/600\n",
      "32/32 [==============================] - 0s 3ms/step - loss: 939137152.0000\n",
      "Epoch 240/600\n",
      "32/32 [==============================] - 0s 2ms/step - loss: 931430336.0000\n",
      "Epoch 241/600\n",
      "32/32 [==============================] - 0s 2ms/step - loss: 923519168.0000\n",
      "Epoch 242/600\n",
      "32/32 [==============================] - 0s 2ms/step - loss: 923115712.0000\n",
      "Epoch 243/600\n",
      "32/32 [==============================] - 0s 2ms/step - loss: 916591232.0000\n",
      "Epoch 244/600\n",
      "32/32 [==============================] - 0s 2ms/step - loss: 923311744.0000\n",
      "Epoch 245/600\n",
      "32/32 [==============================] - 0s 2ms/step - loss: 911894656.0000\n",
      "Epoch 246/600\n",
      "32/32 [==============================] - 0s 2ms/step - loss: 915768960.0000\n",
      "Epoch 247/600\n",
      "32/32 [==============================] - 0s 2ms/step - loss: 924530816.0000\n",
      "Epoch 248/600\n",
      "32/32 [==============================] - 0s 2ms/step - loss: 923076544.0000\n",
      "Epoch 249/600\n",
      "32/32 [==============================] - 0s 3ms/step - loss: 901842176.0000\n",
      "Epoch 250/600\n",
      "32/32 [==============================] - 0s 2ms/step - loss: 920122880.0000\n",
      "Epoch 251/600\n",
      "32/32 [==============================] - 0s 2ms/step - loss: 923342016.0000\n",
      "Epoch 252/600\n",
      " 1/32 [..............................] - ETA: 0s - loss: 631154560.0000\n",
      "Epoch 252: saving model to checkpoints\\weights.252.hdf5\n",
      "32/32 [==============================] - 0s 2ms/step - loss: 902119680.0000\n",
      "Epoch 253/600\n",
      "32/32 [==============================] - 0s 2ms/step - loss: 895539584.0000\n",
      "Epoch 254/600\n",
      "32/32 [==============================] - 0s 2ms/step - loss: 910725760.0000\n",
      "Epoch 255/600\n",
      "32/32 [==============================] - 0s 2ms/step - loss: 886607168.0000\n",
      "Epoch 256/600\n",
      "32/32 [==============================] - 0s 2ms/step - loss: 882440256.0000\n",
      "Epoch 257/600\n",
      "32/32 [==============================] - 0s 2ms/step - loss: 886236224.0000\n",
      "Epoch 258/600\n",
      "32/32 [==============================] - 0s 2ms/step - loss: 887941056.0000\n",
      "Epoch 259/600\n",
      "32/32 [==============================] - 0s 2ms/step - loss: 878364928.0000\n",
      "Epoch 260/600\n",
      "32/32 [==============================] - 0s 2ms/step - loss: 894866240.0000\n",
      "Epoch 261/600\n",
      "32/32 [==============================] - 0s 2ms/step - loss: 875727744.0000\n",
      "Epoch 262/600\n",
      "32/32 [==============================] - 0s 2ms/step - loss: 888260416.0000\n",
      "Epoch 263/600\n",
      "32/32 [==============================] - 0s 2ms/step - loss: 872785408.0000\n",
      "Epoch 264/600\n",
      "32/32 [==============================] - 0s 2ms/step - loss: 875562432.0000\n",
      "Epoch 265/600\n",
      "32/32 [==============================] - 0s 2ms/step - loss: 855728064.0000\n",
      "Epoch 266/600\n",
      "32/32 [==============================] - 0s 2ms/step - loss: 854091008.0000\n",
      "Epoch 267/600\n",
      "32/32 [==============================] - 0s 2ms/step - loss: 858634304.0000\n",
      "Epoch 268/600\n"
     ]
    },
    {
     "name": "stdout",
     "output_type": "stream",
     "text": [
      "32/32 [==============================] - 0s 2ms/step - loss: 851036352.0000\n",
      "Epoch 269/600\n",
      "32/32 [==============================] - 0s 2ms/step - loss: 846261888.0000\n",
      "Epoch 270/600\n",
      "32/32 [==============================] - 0s 2ms/step - loss: 856320960.0000\n",
      "Epoch 271/600\n",
      "32/32 [==============================] - 0s 2ms/step - loss: 850535040.0000\n",
      "Epoch 272/600\n",
      "32/32 [==============================] - 0s 2ms/step - loss: 844723968.0000\n",
      "Epoch 273/600\n",
      "32/32 [==============================] - 0s 2ms/step - loss: 835337600.0000\n",
      "Epoch 274/600\n",
      "32/32 [==============================] - 0s 2ms/step - loss: 851250752.0000\n",
      "Epoch 275/600\n",
      "32/32 [==============================] - 0s 2ms/step - loss: 833105088.0000\n",
      "Epoch 276/600\n",
      "32/32 [==============================] - 0s 2ms/step - loss: 831451264.0000\n",
      "Epoch 277/600\n",
      "32/32 [==============================] - 0s 2ms/step - loss: 832727872.0000\n",
      "Epoch 278/600\n",
      "32/32 [==============================] - 0s 2ms/step - loss: 877994624.0000\n",
      "Epoch 279/600\n",
      "32/32 [==============================] - 0s 2ms/step - loss: 858380416.0000\n",
      "Epoch 280/600\n",
      "32/32 [==============================] - 0s 2ms/step - loss: 858138944.0000\n",
      "Epoch 281/600\n",
      "32/32 [==============================] - 0s 2ms/step - loss: 831409472.0000\n",
      "Epoch 282/600\n",
      "32/32 [==============================] - 0s 2ms/step - loss: 833522048.0000\n",
      "Epoch 283/600\n",
      "32/32 [==============================] - 0s 2ms/step - loss: 820214080.0000\n",
      "Epoch 284/600\n",
      "32/32 [==============================] - 0s 2ms/step - loss: 808556224.0000\n",
      "Epoch 285/600\n",
      "32/32 [==============================] - 0s 2ms/step - loss: 835996928.0000\n",
      "Epoch 286/600\n",
      "32/32 [==============================] - 0s 2ms/step - loss: 822913280.0000\n",
      "Epoch 287/600\n",
      "32/32 [==============================] - 0s 2ms/step - loss: 812476160.0000\n",
      "Epoch 288/600\n",
      "32/32 [==============================] - 0s 2ms/step - loss: 820692800.0000\n",
      "Epoch 289/600\n",
      "32/32 [==============================] - 0s 2ms/step - loss: 794758272.0000\n",
      "Epoch 290/600\n",
      "32/32 [==============================] - 0s 2ms/step - loss: 806917504.0000\n",
      "Epoch 291/600\n",
      "32/32 [==============================] - 0s 2ms/step - loss: 807511616.0000\n",
      "Epoch 292/600\n",
      "32/32 [==============================] - 0s 2ms/step - loss: 795736704.0000\n",
      "Epoch 293/600\n",
      "32/32 [==============================] - 0s 2ms/step - loss: 799688384.0000\n",
      "Epoch 294/600\n",
      "32/32 [==============================] - 0s 2ms/step - loss: 799860096.0000\n",
      "Epoch 295/600\n",
      "32/32 [==============================] - 0s 2ms/step - loss: 790022400.0000\n",
      "Epoch 296/600\n",
      "32/32 [==============================] - 0s 2ms/step - loss: 789049984.0000\n",
      "Epoch 297/600\n",
      "32/32 [==============================] - 0s 2ms/step - loss: 797958080.0000\n",
      "Epoch 298/600\n",
      "32/32 [==============================] - 0s 2ms/step - loss: 785833344.0000\n",
      "Epoch 299/600\n",
      "32/32 [==============================] - 0s 2ms/step - loss: 780854784.0000\n",
      "Epoch 300/600\n",
      "32/32 [==============================] - 0s 2ms/step - loss: 814627648.0000\n",
      "Epoch 301/600\n",
      "32/32 [==============================] - 0s 2ms/step - loss: 787622720.0000\n",
      "Epoch 302/600\n",
      "32/32 [==============================] - 0s 2ms/step - loss: 782283776.0000\n",
      "Epoch 303/600\n",
      "32/32 [==============================] - 0s 2ms/step - loss: 783382144.0000\n",
      "Epoch 304/600\n",
      "32/32 [==============================] - 0s 2ms/step - loss: 775135168.0000\n",
      "Epoch 305/600\n",
      "32/32 [==============================] - 0s 2ms/step - loss: 771758976.0000\n",
      "Epoch 306/600\n",
      "32/32 [==============================] - 0s 2ms/step - loss: 767553600.0000\n",
      "Epoch 307/600\n",
      "32/32 [==============================] - 0s 2ms/step - loss: 771813248.0000\n",
      "Epoch 308/600\n",
      "32/32 [==============================] - 0s 2ms/step - loss: 768193728.0000\n",
      "Epoch 309/600\n",
      "32/32 [==============================] - 0s 2ms/step - loss: 756766976.0000\n",
      "Epoch 310/600\n",
      "32/32 [==============================] - 0s 2ms/step - loss: 766153536.0000\n",
      "Epoch 311/600\n",
      "32/32 [==============================] - 0s 2ms/step - loss: 760307008.0000\n",
      "Epoch 312/600\n",
      "32/32 [==============================] - 0s 2ms/step - loss: 759638400.0000\n",
      "Epoch 313/600\n",
      "32/32 [==============================] - 0s 2ms/step - loss: 772932416.0000\n",
      "Epoch 314/600\n",
      "32/32 [==============================] - 0s 2ms/step - loss: 761500800.0000\n",
      "Epoch 315/600\n",
      "32/32 [==============================] - 0s 2ms/step - loss: 749024832.0000\n",
      "Epoch 316/600\n",
      "32/32 [==============================] - 0s 2ms/step - loss: 753085888.0000\n",
      "Epoch 317/600\n",
      "32/32 [==============================] - 0s 2ms/step - loss: 753566400.0000\n",
      "Epoch 318/600\n",
      "32/32 [==============================] - 0s 2ms/step - loss: 761121536.0000\n",
      "Epoch 319/600\n",
      "32/32 [==============================] - 0s 2ms/step - loss: 871191360.0000\n",
      "Epoch 320/600\n",
      "32/32 [==============================] - 0s 2ms/step - loss: 760975104.0000\n",
      "Epoch 321/600\n",
      "32/32 [==============================] - 0s 2ms/step - loss: 770796352.0000\n",
      "Epoch 322/600\n",
      "32/32 [==============================] - 0s 2ms/step - loss: 769672704.0000\n",
      "Epoch 323/600\n",
      "32/32 [==============================] - 0s 2ms/step - loss: 748746624.0000\n",
      "Epoch 324/600\n",
      "32/32 [==============================] - 0s 2ms/step - loss: 749311040.0000\n",
      "Epoch 325/600\n",
      "32/32 [==============================] - 0s 2ms/step - loss: 731505472.0000\n",
      "Epoch 326/600\n",
      "32/32 [==============================] - 0s 2ms/step - loss: 729797632.0000\n",
      "Epoch 327/600\n",
      "32/32 [==============================] - 0s 2ms/step - loss: 731883776.0000\n",
      "Epoch 328/600\n",
      "32/32 [==============================] - 0s 2ms/step - loss: 733812800.0000\n",
      "Epoch 329/600\n",
      "32/32 [==============================] - 0s 2ms/step - loss: 721369152.0000\n",
      "Epoch 330/600\n",
      "32/32 [==============================] - 0s 2ms/step - loss: 719597696.0000\n",
      "Epoch 331/600\n",
      "32/32 [==============================] - 0s 3ms/step - loss: 725214784.0000\n",
      "Epoch 332/600\n",
      "32/32 [==============================] - 0s 2ms/step - loss: 731021248.0000\n",
      "Epoch 333/600\n",
      "32/32 [==============================] - 0s 2ms/step - loss: 732269312.0000\n",
      "Epoch 334/600\n",
      "32/32 [==============================] - 0s 2ms/step - loss: 728392768.0000\n",
      "Epoch 335/600\n",
      "32/32 [==============================] - 0s 2ms/step - loss: 724115264.0000\n",
      "Epoch 336/600\n",
      "32/32 [==============================] - 0s 2ms/step - loss: 739148800.0000\n",
      "Epoch 337/600\n",
      "32/32 [==============================] - 0s 2ms/step - loss: 723515264.0000\n",
      "Epoch 338/600\n",
      "32/32 [==============================] - 0s 2ms/step - loss: 719420416.0000\n",
      "Epoch 339/600\n",
      "32/32 [==============================] - 0s 2ms/step - loss: 739550400.0000\n",
      "Epoch 340/600\n",
      "32/32 [==============================] - 0s 2ms/step - loss: 708601280.0000\n",
      "Epoch 341/600\n",
      "32/32 [==============================] - 0s 2ms/step - loss: 716967936.0000\n",
      "Epoch 342/600\n",
      "32/32 [==============================] - 0s 2ms/step - loss: 705714496.0000\n",
      "Epoch 343/600\n",
      "32/32 [==============================] - 0s 2ms/step - loss: 700137792.0000\n",
      "Epoch 344/600\n",
      "32/32 [==============================] - 0s 2ms/step - loss: 702810176.0000\n",
      "Epoch 345/600\n",
      "32/32 [==============================] - 0s 2ms/step - loss: 696540608.0000\n",
      "Epoch 346/600\n",
      "32/32 [==============================] - 0s 2ms/step - loss: 698113792.0000\n",
      "Epoch 347/600\n",
      "32/32 [==============================] - 0s 2ms/step - loss: 695257728.0000\n",
      "Epoch 348/600\n",
      "32/32 [==============================] - 0s 2ms/step - loss: 695251648.0000\n",
      "Epoch 349/600\n",
      "32/32 [==============================] - 0s 2ms/step - loss: 694285888.0000\n",
      "Epoch 350/600\n",
      "32/32 [==============================] - 0s 2ms/step - loss: 684675712.0000\n",
      "Epoch 351/600\n",
      "32/32 [==============================] - 0s 2ms/step - loss: 691892032.0000\n",
      "Epoch 352/600\n",
      "32/32 [==============================] - 0s 2ms/step - loss: 688609920.0000\n",
      "Epoch 353/600\n",
      "32/32 [==============================] - 0s 2ms/step - loss: 688497536.0000\n",
      "Epoch 354/600\n",
      "32/32 [==============================] - 0s 2ms/step - loss: 684491840.0000\n",
      "Epoch 355/600\n",
      "32/32 [==============================] - 0s 2ms/step - loss: 672985728.0000\n",
      "Epoch 356/600\n",
      "32/32 [==============================] - 0s 2ms/step - loss: 689121920.0000\n",
      "Epoch 357/600\n",
      "32/32 [==============================] - 0s 2ms/step - loss: 682878592.0000\n",
      "Epoch 358/600\n",
      "32/32 [==============================] - 0s 2ms/step - loss: 680547520.0000\n",
      "Epoch 359/600\n"
     ]
    },
    {
     "name": "stdout",
     "output_type": "stream",
     "text": [
      "32/32 [==============================] - 0s 2ms/step - loss: 677512128.0000\n",
      "Epoch 360/600\n",
      "32/32 [==============================] - 0s 2ms/step - loss: 679196800.0000\n",
      "Epoch 361/600\n",
      "32/32 [==============================] - 0s 2ms/step - loss: 671104832.0000\n",
      "Epoch 362/600\n",
      "32/32 [==============================] - 0s 2ms/step - loss: 667750528.0000\n",
      "Epoch 363/600\n",
      "32/32 [==============================] - 0s 2ms/step - loss: 664806336.0000\n",
      "Epoch 364/600\n",
      "32/32 [==============================] - 0s 2ms/step - loss: 668477056.0000\n",
      "Epoch 365/600\n",
      "32/32 [==============================] - 0s 2ms/step - loss: 673268096.0000\n",
      "Epoch 366/600\n",
      "32/32 [==============================] - 0s 2ms/step - loss: 662878400.0000\n",
      "Epoch 367/600\n",
      "32/32 [==============================] - 0s 3ms/step - loss: 664671488.0000\n",
      "Epoch 368/600\n",
      "32/32 [==============================] - 0s 2ms/step - loss: 664188480.0000\n",
      "Epoch 369/600\n",
      "32/32 [==============================] - 0s 2ms/step - loss: 657103872.0000\n",
      "Epoch 370/600\n",
      "32/32 [==============================] - 0s 2ms/step - loss: 664721344.0000\n",
      "Epoch 371/600\n",
      "32/32 [==============================] - 0s 2ms/step - loss: 660827456.0000\n",
      "Epoch 372/600\n",
      "32/32 [==============================] - 0s 2ms/step - loss: 648440256.0000\n",
      "Epoch 373/600\n",
      "32/32 [==============================] - 0s 2ms/step - loss: 652557376.0000\n",
      "Epoch 374/600\n",
      "32/32 [==============================] - 0s 2ms/step - loss: 652014208.0000\n",
      "Epoch 375/600\n",
      "32/32 [==============================] - 0s 2ms/step - loss: 649772992.0000\n",
      "Epoch 376/600\n",
      "32/32 [==============================] - 0s 2ms/step - loss: 650472768.0000\n",
      "Epoch 377/600\n",
      " 1/32 [..............................] - ETA: 0s - loss: 414261120.0000\n",
      "Epoch 377: saving model to checkpoints\\weights.377.hdf5\n",
      "32/32 [==============================] - 0s 2ms/step - loss: 642096128.0000\n",
      "Epoch 378/600\n",
      "32/32 [==============================] - 0s 2ms/step - loss: 654578112.0000\n",
      "Epoch 379/600\n",
      "32/32 [==============================] - 0s 2ms/step - loss: 655257536.0000\n",
      "Epoch 380/600\n",
      "32/32 [==============================] - 0s 2ms/step - loss: 649601408.0000\n",
      "Epoch 381/600\n",
      "32/32 [==============================] - 0s 2ms/step - loss: 643220928.0000\n",
      "Epoch 382/600\n",
      "32/32 [==============================] - 0s 2ms/step - loss: 639489024.0000\n",
      "Epoch 383/600\n",
      "32/32 [==============================] - 0s 2ms/step - loss: 648706944.0000\n",
      "Epoch 384/600\n",
      "32/32 [==============================] - 0s 2ms/step - loss: 652254912.0000\n",
      "Epoch 385/600\n",
      "32/32 [==============================] - 0s 2ms/step - loss: 647742400.0000\n",
      "Epoch 386/600\n",
      "32/32 [==============================] - 0s 2ms/step - loss: 641148608.0000\n",
      "Epoch 387/600\n",
      "32/32 [==============================] - 0s 2ms/step - loss: 632562176.0000\n",
      "Epoch 388/600\n",
      "32/32 [==============================] - 0s 2ms/step - loss: 661065216.0000\n",
      "Epoch 389/600\n",
      "32/32 [==============================] - 0s 2ms/step - loss: 637257664.0000\n",
      "Epoch 390/600\n",
      "32/32 [==============================] - 0s 2ms/step - loss: 634119488.0000\n",
      "Epoch 391/600\n",
      "32/32 [==============================] - 0s 2ms/step - loss: 625270400.0000\n",
      "Epoch 392/600\n",
      "32/32 [==============================] - 0s 2ms/step - loss: 633827776.0000\n",
      "Epoch 393/600\n",
      "32/32 [==============================] - 0s 2ms/step - loss: 634378880.0000\n",
      "Epoch 394/600\n",
      "32/32 [==============================] - 0s 2ms/step - loss: 640296320.0000\n",
      "Epoch 395/600\n",
      "32/32 [==============================] - 0s 2ms/step - loss: 635517312.0000\n",
      "Epoch 396/600\n",
      "32/32 [==============================] - 0s 2ms/step - loss: 625962560.0000\n",
      "Epoch 397/600\n",
      "32/32 [==============================] - 0s 2ms/step - loss: 632438912.0000\n",
      "Epoch 398/600\n",
      "32/32 [==============================] - 0s 2ms/step - loss: 622393728.0000\n",
      "Epoch 399/600\n",
      "32/32 [==============================] - 0s 2ms/step - loss: 627841152.0000\n",
      "Epoch 400/600\n",
      "32/32 [==============================] - 0s 2ms/step - loss: 612834688.0000\n",
      "Epoch 401/600\n",
      "32/32 [==============================] - 0s 2ms/step - loss: 613605952.0000\n",
      "Epoch 402/600\n",
      "32/32 [==============================] - 0s 2ms/step - loss: 618785344.0000\n",
      "Epoch 403/600\n",
      "32/32 [==============================] - 0s 2ms/step - loss: 615027264.0000\n",
      "Epoch 404/600\n",
      "32/32 [==============================] - 0s 2ms/step - loss: 615950016.0000\n",
      "Epoch 405/600\n",
      "32/32 [==============================] - 0s 2ms/step - loss: 644653248.0000\n",
      "Epoch 406/600\n",
      "32/32 [==============================] - 0s 2ms/step - loss: 643147776.0000\n",
      "Epoch 407/600\n",
      "32/32 [==============================] - 0s 2ms/step - loss: 607206272.0000\n",
      "Epoch 408/600\n",
      "32/32 [==============================] - 0s 2ms/step - loss: 606478592.0000\n",
      "Epoch 409/600\n",
      "32/32 [==============================] - 0s 2ms/step - loss: 608891520.0000\n",
      "Epoch 410/600\n",
      "32/32 [==============================] - 0s 2ms/step - loss: 602951808.0000\n",
      "Epoch 411/600\n",
      "32/32 [==============================] - 0s 2ms/step - loss: 604013120.0000\n",
      "Epoch 412/600\n",
      "32/32 [==============================] - 0s 2ms/step - loss: 596512192.0000\n",
      "Epoch 413/600\n",
      "32/32 [==============================] - 0s 2ms/step - loss: 596770176.0000\n",
      "Epoch 414/600\n",
      "32/32 [==============================] - 0s 2ms/step - loss: 598750848.0000\n",
      "Epoch 415/600\n",
      "32/32 [==============================] - 0s 2ms/step - loss: 615459008.0000\n",
      "Epoch 416/600\n",
      "32/32 [==============================] - 0s 2ms/step - loss: 596520512.0000\n",
      "Epoch 417/600\n",
      "32/32 [==============================] - 0s 2ms/step - loss: 600505152.0000\n",
      "Epoch 418/600\n",
      "32/32 [==============================] - 0s 2ms/step - loss: 593386624.0000\n",
      "Epoch 419/600\n",
      "32/32 [==============================] - 0s 2ms/step - loss: 589283648.0000\n",
      "Epoch 420/600\n",
      "32/32 [==============================] - 0s 2ms/step - loss: 587097088.0000\n",
      "Epoch 421/600\n",
      "32/32 [==============================] - 0s 2ms/step - loss: 589859008.0000\n",
      "Epoch 422/600\n",
      "32/32 [==============================] - 0s 2ms/step - loss: 587581184.0000\n",
      "Epoch 423/600\n",
      "32/32 [==============================] - 0s 2ms/step - loss: 589725760.0000\n",
      "Epoch 424/600\n",
      "32/32 [==============================] - 0s 2ms/step - loss: 589234112.0000\n",
      "Epoch 425/600\n",
      "32/32 [==============================] - 0s 2ms/step - loss: 594047552.0000\n",
      "Epoch 426/600\n",
      "32/32 [==============================] - 0s 2ms/step - loss: 588005056.0000\n",
      "Epoch 427/600\n",
      "32/32 [==============================] - 0s 2ms/step - loss: 580517696.0000\n",
      "Epoch 428/600\n",
      "32/32 [==============================] - 0s 2ms/step - loss: 579151040.0000\n",
      "Epoch 429/600\n",
      "32/32 [==============================] - 0s 2ms/step - loss: 580840384.0000\n",
      "Epoch 430/600\n",
      "32/32 [==============================] - 0s 2ms/step - loss: 586450816.0000\n",
      "Epoch 431/600\n",
      "32/32 [==============================] - 0s 2ms/step - loss: 586404544.0000\n",
      "Epoch 432/600\n",
      "32/32 [==============================] - 0s 2ms/step - loss: 584235840.0000\n",
      "Epoch 433/600\n",
      "32/32 [==============================] - 0s 2ms/step - loss: 592304320.0000\n",
      "Epoch 434/600\n",
      "32/32 [==============================] - 0s 2ms/step - loss: 583991616.0000\n",
      "Epoch 435/600\n",
      "32/32 [==============================] - 0s 2ms/step - loss: 576939968.0000\n",
      "Epoch 436/600\n",
      "32/32 [==============================] - 0s 2ms/step - loss: 565104000.0000\n",
      "Epoch 437/600\n",
      "32/32 [==============================] - 0s 2ms/step - loss: 568693248.0000\n",
      "Epoch 438/600\n",
      "32/32 [==============================] - 0s 2ms/step - loss: 585653952.0000\n",
      "Epoch 439/600\n",
      "32/32 [==============================] - 0s 2ms/step - loss: 579201408.0000\n",
      "Epoch 440/600\n",
      "32/32 [==============================] - 0s 2ms/step - loss: 586496512.0000\n",
      "Epoch 441/600\n",
      "32/32 [==============================] - 0s 2ms/step - loss: 724853056.0000\n",
      "Epoch 442/600\n",
      "32/32 [==============================] - 0s 2ms/step - loss: 592758912.0000\n",
      "Epoch 443/600\n",
      "32/32 [==============================] - 0s 2ms/step - loss: 637450432.0000\n",
      "Epoch 444/600\n",
      "32/32 [==============================] - 0s 2ms/step - loss: 588201536.0000\n",
      "Epoch 445/600\n",
      "32/32 [==============================] - 0s 2ms/step - loss: 583203520.0000\n",
      "Epoch 446/600\n",
      "32/32 [==============================] - 0s 2ms/step - loss: 584922240.0000\n",
      "Epoch 447/600\n",
      "32/32 [==============================] - 0s 2ms/step - loss: 563755904.0000\n",
      "Epoch 448/600\n"
     ]
    },
    {
     "name": "stdout",
     "output_type": "stream",
     "text": [
      "32/32 [==============================] - 0s 2ms/step - loss: 562147008.0000\n",
      "Epoch 449/600\n",
      "32/32 [==============================] - 0s 2ms/step - loss: 565600000.0000\n",
      "Epoch 450/600\n",
      "32/32 [==============================] - 0s 2ms/step - loss: 555534016.0000\n",
      "Epoch 451/600\n",
      "32/32 [==============================] - 0s 2ms/step - loss: 557777600.0000\n",
      "Epoch 452/600\n",
      "32/32 [==============================] - 0s 2ms/step - loss: 554209664.0000\n",
      "Epoch 453/600\n",
      "32/32 [==============================] - 0s 2ms/step - loss: 565337664.0000\n",
      "Epoch 454/600\n",
      "32/32 [==============================] - 0s 2ms/step - loss: 557888256.0000\n",
      "Epoch 455/600\n",
      "32/32 [==============================] - 0s 2ms/step - loss: 550495040.0000\n",
      "Epoch 456/600\n",
      "32/32 [==============================] - 0s 2ms/step - loss: 547936128.0000\n",
      "Epoch 457/600\n",
      "32/32 [==============================] - 0s 2ms/step - loss: 550564032.0000\n",
      "Epoch 458/600\n",
      "32/32 [==============================] - 0s 2ms/step - loss: 555661952.0000\n",
      "Epoch 459/600\n",
      "32/32 [==============================] - 0s 2ms/step - loss: 563718144.0000\n",
      "Epoch 460/600\n",
      "32/32 [==============================] - 0s 2ms/step - loss: 549875456.0000\n",
      "Epoch 461/600\n",
      "32/32 [==============================] - 0s 2ms/step - loss: 544365376.0000\n",
      "Epoch 462/600\n",
      "32/32 [==============================] - 0s 2ms/step - loss: 540552256.0000\n",
      "Epoch 463/600\n",
      "32/32 [==============================] - 0s 2ms/step - loss: 544253184.0000\n",
      "Epoch 464/600\n",
      "32/32 [==============================] - 0s 1ms/step - loss: 533328480.0000\n",
      "Epoch 465/600\n",
      "32/32 [==============================] - 0s 2ms/step - loss: 532992128.0000\n",
      "Epoch 466/600\n",
      "32/32 [==============================] - 0s 2ms/step - loss: 539406464.0000\n",
      "Epoch 467/600\n",
      "32/32 [==============================] - 0s 2ms/step - loss: 540786816.0000\n",
      "Epoch 468/600\n",
      "32/32 [==============================] - 0s 2ms/step - loss: 531704544.0000\n",
      "Epoch 469/600\n",
      "32/32 [==============================] - 0s 2ms/step - loss: 532070720.0000\n",
      "Epoch 470/600\n",
      "32/32 [==============================] - 0s 2ms/step - loss: 531118240.0000\n",
      "Epoch 471/600\n",
      "32/32 [==============================] - 0s 2ms/step - loss: 532427616.0000\n",
      "Epoch 472/600\n",
      "32/32 [==============================] - 0s 2ms/step - loss: 532923200.0000\n",
      "Epoch 473/600\n",
      "32/32 [==============================] - 0s 2ms/step - loss: 534276000.0000\n",
      "Epoch 474/600\n",
      "32/32 [==============================] - 0s 2ms/step - loss: 528487520.0000\n",
      "Epoch 475/600\n",
      "32/32 [==============================] - 0s 2ms/step - loss: 524974432.0000\n",
      "Epoch 476/600\n",
      "32/32 [==============================] - 0s 2ms/step - loss: 522077472.0000\n",
      "Epoch 477/600\n",
      "32/32 [==============================] - 0s 2ms/step - loss: 518749312.0000\n",
      "Epoch 478/600\n",
      "32/32 [==============================] - 0s 2ms/step - loss: 524046240.0000\n",
      "Epoch 479/600\n",
      "32/32 [==============================] - 0s 2ms/step - loss: 517151040.0000\n",
      "Epoch 480/600\n",
      "32/32 [==============================] - 0s 2ms/step - loss: 530599200.0000\n",
      "Epoch 481/600\n",
      "32/32 [==============================] - 0s 2ms/step - loss: 512728320.0000\n",
      "Epoch 482/600\n",
      "32/32 [==============================] - 0s 2ms/step - loss: 515435200.0000\n",
      "Epoch 483/600\n",
      "32/32 [==============================] - 0s 2ms/step - loss: 527877344.0000\n",
      "Epoch 484/600\n",
      "32/32 [==============================] - 0s 2ms/step - loss: 548505792.0000\n",
      "Epoch 485/600\n",
      "32/32 [==============================] - 0s 2ms/step - loss: 513721056.0000\n",
      "Epoch 486/600\n",
      "32/32 [==============================] - 0s 2ms/step - loss: 513637376.0000\n",
      "Epoch 487/600\n",
      "32/32 [==============================] - 0s 2ms/step - loss: 506510496.0000\n",
      "Epoch 488/600\n",
      "32/32 [==============================] - 0s 2ms/step - loss: 509978208.0000\n",
      "Epoch 489/600\n",
      "32/32 [==============================] - 0s 2ms/step - loss: 523357600.0000\n",
      "Epoch 490/600\n",
      "32/32 [==============================] - 0s 2ms/step - loss: 518241888.0000\n",
      "Epoch 491/600\n",
      "32/32 [==============================] - 0s 2ms/step - loss: 500172736.0000\n",
      "Epoch 492/600\n",
      "32/32 [==============================] - 0s 2ms/step - loss: 503484192.0000\n",
      "Epoch 493/600\n",
      "32/32 [==============================] - 0s 2ms/step - loss: 499552576.0000\n",
      "Epoch 494/600\n",
      "32/32 [==============================] - 0s 2ms/step - loss: 539878848.0000\n",
      "Epoch 495/600\n",
      "32/32 [==============================] - 0s 2ms/step - loss: 514847616.0000\n",
      "Epoch 496/600\n",
      "32/32 [==============================] - 0s 2ms/step - loss: 514947072.0000\n",
      "Epoch 497/600\n",
      "32/32 [==============================] - 0s 2ms/step - loss: 497076704.0000\n",
      "Epoch 498/600\n",
      "32/32 [==============================] - 0s 2ms/step - loss: 509305152.0000\n",
      "Epoch 499/600\n",
      "32/32 [==============================] - 0s 2ms/step - loss: 500463488.0000\n",
      "Epoch 500/600\n",
      "32/32 [==============================] - 0s 2ms/step - loss: 503845088.0000\n",
      "Epoch 501/600\n",
      "32/32 [==============================] - 0s 2ms/step - loss: 490172192.0000\n",
      "Epoch 502/600\n",
      "32/32 [==============================] - 0s 2ms/step - loss: 499756288.0000\n",
      "Epoch 503/600\n",
      " 1/32 [..............................] - ETA: 0s - loss: 305749184.0000\n",
      "Epoch 503: saving model to checkpoints\\weights.503.hdf5\n",
      "32/32 [==============================] - 0s 3ms/step - loss: 519861792.0000\n",
      "Epoch 504/600\n",
      "32/32 [==============================] - 0s 2ms/step - loss: 496150400.0000\n",
      "Epoch 505/600\n",
      "32/32 [==============================] - 0s 2ms/step - loss: 509164128.0000\n",
      "Epoch 506/600\n",
      "32/32 [==============================] - 0s 2ms/step - loss: 494806432.0000\n",
      "Epoch 507/600\n",
      "32/32 [==============================] - 0s 2ms/step - loss: 490950144.0000\n",
      "Epoch 508/600\n",
      "32/32 [==============================] - 0s 2ms/step - loss: 553714176.0000\n",
      "Epoch 509/600\n",
      "32/32 [==============================] - 0s 2ms/step - loss: 584822464.0000\n",
      "Epoch 510/600\n",
      "32/32 [==============================] - 0s 2ms/step - loss: 520628672.0000\n",
      "Epoch 511/600\n",
      "32/32 [==============================] - 0s 2ms/step - loss: 521195328.0000\n",
      "Epoch 512/600\n",
      "32/32 [==============================] - 0s 2ms/step - loss: 492652256.0000\n",
      "Epoch 513/600\n",
      "32/32 [==============================] - 0s 2ms/step - loss: 487665120.0000\n",
      "Epoch 514/600\n",
      "32/32 [==============================] - 0s 2ms/step - loss: 494002880.0000\n",
      "Epoch 515/600\n",
      "32/32 [==============================] - 0s 2ms/step - loss: 478743712.0000\n",
      "Epoch 516/600\n",
      "32/32 [==============================] - 0s 2ms/step - loss: 478827776.0000\n",
      "Epoch 517/600\n",
      "32/32 [==============================] - 0s 2ms/step - loss: 479923872.0000\n",
      "Epoch 518/600\n",
      "32/32 [==============================] - 0s 2ms/step - loss: 478516704.0000\n",
      "Epoch 519/600\n",
      "32/32 [==============================] - 0s 2ms/step - loss: 478314176.0000\n",
      "Epoch 520/600\n",
      "32/32 [==============================] - 0s 2ms/step - loss: 470121504.0000\n",
      "Epoch 521/600\n",
      "32/32 [==============================] - 0s 2ms/step - loss: 468619616.0000\n",
      "Epoch 522/600\n",
      "32/32 [==============================] - 0s 2ms/step - loss: 474100416.0000\n",
      "Epoch 523/600\n",
      "32/32 [==============================] - 0s 2ms/step - loss: 476021088.0000\n",
      "Epoch 524/600\n",
      "32/32 [==============================] - 0s 2ms/step - loss: 467075904.0000\n",
      "Epoch 525/600\n",
      "32/32 [==============================] - 0s 2ms/step - loss: 471669184.0000\n",
      "Epoch 526/600\n",
      "32/32 [==============================] - 0s 2ms/step - loss: 475826688.0000\n",
      "Epoch 527/600\n",
      "32/32 [==============================] - 0s 2ms/step - loss: 461159008.0000\n",
      "Epoch 528/600\n",
      "32/32 [==============================] - 0s 2ms/step - loss: 463911488.0000\n",
      "Epoch 529/600\n",
      "32/32 [==============================] - 0s 2ms/step - loss: 470397728.0000\n",
      "Epoch 530/600\n",
      "32/32 [==============================] - 0s 2ms/step - loss: 478697120.0000\n",
      "Epoch 531/600\n",
      "32/32 [==============================] - 0s 2ms/step - loss: 488583552.0000\n",
      "Epoch 532/600\n",
      "32/32 [==============================] - 0s 2ms/step - loss: 463319456.0000\n",
      "Epoch 533/600\n",
      "32/32 [==============================] - 0s 2ms/step - loss: 463865792.0000\n",
      "Epoch 534/600\n",
      "32/32 [==============================] - 0s 2ms/step - loss: 471588448.0000\n",
      "Epoch 535/600\n",
      "32/32 [==============================] - 0s 2ms/step - loss: 459771936.0000\n",
      "Epoch 536/600\n",
      "32/32 [==============================] - 0s 2ms/step - loss: 457781472.0000\n",
      "Epoch 537/600\n"
     ]
    },
    {
     "name": "stdout",
     "output_type": "stream",
     "text": [
      "32/32 [==============================] - 0s 2ms/step - loss: 454413696.0000\n",
      "Epoch 538/600\n",
      "32/32 [==============================] - 0s 2ms/step - loss: 464254848.0000\n",
      "Epoch 539/600\n",
      "32/32 [==============================] - 0s 2ms/step - loss: 456182944.0000\n",
      "Epoch 540/600\n",
      "32/32 [==============================] - 0s 2ms/step - loss: 457667264.0000\n",
      "Epoch 541/600\n",
      "32/32 [==============================] - 0s 2ms/step - loss: 448094080.0000\n",
      "Epoch 542/600\n",
      "32/32 [==============================] - 0s 2ms/step - loss: 450709120.0000\n",
      "Epoch 543/600\n",
      "32/32 [==============================] - 0s 2ms/step - loss: 467754080.0000\n",
      "Epoch 544/600\n",
      "32/32 [==============================] - 0s 2ms/step - loss: 465959616.0000\n",
      "Epoch 545/600\n",
      "32/32 [==============================] - 0s 2ms/step - loss: 452405952.0000\n",
      "Epoch 546/600\n",
      "32/32 [==============================] - 0s 2ms/step - loss: 455222816.0000\n",
      "Epoch 547/600\n",
      "32/32 [==============================] - 0s 2ms/step - loss: 455744768.0000\n",
      "Epoch 548/600\n",
      "32/32 [==============================] - 0s 2ms/step - loss: 447746816.0000\n",
      "Epoch 549/600\n",
      "32/32 [==============================] - 0s 2ms/step - loss: 478169536.0000\n",
      "Epoch 550/600\n",
      "32/32 [==============================] - 0s 2ms/step - loss: 456381216.0000\n",
      "Epoch 551/600\n",
      "32/32 [==============================] - 0s 2ms/step - loss: 440266848.0000\n",
      "Epoch 552/600\n",
      "32/32 [==============================] - 0s 2ms/step - loss: 449965088.0000\n",
      "Epoch 553/600\n",
      "32/32 [==============================] - 0s 2ms/step - loss: 446184768.0000\n",
      "Epoch 554/600\n",
      "32/32 [==============================] - 0s 2ms/step - loss: 447154912.0000\n",
      "Epoch 555/600\n",
      "32/32 [==============================] - 0s 2ms/step - loss: 459478816.0000\n",
      "Epoch 556/600\n",
      "32/32 [==============================] - 0s 2ms/step - loss: 456777664.0000\n",
      "Epoch 557/600\n",
      "32/32 [==============================] - 0s 2ms/step - loss: 459820800.0000\n",
      "Epoch 558/600\n",
      "32/32 [==============================] - 0s 2ms/step - loss: 446964320.0000\n",
      "Epoch 559/600\n",
      "32/32 [==============================] - 0s 2ms/step - loss: 447517472.0000\n",
      "Epoch 560/600\n",
      "32/32 [==============================] - 0s 2ms/step - loss: 435868544.0000\n",
      "Epoch 561/600\n",
      "32/32 [==============================] - 0s 2ms/step - loss: 441836000.0000\n",
      "Epoch 562/600\n",
      "32/32 [==============================] - 0s 2ms/step - loss: 437070880.0000\n",
      "Epoch 563/600\n",
      "32/32 [==============================] - 0s 2ms/step - loss: 430427712.0000\n",
      "Epoch 564/600\n",
      "32/32 [==============================] - 0s 2ms/step - loss: 438778496.0000\n",
      "Epoch 565/600\n",
      "32/32 [==============================] - 0s 2ms/step - loss: 428756288.0000\n",
      "Epoch 566/600\n",
      "32/32 [==============================] - 0s 2ms/step - loss: 428572160.0000\n",
      "Epoch 567/600\n",
      "32/32 [==============================] - 0s 2ms/step - loss: 427694816.0000\n",
      "Epoch 568/600\n",
      "32/32 [==============================] - 0s 2ms/step - loss: 427718080.0000\n",
      "Epoch 569/600\n",
      "32/32 [==============================] - 0s 2ms/step - loss: 433565632.0000\n",
      "Epoch 570/600\n",
      "32/32 [==============================] - 0s 2ms/step - loss: 428603072.0000\n",
      "Epoch 571/600\n",
      "32/32 [==============================] - 0s 2ms/step - loss: 426553824.0000\n",
      "Epoch 572/600\n",
      "32/32 [==============================] - 0s 2ms/step - loss: 424740000.0000\n",
      "Epoch 573/600\n",
      "32/32 [==============================] - 0s 2ms/step - loss: 419601856.0000\n",
      "Epoch 574/600\n",
      "32/32 [==============================] - 0s 2ms/step - loss: 418492608.0000\n",
      "Epoch 575/600\n",
      "32/32 [==============================] - 0s 2ms/step - loss: 425135520.0000\n",
      "Epoch 576/600\n",
      "32/32 [==============================] - 0s 2ms/step - loss: 419863232.0000\n",
      "Epoch 577/600\n",
      "32/32 [==============================] - 0s 2ms/step - loss: 430977024.0000\n",
      "Epoch 578/600\n",
      "32/32 [==============================] - 0s 2ms/step - loss: 420046496.0000\n",
      "Epoch 579/600\n",
      "32/32 [==============================] - 0s 2ms/step - loss: 415113440.0000\n",
      "Epoch 580/600\n",
      "32/32 [==============================] - 0s 2ms/step - loss: 415120128.0000\n",
      "Epoch 581/600\n",
      "32/32 [==============================] - 0s 2ms/step - loss: 415508640.0000\n",
      "Epoch 582/600\n",
      "32/32 [==============================] - 0s 2ms/step - loss: 423791008.0000\n",
      "Epoch 583/600\n",
      "32/32 [==============================] - 0s 2ms/step - loss: 416783904.0000\n",
      "Epoch 584/600\n",
      "32/32 [==============================] - 0s 2ms/step - loss: 448332640.0000\n",
      "Epoch 585/600\n",
      "32/32 [==============================] - 0s 2ms/step - loss: 451971232.0000\n",
      "Epoch 586/600\n",
      "32/32 [==============================] - 0s 2ms/step - loss: 459864064.0000\n",
      "Epoch 587/600\n",
      "32/32 [==============================] - 0s 2ms/step - loss: 418562880.0000\n",
      "Epoch 588/600\n",
      "32/32 [==============================] - 0s 2ms/step - loss: 413400704.0000\n",
      "Epoch 589/600\n",
      "32/32 [==============================] - 0s 2ms/step - loss: 428903776.0000\n",
      "Epoch 590/600\n",
      "32/32 [==============================] - 0s 2ms/step - loss: 412265696.0000\n",
      "Epoch 591/600\n",
      "32/32 [==============================] - 0s 2ms/step - loss: 426819744.0000\n",
      "Epoch 592/600\n",
      "32/32 [==============================] - 0s 2ms/step - loss: 421742784.0000\n",
      "Epoch 593/600\n",
      "32/32 [==============================] - 0s 2ms/step - loss: 410171488.0000\n",
      "Epoch 594/600\n",
      "32/32 [==============================] - 0s 2ms/step - loss: 409555200.0000\n",
      "Epoch 595/600\n",
      "32/32 [==============================] - 0s 2ms/step - loss: 404624544.0000\n",
      "Epoch 596/600\n",
      "32/32 [==============================] - 0s 2ms/step - loss: 409175712.0000\n",
      "Epoch 597/600\n",
      "32/32 [==============================] - 0s 2ms/step - loss: 474757152.0000\n",
      "Epoch 598/600\n",
      "32/32 [==============================] - 0s 2ms/step - loss: 407196160.0000\n",
      "Epoch 599/600\n",
      "32/32 [==============================] - 0s 2ms/step - loss: 408575456.0000\n",
      "Epoch 600/600\n",
      "32/32 [==============================] - 0s 2ms/step - loss: 411349120.0000\n"
     ]
    }
   ],
   "source": [
    "fit_model = nn.fit(X_train_scaled, y_train, epochs=600,callbacks=[cp_callback])"
   ]
  },
  {
   "cell_type": "code",
   "execution_count": 582,
   "id": "213faa35",
   "metadata": {},
   "outputs": [
    {
     "name": "stdout",
     "output_type": "stream",
     "text": [
      "11/11 - 0s - loss: 2423761920.0000 - 134ms/epoch - 12ms/step\n",
      "Loss on the Test Dataset: 2423761920.0\n"
     ]
    }
   ],
   "source": [
    "model_loss = nn.evaluate(X_test_scaled,y_test,verbose=2)\n",
    "print(f\"Loss on the Test Dataset: {model_loss}\")"
   ]
  },
  {
   "cell_type": "code",
   "execution_count": 583,
   "id": "670b818e",
   "metadata": {},
   "outputs": [],
   "source": [
    "t = np.arange(0,max(predictions),100)"
   ]
  },
  {
   "cell_type": "code",
   "execution_count": 584,
   "id": "5acf694d",
   "metadata": {},
   "outputs": [
    {
     "name": "stdout",
     "output_type": "stream",
     "text": [
      "32/32 [==============================] - 0s 1ms/step\n"
     ]
    },
    {
     "data": {
      "image/png": "[encoded data removed]",
      "text/plain": [
       "<Figure size 432x288 with 1 Axes>"
      ]
     },
     "metadata": {
      "needs_background": "light"
     },
     "output_type": "display_data"
    }
   ],
   "source": [
    "predictions = nn.predict(X_train_scaled)\n",
    "plt.scatter(y_train,predictions)\n",
    "plt.plot(t,t)\n",
    "plt.xlabel('y_train')\n",
    "plt.ylabel('Prediction')\n",
    "plt.show()"
   ]
  },
  {
   "cell_type": "code",
   "execution_count": 585,
   "id": "c47b690b",
   "metadata": {},
   "outputs": [
    {
     "name": "stdout",
     "output_type": "stream",
     "text": [
      "11/11 [==============================] - 0s 1ms/step\n"
     ]
    },
    {
     "data": {
      "image/png": "[encoded data removed]",
      "text/plain": [
       "<Figure size 432x288 with 1 Axes>"
      ]
     },
     "metadata": {
      "needs_background": "light"
     },
     "output_type": "display_data"
    }
   ],
   "source": [
    "predictions = nn.predict(X_test_scaled)\n",
    "plt.scatter(y_test,predictions)\n",
    "plt.plot(t,t)\n",
    "plt.xlabel('y_test')\n",
    "plt.ylabel('Prediction')\n",
    "plt.show()"
   ]
  },
  {
   "cell_type": "markdown",
   "id": "dc37a14b",
   "metadata": {},
   "source": [
    "# Adding RandomForestRegressor\n",
    "from scikit learn"
   ]
  },
  {
   "cell_type": "code",
   "execution_count": 586,
   "id": "4b2b1cb7",
   "metadata": {},
   "outputs": [
    {
     "data": {
      "text/plain": [
       "RandomForestRegressor()"
      ]
     },
     "execution_count": 586,
     "metadata": {},
     "output_type": "execute_result"
    }
   ],
   "source": [
    "# regr = RandomForestRegressor(n_estimators=500,max_depth=100, random_state=0)\n",
    "regr = RandomForestRegressor()\n",
    "\n",
    "regr.fit(X_train_scaled, y_train)"
   ]
  },
  {
   "cell_type": "code",
   "execution_count": 587,
   "id": "b169b1f0",
   "metadata": {},
   "outputs": [
    {
     "name": "stdout",
     "output_type": "stream",
     "text": [
      "Loss on the test dataset using RandomForestRegressor: 1087392947.734357\n"
     ]
    },
    {
     "data": {
      "image/png": "[encoded data removed]",
      "text/plain": [
       "<Figure size 432x288 with 1 Axes>"
      ]
     },
     "metadata": {
      "needs_background": "light"
     },
     "output_type": "display_data"
    }
   ],
   "source": [
    "\n",
    "predictions = regr.predict(X_test_scaled)\n",
    "print(f'Loss on the test dataset using RandomForestRegressor: {mean_squared_error(y_test, predictions)}')\n",
    "plt.scatter(y_test,predictions)\n",
    "plt.plot(t,t)\n",
    "plt.xlabel('y_test')\n",
    "plt.ylabel('Prediction')\n",
    "plt.show()#"
   ]
  },
  {
   "cell_type": "markdown",
   "id": "cd427b24",
   "metadata": {},
   "source": [
    "## This part checks for feature importance"
   ]
  },
  {
   "cell_type": "code",
   "execution_count": 467,
   "id": "d4cd7b44",
   "metadata": {},
   "outputs": [],
   "source": [
    "# regr.feature_importances_"
   ]
  },
  {
   "cell_type": "markdown",
   "id": "b5c47388",
   "metadata": {},
   "source": [
    "## Next section plots sorted feature importance  ( only TOP 15 important Features)"
   ]
  },
  {
   "cell_type": "code",
   "execution_count": 468,
   "id": "3d9f0761",
   "metadata": {},
   "outputs": [
    {
     "data": {
      "text/plain": [
       "<AxesSubplot:>"
      ]
     },
     "execution_count": 468,
     "metadata": {},
     "output_type": "execute_result"
    },
    {
     "data": {
      "image/png": "[encoded data removed]",
      "text/plain": [
       "<Figure size 1080x432 with 1 Axes>"
      ]
     },
     "metadata": {
      "needs_background": "light"
     },
     "output_type": "display_data"
    }
   ],
   "source": [
    "feats = {} # a dict to hold feature_name: feature_importance\n",
    "for feature, importance in zip(X.columns, regr.feature_importances_):\n",
    "    feats[feature] = importance #add the name/value pair \n",
    "\n",
    "importances = pd.DataFrame.from_dict(feats, orient='index').rename(columns={0: 'Gini-importance'})\n",
    "importances.sort_values(by='Gini-importance',ascending = False).head(15).plot(kind='bar', rot=60,figsize=(15,6))"
   ]
  },
  {
   "cell_type": "code",
   "execution_count": null,
   "id": "2ccefd55",
   "metadata": {},
   "outputs": [],
   "source": []
  },
  {
   "cell_type": "code",
   "execution_count": null,
   "id": "cccd4036",
   "metadata": {},
   "outputs": [],
   "source": []
  }
 ],
 "metadata": {
  "kernelspec": {
   "display_name": "mlenv",
   "language": "python",
   "name": "mlenv"
  },
  "language_info": {
   "codemirror_mode": {
    "name": "ipython",
    "version": 3
   },
   "file_extension": ".py",
   "mimetype": "text/x-python",
   "name": "python",
   "nbconvert_exporter": "python",
   "pygments_lexer": "ipython3",
   "version": "3.7.13"
  }
 },
 "nbformat": 4,
 "nbformat_minor": 5
}
